{
  "cells": [
    {
      "cell_type": "markdown",
      "metadata": {
        "id": "view-in-github",
        "colab_type": "text"
      },
      "source": [
        "<a href=\"https://colab.research.google.com/github/bliuzley13/CSE176-Intro-to-Machine-Learning/blob/main/CSE176_Lab_5_Introduction_to_PyTorch.ipynb\" target=\"_parent\"><img src=\"https://colab.research.google.com/assets/colab-badge.svg\" alt=\"Open In Colab\"/></a>"
      ]
    },
    {
      "cell_type": "markdown",
      "metadata": {
        "id": "2xW2aq3cDv4l"
      },
      "source": [
        "##Lab 5: Introduction to PyTorch\n",
        "\n",
        "Related lecture: https://ucmercedcse176.github.io/files/lecture_9.pdf\n",
        "\n",
        "Credit:  [Phillip Lippe](https://phlippe.github.io/)\n",
        "\n",
        "In this lab, you will get familiar with PyTorch and implement, train and evaluate a neural network for XOR function.\n"
      ]
    },
    {
      "cell_type": "markdown",
      "metadata": {
        "id": "53aAQV8pDv4m"
      },
      "source": [
        "The following notebook is meant to give a short introduction to PyTorch basics, and get you setup for writing your own neural networks. PyTorch is an open source machine learning framework that allows you to write your own neural networks and optimize them efficiently. However, PyTorch is not the only framework of its kind. Alternatives to PyTorch include [TensorFlow](https://www.tensorflow.org/), [JAX](https://github.com/google/jax#quickstart-colab-in-the-cloud) and [Caffe](http://caffe.berkeleyvision.org/). We choose to teach PyTorch because it is well established, has a huge developer community (originally developed by Facebook), is very flexible and especially used in research. Many current papers publish their code in PyTorch, and thus it is good to be familiar with PyTorch as well.\n",
        "Meanwhile, TensorFlow (developed by Google) is usually known for being a production-grade deep learning library. Still, if you know one machine learning framework in depth, it is very easy to learn another one because many of them use the same concepts and ideas. For instance, TensorFlow's version 2 was heavily inspired by the most popular features of PyTorch, making the frameworks even more similar."
      ]
    },
    {
      "cell_type": "code",
      "execution_count": null,
      "metadata": {
        "id": "dCHt2faMDv4n",
        "colab": {
          "base_uri": "https://localhost:8080/"
        },
        "outputId": "69891330-9b90-4789-dbb1-aa4d1f16203a"
      },
      "outputs": [
        {
          "output_type": "stream",
          "name": "stderr",
          "text": [
            "<ipython-input-1-ef889392170e>:11: DeprecationWarning: `set_matplotlib_formats` is deprecated since IPython 7.23, directly use `matplotlib_inline.backend_inline.set_matplotlib_formats()`\n",
            "  set_matplotlib_formats('svg', 'pdf') # For export\n"
          ]
        }
      ],
      "source": [
        "## Standard libraries\n",
        "import os\n",
        "import math\n",
        "import numpy as np\n",
        "import time\n",
        "\n",
        "## Imports for plotting\n",
        "import matplotlib.pyplot as plt\n",
        "%matplotlib inline\n",
        "from IPython.display import set_matplotlib_formats\n",
        "set_matplotlib_formats('svg', 'pdf') # For export\n",
        "from matplotlib.colors import to_rgba\n",
        "import seaborn as sns\n",
        "sns.set()\n",
        "\n",
        "## Progress bar\n",
        "from tqdm.notebook import tqdm"
      ]
    },
    {
      "cell_type": "markdown",
      "metadata": {
        "id": "9fCqqD95Dv4o"
      },
      "source": [
        "## The Basics of PyTorch\n",
        "\n",
        "We will start with reviewing the very basic concepts of PyTorch. As a prerequisite, we recommend to be familiar with the `numpy` package as most machine learning frameworks are based on very similar concepts. If you are not familiar with numpy yet, don't worry: here is a [tutorial](https://numpy.org/devdocs/user/quickstart.html) to go through.\n",
        "\n",
        "So, let's start with importing PyTorch. The package is called `torch`, based on its original framework [Torch](http://torch.ch/). As a first step, we can check its version:"
      ]
    },
    {
      "cell_type": "code",
      "execution_count": null,
      "metadata": {
        "id": "PK7vF0TEDv4o",
        "colab": {
          "base_uri": "https://localhost:8080/"
        },
        "outputId": "c77271f2-481b-404a-a29e-bd2d3e4c2aeb"
      },
      "outputs": [
        {
          "output_type": "stream",
          "name": "stdout",
          "text": [
            "Using torch 2.5.0+cu121\n"
          ]
        }
      ],
      "source": [
        "import torch\n",
        "print(\"Using torch\", torch.__version__)"
      ]
    },
    {
      "cell_type": "markdown",
      "metadata": {
        "id": "gSCT6pOnDv4o"
      },
      "source": [
        "At the time of writing this tutorial (end of October 2024), the current stable version is 2.4.1. You should therefore see the output `Using torch 2.4.1`, eventually with some extension for the CUDA version on Colab. In general, it is recommended to keep the PyTorch version updated to the newest one. If you see a lower version number than 2.0, make sure you have installed the correct environment, or ask one of your TAs. In case PyTorch 2.4 or newer will be published during the time of the course, don't worry. The interface between PyTorch versions doesn't change too much, and hence all code should also be runnable with newer versions.\n",
        "\n",
        "As in every machine learning framework, PyTorch provides functions that are stochastic like generating random numbers. However, a very good practice is to setup your code to be reproducible with the exact same random numbers. This is why we set a seed below."
      ]
    },
    {
      "cell_type": "code",
      "execution_count": null,
      "metadata": {
        "id": "9dwo7wm5Dv4p",
        "colab": {
          "base_uri": "https://localhost:8080/"
        },
        "outputId": "ca7221a7-4eeb-4b8c-9273-84efaae94ff4"
      },
      "outputs": [
        {
          "output_type": "execute_result",
          "data": {
            "text/plain": [
              "<torch._C.Generator at 0x7966d3469c50>"
            ]
          },
          "metadata": {},
          "execution_count": 3
        }
      ],
      "source": [
        "torch.manual_seed(42) # Setting the seed"
      ]
    },
    {
      "cell_type": "markdown",
      "metadata": {
        "id": "kwp5VkF3Dv4p"
      },
      "source": [
        "### Tensors\n",
        "\n",
        "Tensors are the PyTorch equivalent to Numpy arrays, with the addition to also have support for GPU acceleration (more on that later).\n",
        "The name \"tensor\" is a generalization of concepts you already know. For instance, a vector is a 1-D tensor, and a matrix a 2-D tensor. When working with neural networks, we will use tensors of various shapes and number of dimensions.\n",
        "\n",
        "Most common functions you know from numpy can be used on tensors as well. Actually, since numpy arrays are so similar to tensors, we can convert most tensors to numpy arrays (and back) but we don't need it too often.\n",
        "\n",
        "#### Initialization\n",
        "\n",
        "Let's first start by looking at different ways of creating a tensor. There are many possible options, the simplest one is to call `torch.Tensor` passing the desired shape as input argument:"
      ]
    },
    {
      "cell_type": "code",
      "execution_count": null,
      "metadata": {
        "id": "g9lFBMo-Dv4p",
        "colab": {
          "base_uri": "https://localhost:8080/"
        },
        "outputId": "1a712fb9-29b8-4024-98b8-122195248be8"
      },
      "outputs": [
        {
          "output_type": "stream",
          "name": "stdout",
          "text": [
            "tensor([[[4.4436e-17, 4.3551e-41, 4.4436e-17, 4.3551e-41],\n",
            "         [2.9589e+21, 6.4529e-04, 1.3563e-19, 1.3563e-19],\n",
            "         [4.7418e+30, 1.2120e+25, 2.7915e+20, 1.2734e-14]],\n",
            "\n",
            "        [[1.8617e+25, 4.1209e+21, 7.5571e+31, 6.4530e-04],\n",
            "         [1.3563e-19, 1.3563e-19, 1.3563e-19, 2.7082e+23],\n",
            "         [7.4937e+31, 1.7749e+28, 7.1447e+31, 3.9172e-02]]])\n"
          ]
        }
      ],
      "source": [
        "x = torch.Tensor(2, 3, 4)\n",
        "print(x)"
      ]
    },
    {
      "cell_type": "markdown",
      "metadata": {
        "id": "ztBZb0bjDv4p"
      },
      "source": [
        "The function `torch.Tensor` allocates memory for the desired tensor, but reuses any values that have already been in the memory. To directly assign values to the tensor during initialization, there are many alternatives including:\n",
        "\n",
        "* `torch.zeros`: Creates a tensor filled with zeros\n",
        "* `torch.ones`: Creates a tensor filled with ones\n",
        "* `torch.rand`: Creates a tensor with random values uniformly sampled between 0 and 1\n",
        "* `torch.randn`: Creates a tensor with random values sampled from a normal distribution with mean 0 and variance 1\n",
        "* `torch.arange`: Creates a tensor containing the values $N,N+1,N+2,...,M$\n",
        "* `torch.Tensor` (input list): Creates a tensor from the list elements you provide"
      ]
    },
    {
      "cell_type": "code",
      "execution_count": null,
      "metadata": {
        "id": "ufCk4EaHDv4p",
        "colab": {
          "base_uri": "https://localhost:8080/"
        },
        "outputId": "ab299b4c-35c1-4bb5-d6a9-5a39fe128fcb"
      },
      "outputs": [
        {
          "output_type": "stream",
          "name": "stdout",
          "text": [
            "tensor([[1., 2.],\n",
            "        [3., 4.]])\n"
          ]
        }
      ],
      "source": [
        "# Create a tensor from a (nested) list\n",
        "x = torch.Tensor([[1, 2], [3, 4]])\n",
        "print(x)"
      ]
    },
    {
      "cell_type": "code",
      "execution_count": null,
      "metadata": {
        "id": "gwiQY2ODDv4q",
        "colab": {
          "base_uri": "https://localhost:8080/"
        },
        "outputId": "4975c6b8-0fc2-4e70-8386-f342ca277730"
      },
      "outputs": [
        {
          "output_type": "stream",
          "name": "stdout",
          "text": [
            "tensor([[[0.8823, 0.9150, 0.3829, 0.9593],\n",
            "         [0.3904, 0.6009, 0.2566, 0.7936],\n",
            "         [0.9408, 0.1332, 0.9346, 0.5936]],\n",
            "\n",
            "        [[0.8694, 0.5677, 0.7411, 0.4294],\n",
            "         [0.8854, 0.5739, 0.2666, 0.6274],\n",
            "         [0.2696, 0.4414, 0.2969, 0.8317]]])\n"
          ]
        }
      ],
      "source": [
        "# Create a tensor with random values between 0 and 1 with the shape [2, 3, 4]\n",
        "x = torch.rand(2, 3, 4)\n",
        "print(x)"
      ]
    },
    {
      "cell_type": "markdown",
      "metadata": {
        "id": "zwILTaY-Dv4q"
      },
      "source": [
        "You can obtain the shape of a tensor in the same way as in numpy (`x.shape`), or using the `.size` method:"
      ]
    },
    {
      "cell_type": "code",
      "execution_count": null,
      "metadata": {
        "id": "eTbVegaSDv4q",
        "colab": {
          "base_uri": "https://localhost:8080/"
        },
        "outputId": "b85a8f78-2f49-4b52-b091-b0ad7f36747b"
      },
      "outputs": [
        {
          "output_type": "stream",
          "name": "stdout",
          "text": [
            "Shape: torch.Size([2, 3, 4])\n",
            "Size: torch.Size([2, 3, 4])\n",
            "Size: 2 3 4\n"
          ]
        }
      ],
      "source": [
        "shape = x.shape\n",
        "print(\"Shape:\", x.shape)\n",
        "\n",
        "size = x.size()\n",
        "print(\"Size:\", size)\n",
        "\n",
        "dim1, dim2, dim3 = x.size()\n",
        "print(\"Size:\", dim1, dim2, dim3)"
      ]
    },
    {
      "cell_type": "markdown",
      "metadata": {
        "id": "MAee23ULDv4q"
      },
      "source": [
        "#### Tensor to Numpy, and Numpy to Tensor\n",
        "\n",
        "Tensors can be converted to numpy arrays, and numpy arrays back to tensors. To transform a numpy array into a tensor, we can use the function `torch.from_numpy`:"
      ]
    },
    {
      "cell_type": "code",
      "execution_count": null,
      "metadata": {
        "id": "l0HEkNQLDv4q",
        "colab": {
          "base_uri": "https://localhost:8080/"
        },
        "outputId": "bc24c40a-0b38-4303-f9bb-affab6573baa"
      },
      "outputs": [
        {
          "output_type": "stream",
          "name": "stdout",
          "text": [
            "Numpy array: [[1 2]\n",
            " [3 4]]\n",
            "PyTorch tensor: tensor([[1, 2],\n",
            "        [3, 4]])\n"
          ]
        }
      ],
      "source": [
        "np_arr = np.array([[1, 2], [3, 4]])\n",
        "tensor = torch.from_numpy(np_arr)\n",
        "\n",
        "print(\"Numpy array:\", np_arr)\n",
        "print(\"PyTorch tensor:\", tensor)"
      ]
    },
    {
      "cell_type": "markdown",
      "metadata": {
        "id": "4Aa7npsDDv4q"
      },
      "source": [
        "To transform a PyTorch tensor back to a numpy array, we can use the function `.numpy()` on tensors:"
      ]
    },
    {
      "cell_type": "code",
      "execution_count": null,
      "metadata": {
        "id": "-0EagqRGDv4q",
        "colab": {
          "base_uri": "https://localhost:8080/"
        },
        "outputId": "9d769216-4b56-489e-90ca-2a47739b8209"
      },
      "outputs": [
        {
          "output_type": "stream",
          "name": "stdout",
          "text": [
            "PyTorch tensor: tensor([0, 1, 2, 3])\n",
            "Numpy array: [0 1 2 3]\n"
          ]
        }
      ],
      "source": [
        "tensor = torch.arange(4)\n",
        "np_arr = tensor.numpy()\n",
        "\n",
        "print(\"PyTorch tensor:\", tensor)\n",
        "print(\"Numpy array:\", np_arr)"
      ]
    },
    {
      "cell_type": "markdown",
      "metadata": {
        "id": "kRAB8O29Dv4q"
      },
      "source": [
        "The conversion of tensors to numpy require the tensor to be on the CPU, and not the GPU (more on GPU support in a later section). In case you have a tensor on GPU, you need to call `.cpu()` on the tensor beforehand. Hence, you get a line like `np_arr = tensor.cpu().numpy()`."
      ]
    },
    {
      "cell_type": "markdown",
      "metadata": {
        "id": "1JsFqn1ADv4q"
      },
      "source": [
        "#### Operations\n",
        "\n",
        "Most operations that exist in numpy, also exist in PyTorch. A full list of operations can be found in the [PyTorch documentation](https://pytorch.org/docs/stable/tensors.html#), but we will review the most important ones here.\n",
        "\n",
        "The simplest operation is to add two tensors:"
      ]
    },
    {
      "cell_type": "code",
      "execution_count": null,
      "metadata": {
        "id": "fyeN-HHvDv4q",
        "colab": {
          "base_uri": "https://localhost:8080/"
        },
        "outputId": "284e9fe2-ae0f-4ac7-b68f-db65b6acb10f"
      },
      "outputs": [
        {
          "output_type": "stream",
          "name": "stdout",
          "text": [
            "X1 tensor([[0.1053, 0.2695, 0.3588],\n",
            "        [0.1994, 0.5472, 0.0062]])\n",
            "X2 tensor([[0.9516, 0.0753, 0.8860],\n",
            "        [0.5832, 0.3376, 0.8090]])\n",
            "Y tensor([[1.0569, 0.3448, 1.2448],\n",
            "        [0.7826, 0.8848, 0.8151]])\n"
          ]
        }
      ],
      "source": [
        "x1 = torch.rand(2, 3)\n",
        "x2 = torch.rand(2, 3)\n",
        "y = x1 + x2\n",
        "\n",
        "print(\"X1\", x1)\n",
        "print(\"X2\", x2)\n",
        "print(\"Y\", y)"
      ]
    },
    {
      "cell_type": "markdown",
      "metadata": {
        "id": "n825d8UFDv4q"
      },
      "source": [
        "Calling `x1 + x2` creates a new tensor containing the sum of the two inputs. However, we can also use in-place operations that are applied directly on the memory of a tensor. We therefore change the values of `x2` without the chance to re-accessing the values of `x2` before the operation. An example is shown below:"
      ]
    },
    {
      "cell_type": "code",
      "execution_count": null,
      "metadata": {
        "id": "a_gKxV3iDv4q",
        "colab": {
          "base_uri": "https://localhost:8080/"
        },
        "outputId": "2a758cc0-2f8d-431a-b4a1-10c898732c61"
      },
      "outputs": [
        {
          "output_type": "stream",
          "name": "stdout",
          "text": [
            "X1 (before) tensor([[0.5779, 0.9040, 0.5547],\n",
            "        [0.3423, 0.6343, 0.3644]])\n",
            "X2 (before) tensor([[0.7104, 0.9464, 0.7890],\n",
            "        [0.2814, 0.7886, 0.5895]])\n",
            "X1 (after) tensor([[0.5779, 0.9040, 0.5547],\n",
            "        [0.3423, 0.6343, 0.3644]])\n",
            "X2 (after) tensor([[1.2884, 1.8504, 1.3437],\n",
            "        [0.6237, 1.4230, 0.9539]])\n"
          ]
        }
      ],
      "source": [
        "x1 = torch.rand(2, 3)\n",
        "x2 = torch.rand(2, 3)\n",
        "print(\"X1 (before)\", x1)\n",
        "print(\"X2 (before)\", x2)\n",
        "\n",
        "x2.add_(x1)\n",
        "print(\"X1 (after)\", x1)\n",
        "print(\"X2 (after)\", x2)"
      ]
    },
    {
      "cell_type": "markdown",
      "metadata": {
        "id": "tx2E4J4tDv4q"
      },
      "source": [
        "In-place operations are usually marked with a underscore postfix (e.g. \"add_\" instead of \"add\").\n",
        "\n",
        "Another common operation aims at changing the shape of a tensor. A tensor of size (2,3) can be re-organized to any other shape with the same number of elements (e.g. a tensor of size (6), or (3,2), ...). In PyTorch, this operation is called `view`:"
      ]
    },
    {
      "cell_type": "code",
      "execution_count": null,
      "metadata": {
        "id": "FlMF8OM_Dv4q",
        "colab": {
          "base_uri": "https://localhost:8080/"
        },
        "outputId": "3cdfd79f-c8b5-4647-fda8-05938d7c5249"
      },
      "outputs": [
        {
          "output_type": "stream",
          "name": "stdout",
          "text": [
            "X tensor([0, 1, 2, 3, 4, 5])\n"
          ]
        }
      ],
      "source": [
        "x = torch.arange(6)\n",
        "print(\"X\", x)"
      ]
    },
    {
      "cell_type": "code",
      "execution_count": null,
      "metadata": {
        "id": "h_sZvkgnDv4r",
        "colab": {
          "base_uri": "https://localhost:8080/"
        },
        "outputId": "e11e9789-5e31-4010-c01b-ee5759efb3bf"
      },
      "outputs": [
        {
          "output_type": "stream",
          "name": "stdout",
          "text": [
            "X tensor([[0, 1, 2],\n",
            "        [3, 4, 5]])\n"
          ]
        }
      ],
      "source": [
        "x = x.view(2, 3)\n",
        "print(\"X\", x)"
      ]
    },
    {
      "cell_type": "code",
      "execution_count": null,
      "metadata": {
        "id": "ZJ7vn4-LDv4r",
        "colab": {
          "base_uri": "https://localhost:8080/"
        },
        "outputId": "fbde917f-e9e1-4ba6-ca21-ba2ef3185ba0"
      },
      "outputs": [
        {
          "output_type": "stream",
          "name": "stdout",
          "text": [
            "X tensor([[0, 3],\n",
            "        [1, 4],\n",
            "        [2, 5]])\n"
          ]
        }
      ],
      "source": [
        "x = x.permute(1, 0) # Swapping dimension 0 and 1\n",
        "print(\"X\", x)"
      ]
    },
    {
      "cell_type": "markdown",
      "metadata": {
        "id": "JkF6P2q-Dv4r"
      },
      "source": [
        "Other commonly used operations include matrix multiplications, which are essential for neural networks. Quite often, we have an input vector $\\mathbf{x}$, which is transformed using a learned weight matrix $\\mathbf{W}$. There are multiple ways and functions to perform matrix multiplication, some of which we list below:\n",
        "\n",
        "* `torch.matmul`: Performs the matrix product over two tensors, where the specific behavior depends on the dimensions. If both inputs are matrices (2-dimensional tensors), it performs the standard matrix product. For higher dimensional inputs, the function supports broadcasting (for details see the [documentation](https://pytorch.org/docs/stable/generated/torch.matmul.html?highlight=matmul#torch.matmul)). Can also be written as `a @ b`, similar to numpy.\n",
        "* `torch.mm`: Performs the matrix product over two matrices, but doesn't support broadcasting (see [documentation](https://pytorch.org/docs/stable/generated/torch.mm.html?highlight=torch%20mm#torch.mm))\n",
        "* `torch.bmm`: Performs the matrix product with a support batch dimension. If the first tensor $T$ is of shape ($b\\times n\\times m$), and the second tensor $R$ ($b\\times m\\times p$), the output $O$ is of shape ($b\\times n\\times p$), and has been calculated by performing $b$ matrix multiplications of the submatrices of $T$ and $R$: $O_i = T_i @ R_i$\n",
        "* `torch.einsum`: Performs matrix multiplications and more (i.e. sums of products) using the Einstein summation convention. Explanation of the Einstein sum can be found in assignment 1.\n",
        "\n",
        "Usually, we use `torch.matmul` or `torch.bmm`. We can try a matrix multiplication with `torch.matmul` below."
      ]
    },
    {
      "cell_type": "code",
      "execution_count": null,
      "metadata": {
        "id": "ibeduMqzDv4r",
        "colab": {
          "base_uri": "https://localhost:8080/"
        },
        "outputId": "7f0a2443-76f5-49ea-a161-b4e2f77ad3eb"
      },
      "outputs": [
        {
          "output_type": "stream",
          "name": "stdout",
          "text": [
            "X tensor([[0, 1, 2],\n",
            "        [3, 4, 5]])\n"
          ]
        }
      ],
      "source": [
        "x = torch.arange(6)\n",
        "x = x.view(2, 3)\n",
        "print(\"X\", x)"
      ]
    },
    {
      "cell_type": "code",
      "execution_count": null,
      "metadata": {
        "id": "STfHJGqEDv4r",
        "colab": {
          "base_uri": "https://localhost:8080/"
        },
        "outputId": "c9ae3dd0-9432-4dc3-e642-deeaf536e024"
      },
      "outputs": [
        {
          "output_type": "stream",
          "name": "stdout",
          "text": [
            "W tensor([[0, 1, 2],\n",
            "        [3, 4, 5],\n",
            "        [6, 7, 8]])\n"
          ]
        }
      ],
      "source": [
        "W = torch.arange(9).view(3, 3) # We can also stack multiple operations in a single line\n",
        "print(\"W\", W)"
      ]
    },
    {
      "cell_type": "code",
      "execution_count": null,
      "metadata": {
        "id": "v9VziL0_Dv4r",
        "colab": {
          "base_uri": "https://localhost:8080/"
        },
        "outputId": "36dc3fbe-2e5c-40f1-e2bd-f747c4b4e3c1"
      },
      "outputs": [
        {
          "output_type": "stream",
          "name": "stdout",
          "text": [
            "h tensor([[15, 18, 21],\n",
            "        [42, 54, 66]])\n"
          ]
        }
      ],
      "source": [
        "h = torch.matmul(x, W) # Verify the result by calculating it by hand too!\n",
        "print(\"h\", h)"
      ]
    },
    {
      "cell_type": "markdown",
      "metadata": {
        "id": "KyEfW71bDv4r"
      },
      "source": [
        "#### Indexing\n",
        "\n",
        "We often have the situation where we need to select a part of a tensor. Indexing works just like in numpy, so let's try it:"
      ]
    },
    {
      "cell_type": "code",
      "execution_count": null,
      "metadata": {
        "id": "BF_gq4nNDv4r",
        "colab": {
          "base_uri": "https://localhost:8080/"
        },
        "outputId": "05f5638f-f654-4b11-d0ef-a2e4e60ad2f1"
      },
      "outputs": [
        {
          "output_type": "stream",
          "name": "stdout",
          "text": [
            "X tensor([[ 0,  1,  2,  3],\n",
            "        [ 4,  5,  6,  7],\n",
            "        [ 8,  9, 10, 11]])\n"
          ]
        }
      ],
      "source": [
        "x = torch.arange(12).view(3, 4)\n",
        "print(\"X\", x)"
      ]
    },
    {
      "cell_type": "code",
      "execution_count": null,
      "metadata": {
        "id": "HLIx1DM5Dv4r",
        "colab": {
          "base_uri": "https://localhost:8080/"
        },
        "outputId": "f2fe3df4-3cc5-46c9-8954-eab2df49ad07"
      },
      "outputs": [
        {
          "output_type": "stream",
          "name": "stdout",
          "text": [
            "tensor([1, 5, 9])\n"
          ]
        }
      ],
      "source": [
        "print(x[:, 1])   # Second column"
      ]
    },
    {
      "cell_type": "code",
      "execution_count": null,
      "metadata": {
        "id": "14Xx8ModDv4r",
        "colab": {
          "base_uri": "https://localhost:8080/"
        },
        "outputId": "48564922-57ee-49ed-81b3-fce885f917af"
      },
      "outputs": [
        {
          "output_type": "stream",
          "name": "stdout",
          "text": [
            "tensor([0, 1, 2, 3])\n"
          ]
        }
      ],
      "source": [
        "print(x[0])      # First row"
      ]
    },
    {
      "cell_type": "code",
      "execution_count": null,
      "metadata": {
        "id": "psTYfeEnDv4r",
        "colab": {
          "base_uri": "https://localhost:8080/"
        },
        "outputId": "72eb097e-b9b5-4c54-cd0b-55fb086ad92d"
      },
      "outputs": [
        {
          "output_type": "stream",
          "name": "stdout",
          "text": [
            "tensor([3, 7])\n"
          ]
        }
      ],
      "source": [
        "print(x[:2, -1]) # First two rows, last column"
      ]
    },
    {
      "cell_type": "code",
      "execution_count": null,
      "metadata": {
        "id": "J3yjkGVZDv4r",
        "colab": {
          "base_uri": "https://localhost:8080/"
        },
        "outputId": "630e7514-5c74-4f11-b0e2-f141cc4cf970"
      },
      "outputs": [
        {
          "output_type": "stream",
          "name": "stdout",
          "text": [
            "tensor([[ 4,  5,  6,  7],\n",
            "        [ 8,  9, 10, 11]])\n"
          ]
        }
      ],
      "source": [
        "print(x[1:3, :]) # Middle two rows"
      ]
    },
    {
      "cell_type": "markdown",
      "metadata": {
        "id": "DbIadbyeDv4r"
      },
      "source": [
        "### Dynamic Computation Graph and Backpropagation\n",
        "\n",
        "One of the main reasons for using PyTorch in Deep Learning projects is that we can automatically get **gradients/derivatives** of functions that we define. We will mainly use PyTorch for implementing neural networks, and they are just fancy functions. If we use weight matrices in our function that we want to learn, then those are called the **parameters** or simply the **weights**.\n",
        "\n",
        "If our neural network would output a single scalar value, we would talk about taking the **derivative**, but you will see that quite often we will have **multiple** output variables (\"values\"); in that case we talk about **gradients**. It's a more general term.\n",
        "\n",
        "Given an input $\\mathbf{x}$, we define our function by **manipulating** that input, usually by matrix-multiplications with weight matrices and additions with so-called bias vectors. As we manipulate our input, we are automatically creating a **computational graph**. This graph shows how to arrive at our output from our input.\n",
        "PyTorch is a **define-by-run** framework; this means that we can just do our manipulations, and PyTorch will keep track of that graph for us. Thus, we create a dynamic computation graph along the way.\n",
        "\n",
        "So, to recap: the only thing we have to do is to compute the **output**, and then we can ask PyTorch to automatically get the **gradients**.\n",
        "\n",
        "> **Note:  Why do we want gradients?** Consider that we have defined a function, a neural net, that is supposed to compute a certain output $y$ for an input vector $\\mathbf{x}$. We then define an **error measure** that tells us how wrong our network is; how bad it is in predicting output $y$ from input $\\mathbf{x}$. Based on this error measure, we can use the gradients to **update** the weights $\\mathbf{W}$ that were responsible for the output, so that the next time we present input $\\mathbf{x}$ to our network, the output will be closer to what we want.\n",
        "\n",
        "The first thing we have to do is to specify which tensors require gradients. By default, when we create a tensor, it does not require gradients."
      ]
    },
    {
      "cell_type": "code",
      "execution_count": null,
      "metadata": {
        "id": "lXyqOrJaDv4r",
        "colab": {
          "base_uri": "https://localhost:8080/"
        },
        "outputId": "3174cb5e-0733-47b4-fe6c-6d16b09fe403"
      },
      "outputs": [
        {
          "output_type": "stream",
          "name": "stdout",
          "text": [
            "False\n"
          ]
        }
      ],
      "source": [
        "x = torch.ones((3,))\n",
        "print(x.requires_grad)"
      ]
    },
    {
      "cell_type": "markdown",
      "metadata": {
        "id": "ded0EVsIDv4v"
      },
      "source": [
        "We can change this for an existing tensor using the function `requires_grad_()` (underscore indicating that this is a in-place operation). Alternatively, when creating a tensor, you can pass the argument `requires_grad=True` to most initializers we have seen above."
      ]
    },
    {
      "cell_type": "code",
      "execution_count": null,
      "metadata": {
        "id": "AvgNlYsLDv4v",
        "colab": {
          "base_uri": "https://localhost:8080/"
        },
        "outputId": "dc88cea8-25ca-42f4-edf3-7523d70d8119"
      },
      "outputs": [
        {
          "output_type": "stream",
          "name": "stdout",
          "text": [
            "True\n"
          ]
        }
      ],
      "source": [
        "x.requires_grad_(True)\n",
        "print(x.requires_grad)"
      ]
    },
    {
      "cell_type": "markdown",
      "metadata": {
        "id": "ORqzBOH3Dv4v"
      },
      "source": [
        "In order to get familiar with the concept of a computation graph, we will create one for the following function:\n",
        "\n",
        "$$y = \\frac{1}{\\ell(x)}\\sum_i \\left[(x_i + 2)^2 + 3\\right],$$\n",
        "\n",
        "where we use $\\ell(x)$ to denote the number of elements in $x$. In other words, we are taking a mean here over the operation within the sum. You could imagine that $x$ are our parameters, and we want to optimize (either maximize or minimize) the output $y$. For this, we want to obtain the gradients $\\partial y / \\partial \\mathbf{x}$. For our example, we'll use $\\mathbf{x}=[0,1,2]$ as our input."
      ]
    },
    {
      "cell_type": "code",
      "execution_count": null,
      "metadata": {
        "id": "JhrDHZrGDv4v",
        "colab": {
          "base_uri": "https://localhost:8080/"
        },
        "outputId": "2c40219d-4721-400e-fb45-5bd82a3ad541"
      },
      "outputs": [
        {
          "output_type": "stream",
          "name": "stdout",
          "text": [
            "X tensor([0., 1., 2.], requires_grad=True)\n"
          ]
        }
      ],
      "source": [
        "x = torch.arange(3, dtype=torch.float32, requires_grad=True) # Only float tensors can have gradients\n",
        "print(\"X\", x)"
      ]
    },
    {
      "cell_type": "markdown",
      "metadata": {
        "id": "JZx_ApElDv4v"
      },
      "source": [
        "Now let's build the computation graph step by step. You can combine multiple operations in a single line, but we will separate them here to get a better understanding of how each operation is added to the computation graph."
      ]
    },
    {
      "cell_type": "code",
      "execution_count": null,
      "metadata": {
        "id": "NQR73s7hDv4v",
        "colab": {
          "base_uri": "https://localhost:8080/"
        },
        "outputId": "f314760a-d11e-4a45-fb28-5b65f8006a2d"
      },
      "outputs": [
        {
          "output_type": "stream",
          "name": "stdout",
          "text": [
            "Y tensor(12.6667, grad_fn=<MeanBackward0>)\n"
          ]
        }
      ],
      "source": [
        "a = x + 2\n",
        "b = a ** 2\n",
        "c = b + 3\n",
        "y = c.mean()\n",
        "print(\"Y\", y)"
      ]
    },
    {
      "cell_type": "markdown",
      "metadata": {
        "id": "Id-6vjvfDv4v"
      },
      "source": [
        "Using the statements above, we have created a computation graph that looks similar to the figure below:\n",
        "\n",
        "<center style=\"width: 100%\"><img src=\"https://github.com/phlippe/uvadlc_notebooks/blob/master/docs/tutorial_notebooks/tutorial2/pytorch_computation_graph.svg?raw=1\" width=\"200px\"></center>\n",
        "\n",
        "We calculate $a$ based on the inputs $x$ and the constant $2$, $b$ is $a$ squared, and so on. The visualization is an abstraction of the dependencies between inputs and outputs of the operations we have applied.\n",
        "Each node of the computation graph has automatically defined a function for calculating the gradients with respect to its inputs, `grad_fn`. You can see this when we printed the output tensor $y$. This is why the computation graph is usually visualized in the reverse direction (arrows point from the result to the inputs). We can perform backpropagation on the computation graph by calling the function `backward()` on the last output, which effectively calculates the gradients for each tensor that has the property `requires_grad=True`:"
      ]
    },
    {
      "cell_type": "code",
      "execution_count": null,
      "metadata": {
        "id": "hEEHT1AfDv4v"
      },
      "outputs": [],
      "source": [
        "y.backward()"
      ]
    },
    {
      "cell_type": "markdown",
      "metadata": {
        "id": "r4dSMB6VDv4v"
      },
      "source": [
        "`x.grad` will now contain the gradient $\\partial y/ \\partial \\mathcal{x}$, and this gradient indicates how a change in $\\mathbf{x}$ will affect output $y$ given the current input $\\mathbf{x}=[0,1,2]$:"
      ]
    },
    {
      "cell_type": "code",
      "execution_count": null,
      "metadata": {
        "id": "jIBP1RcxDv4v",
        "colab": {
          "base_uri": "https://localhost:8080/"
        },
        "outputId": "b4d3407c-2ceb-400e-ce80-4836b65f9daa"
      },
      "outputs": [
        {
          "output_type": "stream",
          "name": "stdout",
          "text": [
            "tensor([1.3333, 2.0000, 2.6667])\n"
          ]
        }
      ],
      "source": [
        "print(x.grad)"
      ]
    },
    {
      "cell_type": "markdown",
      "metadata": {
        "id": "jdATglZUDv4v"
      },
      "source": [
        "We can also verify these gradients by hand. We will calculate the gradients using the chain rule, in the same way as PyTorch did it:\n",
        "\n",
        "$$\\frac{\\partial y}{\\partial x_i} = \\frac{\\partial y}{\\partial c_i}\\frac{\\partial c_i}{\\partial b_i}\\frac{\\partial b_i}{\\partial a_i}\\frac{\\partial a_i}{\\partial x_i}$$\n",
        "\n",
        "Note that we have simplified this equation to index notation, and by using the fact that all operation besides the mean do not combine the elements in the tensor. The partial derivatives are:\n",
        "\n",
        "$$\n",
        "\\frac{\\partial a_i}{\\partial x_i} = 1,\\hspace{1cm}\n",
        "\\frac{\\partial b_i}{\\partial a_i} = 2\\cdot a_i\\hspace{1cm}\n",
        "\\frac{\\partial c_i}{\\partial b_i} = 1\\hspace{1cm}\n",
        "\\frac{\\partial y}{\\partial c_i} = \\frac{1}{3}\n",
        "$$\n",
        "\n",
        "Hence, with the input being $\\mathbf{x}=[0,1,2]$, our gradients are $\\partial y/\\partial \\mathbf{x}=[4/3,2,8/3]$. The previous code cell should have printed the same result."
      ]
    },
    {
      "cell_type": "markdown",
      "metadata": {
        "id": "rrqSe-QpDv4v"
      },
      "source": [
        "### GPU support\n",
        "\n",
        "A crucial feature of PyTorch is the support of GPUs, short for Graphics Processing Unit. A GPU can perform many thousands of small operations in parallel, making it very well suitable for performing large matrix operations in neural networks. When comparing GPUs to CPUs, we can list the following main differences (credit: [Kevin Krewell, 2009](https://blogs.nvidia.com/blog/2009/12/16/whats-the-difference-between-a-cpu-and-a-gpu/))\n",
        "\n",
        "<center style=\"width: 100%\"><img src=\"https://github.com/phlippe/uvadlc_notebooks/blob/master/docs/tutorial_notebooks/tutorial2/comparison_CPU_GPU.png?raw=1\" width=\"700px\"></center>\n",
        "\n",
        "CPUs and GPUs have both different advantages and disadvantages, which is why many computers contain both components and use them for different tasks. In case you are not familiar with GPUs, you can read up more details in this [NVIDIA blog post](https://blogs.nvidia.com/blog/2009/12/16/whats-the-difference-between-a-cpu-and-a-gpu/) or [here](https://www.intel.com/content/www/us/en/products/docs/processors/what-is-a-gpu.html).\n",
        "\n",
        "GPUs can accelerate the training of your network up to a factor of $100$ which is essential for large neural networks. PyTorch implements a lot of functionality for supporting GPUs (mostly those of NVIDIA due to the libraries [CUDA](https://developer.nvidia.com/cuda-zone) and [cuDNN](https://developer.nvidia.com/cudnn)). First, let's check whether you have a GPU available:"
      ]
    },
    {
      "cell_type": "code",
      "execution_count": null,
      "metadata": {
        "id": "c783C6V_Dv4v",
        "colab": {
          "base_uri": "https://localhost:8080/"
        },
        "outputId": "3e620cbb-4666-4f4d-ae77-1daed0b60cf4"
      },
      "outputs": [
        {
          "output_type": "stream",
          "name": "stdout",
          "text": [
            "Is the GPU available? True\n"
          ]
        }
      ],
      "source": [
        "gpu_avail = torch.cuda.is_available()\n",
        "print(f\"Is the GPU available? {gpu_avail}\")"
      ]
    },
    {
      "cell_type": "markdown",
      "metadata": {
        "id": "bLgiQy8lDv4v"
      },
      "source": [
        "If GPU is unavailable, change runtime type to T4GPU instead of CPU.\n",
        "\n",
        "By default, all tensors you create are stored on the CPU. We can push a tensor to the GPU by using the function `.to(...)`, or `.cuda()`. However, it is often a good practice to define a `device` object in your code which points to the GPU if you have one, and otherwise to the CPU. Then, you can write your code with respect to this device object, and it allows you to run the same code on both a CPU-only system, and one with a GPU. Let's try it below. We can specify the device as follows:"
      ]
    },
    {
      "cell_type": "code",
      "execution_count": null,
      "metadata": {
        "id": "CfzvtcsnDv4v",
        "colab": {
          "base_uri": "https://localhost:8080/"
        },
        "outputId": "307cd658-9b09-4698-d216-0e46cb3a15c8"
      },
      "outputs": [
        {
          "output_type": "stream",
          "name": "stdout",
          "text": [
            "Device cuda\n"
          ]
        }
      ],
      "source": [
        "device = torch.device(\"cuda\") if torch.cuda.is_available() else torch.device(\"cpu\")\n",
        "print(\"Device\", device)"
      ]
    },
    {
      "cell_type": "markdown",
      "metadata": {
        "id": "O-oXMcauDv4v"
      },
      "source": [
        "Now let's create a tensor and push it to the device:"
      ]
    },
    {
      "cell_type": "code",
      "execution_count": null,
      "metadata": {
        "id": "QLtFiJOWDv4v",
        "colab": {
          "base_uri": "https://localhost:8080/"
        },
        "outputId": "b2aad9d9-a85a-4589-8756-982e8401ac34"
      },
      "outputs": [
        {
          "output_type": "stream",
          "name": "stdout",
          "text": [
            "X tensor([[0., 0., 0.],\n",
            "        [0., 0., 0.]], device='cuda:0')\n"
          ]
        }
      ],
      "source": [
        "x = torch.zeros(2, 3)\n",
        "x = x.to(device)\n",
        "print(\"X\", x)"
      ]
    },
    {
      "cell_type": "markdown",
      "metadata": {
        "id": "6oxE24HxDv4v"
      },
      "source": [
        "In case you have a GPU, you should now see the attribute `device='cuda:0'` being printed next to your tensor. The zero next to cuda indicates that this is the zero-th GPU device on your computer. PyTorch also supports multi-GPU systems, but this you will only need once you have very big networks to train (if interested, see the [PyTorch documentation](https://pytorch.org/docs/stable/distributed.html#distributed-basics)). We can also compare the runtime of a large matrix multiplication on the CPU with a operation on the GPU:"
      ]
    },
    {
      "cell_type": "markdown",
      "metadata": {
        "id": "2aK5sK-ADv4w"
      },
      "source": [
        "## Learning by example: Continuous XOR\n",
        "\n",
        "If we want to build a neural network in PyTorch, we could specify all our parameters (weight matrices, bias vectors) using `Tensors` (with `requires_grad=True`), ask PyTorch to calculate the gradients and then adjust the parameters. But things can quickly get cumbersome if we have a lot of parameters. In PyTorch, there is a package called `torch.nn` that makes building neural networks more convenient.\n",
        "\n",
        "We will introduce the libraries and all additional parts you might need to train a neural network in PyTorch, using a simple example classifier on a simple yet well known example: XOR. Given two binary inputs $x_1$ and $x_2$, the label to predict is $1$ if either $x_1$ or $x_2$ is $1$ while the other is $0$, or the label is $0$ in all other cases. The example became famous by the fact that a single neuron, i.e. a linear classifier, cannot learn this simple function.\n",
        "Hence, we will learn how to build a small neural network that can learn this function.\n",
        "To make it a little bit more interesting, we move the XOR into continuous space and introduce some gaussian noise on the binary inputs. Our desired separation of an XOR dataset could look as follows:\n",
        "\n",
        "<center style=\"width: 100%\"><img src=\"https://github.com/phlippe/uvadlc_notebooks/blob/master/docs/tutorial_notebooks/tutorial2/continuous_xor.svg?raw=1\" width=\"350px\"></center>"
      ]
    },
    {
      "cell_type": "markdown",
      "metadata": {
        "id": "ghbmdSaUDv4w"
      },
      "source": [
        "### The model\n",
        "\n",
        "The package `torch.nn` defines a series of useful classes like linear networks layers, activation functions, loss functions etc. A full list can be found [here](https://pytorch.org/docs/stable/nn.html). In case you need a certain network layer, check the documentation of the package first before writing the layer yourself as the package likely contains the code for it already. We import it below:"
      ]
    },
    {
      "cell_type": "code",
      "execution_count": null,
      "metadata": {
        "id": "Dx_c1nLlDv4w"
      },
      "outputs": [],
      "source": [
        "import torch.nn as nn"
      ]
    },
    {
      "cell_type": "markdown",
      "metadata": {
        "id": "Tk-hWZOKDv4w"
      },
      "source": [
        "Additionally to `torch.nn`, there is also `torch.nn.functional`. It contains functions that are used in network layers. This is in contrast to `torch.nn` which defines them as `nn.Modules` (more on it below), and `torch.nn` actually uses a lot of functionalities from `torch.nn.functional`. Hence, the functional package is useful in many situations, and so we import it as well here."
      ]
    },
    {
      "cell_type": "code",
      "execution_count": null,
      "metadata": {
        "id": "EbG8rYAgDv4w"
      },
      "outputs": [],
      "source": [
        "import torch.nn.functional as F"
      ]
    },
    {
      "cell_type": "markdown",
      "metadata": {
        "id": "ojjXgvyGDv4w"
      },
      "source": [
        "#### nn.Module\n",
        "\n",
        "In PyTorch, a neural network is built up out of modules. Modules can contain other modules, and a neural network is considered to be a module itself as well. The basic template of a module is as follows:"
      ]
    },
    {
      "cell_type": "code",
      "execution_count": null,
      "metadata": {
        "id": "PPHBGI1dDv4w"
      },
      "outputs": [],
      "source": [
        "class MyModule(nn.Module):\n",
        "\n",
        "    def __init__(self):\n",
        "        super().__init__()\n",
        "        # Some init for my module\n",
        "\n",
        "    def forward(self, x):\n",
        "        # Function for performing the calculation of the module.\n",
        "        pass"
      ]
    },
    {
      "cell_type": "markdown",
      "metadata": {
        "id": "HAsw9mPODv4w"
      },
      "source": [
        "The forward function is where the computation of the module is taken place, and is executed when you call the module (`nn = MyModule(); nn(x)`). In the init function, we usually create the parameters of the module, using `nn.Parameter`, or defining other modules that are used in the forward function. The backward calculation is done automatically, but could be overwritten as well if wanted.\n",
        "\n",
        "#### Simple classifier\n",
        "We can now make use of the pre-defined modules in the `torch.nn` package, and define our own small neural network. We will use a minimal network with a input layer, one hidden layer with tanh as activation function, and a output layer. In other words, our networks should look something like this:\n",
        "\n",
        "<center width=\"100%\"><img src=\"https://github.com/phlippe/uvadlc_notebooks/blob/master/docs/tutorial_notebooks/tutorial2/small_neural_network.svg?raw=1\" width=\"300px\"></center>\n",
        "\n",
        "The input neurons are shown in blue, which represent the coordinates $x_1$ and $x_2$ of a data point. The hidden neurons including a tanh activation are shown in white, and the output neuron in red.\n",
        "In PyTorch, we can define this as follows:"
      ]
    },
    {
      "cell_type": "code",
      "execution_count": null,
      "metadata": {
        "id": "In7ZZlPVDv4w"
      },
      "outputs": [],
      "source": [
        "# complete the implementation bellow\n",
        "\n",
        "class SimpleClassifier(nn.Module):\n",
        "\n",
        "    def __init__(self, num_inputs, num_hidden, num_outputs):\n",
        "        super().__init__()\n",
        "        # Initialize the modules we need to build the network\n",
        "        self.linear1 = nn.Linear(num_inputs, num_hidden)\n",
        "        # Complete here. You can use nn.Linear layer\n",
        "        self.act_fn = nn.Tanh()\n",
        "        self.linear2 = nn.Linear(num_hidden, num_outputs)\n",
        "        # Complete here. You can use nn.Linear layer\n",
        "\n",
        "    def forward(self, x):\n",
        "        # Perform the calculation of the model to determine the prediction\n",
        "        x = self.linear1(x)\n",
        "        x = self.act_fn(x)\n",
        "        x = self.linear2(x)\n",
        "        return x"
      ]
    },
    {
      "cell_type": "markdown",
      "metadata": {
        "id": "BacgnjaADv4w"
      },
      "source": [
        "For the examples in this notebook, we will use a tiny neural network with two input neurons and four hidden neurons. As we perform binary classification, we will use a single output neuron. Note that we do not apply a sigmoid on the output yet. This is because other functions, especially the loss, are more efficient and precise to calculate on the original outputs instead of the sigmoid output. We will discuss the detailed reason later."
      ]
    },
    {
      "cell_type": "code",
      "execution_count": null,
      "metadata": {
        "id": "euQZesNeDv4w",
        "colab": {
          "base_uri": "https://localhost:8080/"
        },
        "outputId": "ff07d733-94f1-41e7-8336-96135ad7d274"
      },
      "outputs": [
        {
          "output_type": "stream",
          "name": "stdout",
          "text": [
            "SimpleClassifier(\n",
            "  (linear1): Linear(in_features=2, out_features=4, bias=True)\n",
            "  (act_fn): Tanh()\n",
            "  (linear2): Linear(in_features=4, out_features=1, bias=True)\n",
            ")\n"
          ]
        }
      ],
      "source": [
        "model = SimpleClassifier(num_inputs=2, num_hidden=4, num_outputs=1)\n",
        "# Printing a module shows all its submodules\n",
        "print(model)"
      ]
    },
    {
      "cell_type": "markdown",
      "metadata": {
        "id": "XiC0_Lf-Dv4w"
      },
      "source": [
        "Printing the model lists all submodules it contains. The parameters of a module can be obtained by using its `parameters()` functions, or `named_parameters()` to get a name to each parameter object. For our small neural network, we have the following parameters:"
      ]
    },
    {
      "cell_type": "code",
      "execution_count": null,
      "metadata": {
        "id": "cvJpJfIXDv4w",
        "colab": {
          "base_uri": "https://localhost:8080/"
        },
        "outputId": "61ebc270-560d-4cee-c687-62aeb6c9a6fd"
      },
      "outputs": [
        {
          "output_type": "stream",
          "name": "stdout",
          "text": [
            "Parameter linear1.weight, shape torch.Size([4, 2])\n",
            "Parameter linear1.bias, shape torch.Size([4])\n",
            "Parameter linear2.weight, shape torch.Size([1, 4])\n",
            "Parameter linear2.bias, shape torch.Size([1])\n"
          ]
        }
      ],
      "source": [
        "for name, param in model.named_parameters():\n",
        "    print(f\"Parameter {name}, shape {param.shape}\")"
      ]
    },
    {
      "cell_type": "markdown",
      "metadata": {
        "id": "RrTEkDE5Dv4w"
      },
      "source": [
        "Each linear layer has a weight matrix of the shape `[output, input]`, and a bias of the shape `[output]`. The tanh activation function does not have any parameters. Note that parameters are only registered for `nn.Module` objects that are direct object attributes, i.e. `self.a = ...`. If you define a list of modules, the parameters of those are not registered for the outer module and can cause some issues when you try to optimize your module. There are alternatives, like `nn.ModuleList`, `nn.ModuleDict` and `nn.Sequential`, that allow you to have different data structures of modules. We will use them in a few later tutorials and explain them there."
      ]
    },
    {
      "cell_type": "markdown",
      "metadata": {
        "id": "_2cbRwSIDv4w"
      },
      "source": [
        "### The data\n",
        "\n",
        "PyTorch also provides a few functionalities to load the training and test data efficiently, summarized in the package `torch.utils.data`."
      ]
    },
    {
      "cell_type": "code",
      "execution_count": null,
      "metadata": {
        "id": "UGvv51LGDv4w"
      },
      "outputs": [],
      "source": [
        "import torch.utils.data as data"
      ]
    },
    {
      "cell_type": "markdown",
      "metadata": {
        "id": "5R3FcxhqDv4w"
      },
      "source": [
        "The data package defines two classes which are the standard interface for handling data in PyTorch: `data.Dataset`, and `data.DataLoader`. The dataset class provides an uniform interface to access the training/test data, while the data loader makes sure to efficiently load and stack the data points from the dataset into batches during training."
      ]
    },
    {
      "cell_type": "markdown",
      "metadata": {
        "id": "L8cNnZWHDv4x"
      },
      "source": [
        "#### The dataset class\n",
        "\n",
        "The dataset class summarizes the basic functionality of a dataset in a natural way. To define a dataset in PyTorch, we simply specify two functions: `__getitem__`, and `__len__`. The get-item function has to return the $i$-th data point in the dataset, while the len function returns the size of the dataset. For the XOR dataset, we can define the dataset class as follows:"
      ]
    },
    {
      "cell_type": "code",
      "execution_count": null,
      "metadata": {
        "id": "-3CzzWULDv4x"
      },
      "outputs": [],
      "source": [
        "class XORDataset(data.Dataset):\n",
        "\n",
        "    def __init__(self, size, std=0.1):\n",
        "        \"\"\"\n",
        "        Inputs:\n",
        "            size - Number of data points we want to generate\n",
        "            std - Standard deviation of the noise (see generate_continuous_xor function)\n",
        "        \"\"\"\n",
        "        super().__init__()\n",
        "        self.size = size\n",
        "        self.std = std\n",
        "        self.generate_continuous_xor()\n",
        "\n",
        "    def generate_continuous_xor(self):\n",
        "        # Each data point in the XOR dataset has two variables, x and y, that can be either 0 or 1\n",
        "        # The label is their XOR combination, i.e. 1 if only x or only y is 1 while the other is 0.\n",
        "        # If x=y, the label is 0.\n",
        "        data = torch.randint(low=0, high=2, size=(self.size, 2), dtype=torch.float32)\n",
        "        label = (data.sum(dim=1) == 1).to(torch.long)\n",
        "        # To make it slightly more challenging, we add a bit of gaussian noise to the data points.\n",
        "        data += self.std * torch.randn(data.shape)\n",
        "\n",
        "        self.data = data\n",
        "        self.label = label\n",
        "\n",
        "    def __len__(self):\n",
        "        # Number of data point we have. Alternatively self.data.shape[0], or self.label.shape[0]\n",
        "        return self.size\n",
        "\n",
        "    def __getitem__(self, idx):\n",
        "        # Return the idx-th data point of the dataset\n",
        "        # If we have multiple things to return (data point and label), we can return them as tuple\n",
        "        data_point = self.data[idx]\n",
        "        data_label = self.label[idx]\n",
        "        return data_point, data_label"
      ]
    },
    {
      "cell_type": "markdown",
      "metadata": {
        "id": "6MOmYS1iDv4x"
      },
      "source": [
        "Let's try to create such a dataset and inspect it:"
      ]
    },
    {
      "cell_type": "code",
      "execution_count": null,
      "metadata": {
        "id": "cfyFWqpnDv4y",
        "colab": {
          "base_uri": "https://localhost:8080/"
        },
        "outputId": "f95634d1-1845-4320-b6ff-f25e65182ad4"
      },
      "outputs": [
        {
          "output_type": "stream",
          "name": "stdout",
          "text": [
            "Size of dataset: 200\n",
            "Data point 0: (tensor([0.9316, 1.0066]), tensor(0))\n"
          ]
        }
      ],
      "source": [
        "dataset = XORDataset(size=200)\n",
        "print(\"Size of dataset:\", len(dataset))\n",
        "print(\"Data point 0:\", dataset[0])"
      ]
    },
    {
      "cell_type": "markdown",
      "metadata": {
        "id": "RvzsnuyGDv4y"
      },
      "source": [
        "To better relate to the dataset, we visualize the samples below."
      ]
    },
    {
      "cell_type": "code",
      "execution_count": null,
      "metadata": {
        "id": "GCZRwK25Dv4y"
      },
      "outputs": [],
      "source": [
        "def visualize_samples(data, label):\n",
        "    if isinstance(data, torch.Tensor):\n",
        "        data = data.cpu().numpy()\n",
        "    if isinstance(label, torch.Tensor):\n",
        "        label = label.cpu().numpy()\n",
        "    data_0 = data[label == 0]\n",
        "    data_1 = data[label == 1]\n",
        "\n",
        "    plt.figure(figsize=(4,4))\n",
        "    plt.scatter(data_0[:,0], data_0[:,1], edgecolor=\"#333\", label=\"Class 0\")\n",
        "    plt.scatter(data_1[:,0], data_1[:,1], edgecolor=\"#333\", label=\"Class 1\")\n",
        "    plt.title(\"Dataset samples\")\n",
        "    plt.ylabel(r\"$x_2$\")\n",
        "    plt.xlabel(r\"$x_1$\")\n",
        "    plt.legend()"
      ]
    },
    {
      "cell_type": "code",
      "execution_count": null,
      "metadata": {
        "id": "NUXNrWNkDv4y",
        "colab": {
          "base_uri": "https://localhost:8080/",
          "height": 404
        },
        "outputId": "5fbd1d68-94f4-48dd-8a54-47ba4e67a34d"
      },
      "outputs": [
        {
          "output_type": "display_data",
          "data": {
            "text/plain": [
              "<Figure size 400x400 with 1 Axes>"
            ],
            "image/svg+xml": "<?xml version=\"1.0\" encoding=\"utf-8\" standalone=\"no\"?>\n<!DOCTYPE svg PUBLIC \"-//W3C//DTD SVG 1.1//EN\"\n  \"http://www.w3.org/Graphics/SVG/1.1/DTD/svg11.dtd\">\n<svg xmlns:xlink=\"http://www.w3.org/1999/xlink\" width=\"289.424844pt\" height=\"287.037813pt\" viewBox=\"0 0 289.424844 287.037813\" xmlns=\"http://www.w3.org/2000/svg\" version=\"1.1\">\n <metadata>\n  <rdf:RDF xmlns:dc=\"http://purl.org/dc/elements/1.1/\" xmlns:cc=\"http://creativecommons.org/ns#\" xmlns:rdf=\"http://www.w3.org/1999/02/22-rdf-syntax-ns#\">\n   <cc:Work>\n    <dc:type rdf:resource=\"http://purl.org/dc/dcmitype/StillImage\"/>\n    <dc:date>2024-10-24T07:38:09.155035</dc:date>\n    <dc:format>image/svg+xml</dc:format>\n    <dc:creator>\n     <cc:Agent>\n      <dc:title>Matplotlib v3.7.1, https://matplotlib.org/</dc:title>\n     </cc:Agent>\n    </dc:creator>\n   </cc:Work>\n  </rdf:RDF>\n </metadata>\n <defs>\n  <style type=\"text/css\">*{stroke-linejoin: round; stroke-linecap: butt}</style>\n </defs>\n <g id=\"figure_1\">\n  <g id=\"patch_1\">\n   <path d=\"M 0 287.037813 \nL 289.424844 287.037813 \nL 289.424844 0 \nL 0 0 \nz\n\" style=\"fill: #ffffff\"/>\n  </g>\n  <g id=\"axes_1\">\n   <g id=\"patch_2\">\n    <path d=\"M 59.024844 244.078125 \nL 282.224844 244.078125 \nL 282.224844 22.318125 \nL 59.024844 22.318125 \nz\n\" style=\"fill: #eaeaf2\"/>\n   </g>\n   <g id=\"matplotlib.axis_1\">\n    <g id=\"xtick_1\">\n     <g id=\"line2d_1\">\n      <path d=\"M 110.44057 244.078125 \nL 110.44057 22.318125 \n\" clip-path=\"url(#p99c1ca87f8)\" style=\"fill: none; stroke: #ffffff; stroke-linecap: round\"/>\n     </g>\n     <g id=\"text_1\">\n      <!-- 0.0 -->\n      <g style=\"fill: #262626\" transform=\"translate(101.693851 261.936406) scale(0.11 -0.11)\">\n       <defs>\n        <path id=\"DejaVuSans-30\" d=\"M 2034 4250 \nQ 1547 4250 1301 3770 \nQ 1056 3291 1056 2328 \nQ 1056 1369 1301 889 \nQ 1547 409 2034 409 \nQ 2525 409 2770 889 \nQ 3016 1369 3016 2328 \nQ 3016 3291 2770 3770 \nQ 2525 4250 2034 4250 \nz\nM 2034 4750 \nQ 2819 4750 3233 4129 \nQ 3647 3509 3647 2328 \nQ 3647 1150 3233 529 \nQ 2819 -91 2034 -91 \nQ 1250 -91 836 529 \nQ 422 1150 422 2328 \nQ 422 3509 836 4129 \nQ 1250 4750 2034 4750 \nz\n\" transform=\"scale(0.015625)\"/>\n        <path id=\"DejaVuSans-2e\" d=\"M 684 794 \nL 1344 794 \nL 1344 0 \nL 684 0 \nL 684 794 \nz\n\" transform=\"scale(0.015625)\"/>\n       </defs>\n       <use xlink:href=\"#DejaVuSans-30\"/>\n       <use xlink:href=\"#DejaVuSans-2e\" x=\"63.623047\"/>\n       <use xlink:href=\"#DejaVuSans-30\" x=\"95.410156\"/>\n      </g>\n     </g>\n    </g>\n    <g id=\"xtick_2\">\n     <g id=\"line2d_2\">\n      <path d=\"M 176.971055 244.078125 \nL 176.971055 22.318125 \n\" clip-path=\"url(#p99c1ca87f8)\" style=\"fill: none; stroke: #ffffff; stroke-linecap: round\"/>\n     </g>\n     <g id=\"text_2\">\n      <!-- 0.5 -->\n      <g style=\"fill: #262626\" transform=\"translate(168.224337 261.936406) scale(0.11 -0.11)\">\n       <defs>\n        <path id=\"DejaVuSans-35\" d=\"M 691 4666 \nL 3169 4666 \nL 3169 4134 \nL 1269 4134 \nL 1269 2991 \nQ 1406 3038 1543 3061 \nQ 1681 3084 1819 3084 \nQ 2600 3084 3056 2656 \nQ 3513 2228 3513 1497 \nQ 3513 744 3044 326 \nQ 2575 -91 1722 -91 \nQ 1428 -91 1123 -41 \nQ 819 9 494 109 \nL 494 744 \nQ 775 591 1075 516 \nQ 1375 441 1709 441 \nQ 2250 441 2565 725 \nQ 2881 1009 2881 1497 \nQ 2881 1984 2565 2268 \nQ 2250 2553 1709 2553 \nQ 1456 2553 1204 2497 \nQ 953 2441 691 2322 \nL 691 4666 \nz\n\" transform=\"scale(0.015625)\"/>\n       </defs>\n       <use xlink:href=\"#DejaVuSans-30\"/>\n       <use xlink:href=\"#DejaVuSans-2e\" x=\"63.623047\"/>\n       <use xlink:href=\"#DejaVuSans-35\" x=\"95.410156\"/>\n      </g>\n     </g>\n    </g>\n    <g id=\"xtick_3\">\n     <g id=\"line2d_3\">\n      <path d=\"M 243.501541 244.078125 \nL 243.501541 22.318125 \n\" clip-path=\"url(#p99c1ca87f8)\" style=\"fill: none; stroke: #ffffff; stroke-linecap: round\"/>\n     </g>\n     <g id=\"text_3\">\n      <!-- 1.0 -->\n      <g style=\"fill: #262626\" transform=\"translate(234.754822 261.936406) scale(0.11 -0.11)\">\n       <defs>\n        <path id=\"DejaVuSans-31\" d=\"M 794 531 \nL 1825 531 \nL 1825 4091 \nL 703 3866 \nL 703 4441 \nL 1819 4666 \nL 2450 4666 \nL 2450 531 \nL 3481 531 \nL 3481 0 \nL 794 0 \nL 794 531 \nz\n\" transform=\"scale(0.015625)\"/>\n       </defs>\n       <use xlink:href=\"#DejaVuSans-31\"/>\n       <use xlink:href=\"#DejaVuSans-2e\" x=\"63.623047\"/>\n       <use xlink:href=\"#DejaVuSans-30\" x=\"95.410156\"/>\n      </g>\n     </g>\n    </g>\n    <g id=\"text_4\">\n     <!-- $x_1$ -->\n     <g style=\"fill: #262626\" transform=\"translate(164.204844 277.342188) scale(0.12 -0.12)\">\n      <defs>\n       <path id=\"DejaVuSans-Oblique-78\" d=\"M 3841 3500 \nL 2234 1784 \nL 3219 0 \nL 2559 0 \nL 1819 1388 \nL 531 0 \nL -166 0 \nL 1556 1844 \nL 641 3500 \nL 1300 3500 \nL 1972 2234 \nL 3144 3500 \nL 3841 3500 \nz\n\" transform=\"scale(0.015625)\"/>\n      </defs>\n      <use xlink:href=\"#DejaVuSans-Oblique-78\" transform=\"translate(0 0.3125)\"/>\n      <use xlink:href=\"#DejaVuSans-31\" transform=\"translate(59.179688 -16.09375) scale(0.7)\"/>\n     </g>\n    </g>\n   </g>\n   <g id=\"matplotlib.axis_2\">\n    <g id=\"ytick_1\">\n     <g id=\"line2d_4\">\n      <path d=\"M 59.024844 230.160406 \nL 282.224844 230.160406 \n\" clip-path=\"url(#p99c1ca87f8)\" style=\"fill: none; stroke: #ffffff; stroke-linecap: round\"/>\n     </g>\n     <g id=\"text_5\">\n      <!-- −0.2 -->\n      <g style=\"fill: #262626\" transform=\"translate(22.81375 234.339547) scale(0.11 -0.11)\">\n       <defs>\n        <path id=\"DejaVuSans-2212\" d=\"M 678 2272 \nL 4684 2272 \nL 4684 1741 \nL 678 1741 \nL 678 2272 \nz\n\" transform=\"scale(0.015625)\"/>\n        <path id=\"DejaVuSans-32\" d=\"M 1228 531 \nL 3431 531 \nL 3431 0 \nL 469 0 \nL 469 531 \nQ 828 903 1448 1529 \nQ 2069 2156 2228 2338 \nQ 2531 2678 2651 2914 \nQ 2772 3150 2772 3378 \nQ 2772 3750 2511 3984 \nQ 2250 4219 1831 4219 \nQ 1534 4219 1204 4116 \nQ 875 4013 500 3803 \nL 500 4441 \nQ 881 4594 1212 4672 \nQ 1544 4750 1819 4750 \nQ 2544 4750 2975 4387 \nQ 3406 4025 3406 3419 \nQ 3406 3131 3298 2873 \nQ 3191 2616 2906 2266 \nQ 2828 2175 2409 1742 \nQ 1991 1309 1228 531 \nz\n\" transform=\"scale(0.015625)\"/>\n       </defs>\n       <use xlink:href=\"#DejaVuSans-2212\"/>\n       <use xlink:href=\"#DejaVuSans-30\" x=\"83.789062\"/>\n       <use xlink:href=\"#DejaVuSans-2e\" x=\"147.412109\"/>\n       <use xlink:href=\"#DejaVuSans-32\" x=\"179.199219\"/>\n      </g>\n     </g>\n    </g>\n    <g id=\"ytick_2\">\n     <g id=\"line2d_5\">\n      <path d=\"M 59.024844 203.49697 \nL 282.224844 203.49697 \n\" clip-path=\"url(#p99c1ca87f8)\" style=\"fill: none; stroke: #ffffff; stroke-linecap: round\"/>\n     </g>\n     <g id=\"text_6\">\n      <!-- 0.0 -->\n      <g style=\"fill: #262626\" transform=\"translate(32.031406 207.676111) scale(0.11 -0.11)\">\n       <use xlink:href=\"#DejaVuSans-30\"/>\n       <use xlink:href=\"#DejaVuSans-2e\" x=\"63.623047\"/>\n       <use xlink:href=\"#DejaVuSans-30\" x=\"95.410156\"/>\n      </g>\n     </g>\n    </g>\n    <g id=\"ytick_3\">\n     <g id=\"line2d_6\">\n      <path d=\"M 59.024844 176.833535 \nL 282.224844 176.833535 \n\" clip-path=\"url(#p99c1ca87f8)\" style=\"fill: none; stroke: #ffffff; stroke-linecap: round\"/>\n     </g>\n     <g id=\"text_7\">\n      <!-- 0.2 -->\n      <g style=\"fill: #262626\" transform=\"translate(32.031406 181.012675) scale(0.11 -0.11)\">\n       <use xlink:href=\"#DejaVuSans-30\"/>\n       <use xlink:href=\"#DejaVuSans-2e\" x=\"63.623047\"/>\n       <use xlink:href=\"#DejaVuSans-32\" x=\"95.410156\"/>\n      </g>\n     </g>\n    </g>\n    <g id=\"ytick_4\">\n     <g id=\"line2d_7\">\n      <path d=\"M 59.024844 150.170099 \nL 282.224844 150.170099 \n\" clip-path=\"url(#p99c1ca87f8)\" style=\"fill: none; stroke: #ffffff; stroke-linecap: round\"/>\n     </g>\n     <g id=\"text_8\">\n      <!-- 0.4 -->\n      <g style=\"fill: #262626\" transform=\"translate(32.031406 154.34924) scale(0.11 -0.11)\">\n       <defs>\n        <path id=\"DejaVuSans-34\" d=\"M 2419 4116 \nL 825 1625 \nL 2419 1625 \nL 2419 4116 \nz\nM 2253 4666 \nL 3047 4666 \nL 3047 1625 \nL 3713 1625 \nL 3713 1100 \nL 3047 1100 \nL 3047 0 \nL 2419 0 \nL 2419 1100 \nL 313 1100 \nL 313 1709 \nL 2253 4666 \nz\n\" transform=\"scale(0.015625)\"/>\n       </defs>\n       <use xlink:href=\"#DejaVuSans-30\"/>\n       <use xlink:href=\"#DejaVuSans-2e\" x=\"63.623047\"/>\n       <use xlink:href=\"#DejaVuSans-34\" x=\"95.410156\"/>\n      </g>\n     </g>\n    </g>\n    <g id=\"ytick_5\">\n     <g id=\"line2d_8\">\n      <path d=\"M 59.024844 123.506663 \nL 282.224844 123.506663 \n\" clip-path=\"url(#p99c1ca87f8)\" style=\"fill: none; stroke: #ffffff; stroke-linecap: round\"/>\n     </g>\n     <g id=\"text_9\">\n      <!-- 0.6 -->\n      <g style=\"fill: #262626\" transform=\"translate(32.031406 127.685804) scale(0.11 -0.11)\">\n       <defs>\n        <path id=\"DejaVuSans-36\" d=\"M 2113 2584 \nQ 1688 2584 1439 2293 \nQ 1191 2003 1191 1497 \nQ 1191 994 1439 701 \nQ 1688 409 2113 409 \nQ 2538 409 2786 701 \nQ 3034 994 3034 1497 \nQ 3034 2003 2786 2293 \nQ 2538 2584 2113 2584 \nz\nM 3366 4563 \nL 3366 3988 \nQ 3128 4100 2886 4159 \nQ 2644 4219 2406 4219 \nQ 1781 4219 1451 3797 \nQ 1122 3375 1075 2522 \nQ 1259 2794 1537 2939 \nQ 1816 3084 2150 3084 \nQ 2853 3084 3261 2657 \nQ 3669 2231 3669 1497 \nQ 3669 778 3244 343 \nQ 2819 -91 2113 -91 \nQ 1303 -91 875 529 \nQ 447 1150 447 2328 \nQ 447 3434 972 4092 \nQ 1497 4750 2381 4750 \nQ 2619 4750 2861 4703 \nQ 3103 4656 3366 4563 \nz\n\" transform=\"scale(0.015625)\"/>\n       </defs>\n       <use xlink:href=\"#DejaVuSans-30\"/>\n       <use xlink:href=\"#DejaVuSans-2e\" x=\"63.623047\"/>\n       <use xlink:href=\"#DejaVuSans-36\" x=\"95.410156\"/>\n      </g>\n     </g>\n    </g>\n    <g id=\"ytick_6\">\n     <g id=\"line2d_9\">\n      <path d=\"M 59.024844 96.843228 \nL 282.224844 96.843228 \n\" clip-path=\"url(#p99c1ca87f8)\" style=\"fill: none; stroke: #ffffff; stroke-linecap: round\"/>\n     </g>\n     <g id=\"text_10\">\n      <!-- 0.8 -->\n      <g style=\"fill: #262626\" transform=\"translate(32.031406 101.022368) scale(0.11 -0.11)\">\n       <defs>\n        <path id=\"DejaVuSans-38\" d=\"M 2034 2216 \nQ 1584 2216 1326 1975 \nQ 1069 1734 1069 1313 \nQ 1069 891 1326 650 \nQ 1584 409 2034 409 \nQ 2484 409 2743 651 \nQ 3003 894 3003 1313 \nQ 3003 1734 2745 1975 \nQ 2488 2216 2034 2216 \nz\nM 1403 2484 \nQ 997 2584 770 2862 \nQ 544 3141 544 3541 \nQ 544 4100 942 4425 \nQ 1341 4750 2034 4750 \nQ 2731 4750 3128 4425 \nQ 3525 4100 3525 3541 \nQ 3525 3141 3298 2862 \nQ 3072 2584 2669 2484 \nQ 3125 2378 3379 2068 \nQ 3634 1759 3634 1313 \nQ 3634 634 3220 271 \nQ 2806 -91 2034 -91 \nQ 1263 -91 848 271 \nQ 434 634 434 1313 \nQ 434 1759 690 2068 \nQ 947 2378 1403 2484 \nz\nM 1172 3481 \nQ 1172 3119 1398 2916 \nQ 1625 2713 2034 2713 \nQ 2441 2713 2670 2916 \nQ 2900 3119 2900 3481 \nQ 2900 3844 2670 4047 \nQ 2441 4250 2034 4250 \nQ 1625 4250 1398 4047 \nQ 1172 3844 1172 3481 \nz\n\" transform=\"scale(0.015625)\"/>\n       </defs>\n       <use xlink:href=\"#DejaVuSans-30\"/>\n       <use xlink:href=\"#DejaVuSans-2e\" x=\"63.623047\"/>\n       <use xlink:href=\"#DejaVuSans-38\" x=\"95.410156\"/>\n      </g>\n     </g>\n    </g>\n    <g id=\"ytick_7\">\n     <g id=\"line2d_10\">\n      <path d=\"M 59.024844 70.179792 \nL 282.224844 70.179792 \n\" clip-path=\"url(#p99c1ca87f8)\" style=\"fill: none; stroke: #ffffff; stroke-linecap: round\"/>\n     </g>\n     <g id=\"text_11\">\n      <!-- 1.0 -->\n      <g style=\"fill: #262626\" transform=\"translate(32.031406 74.358933) scale(0.11 -0.11)\">\n       <use xlink:href=\"#DejaVuSans-31\"/>\n       <use xlink:href=\"#DejaVuSans-2e\" x=\"63.623047\"/>\n       <use xlink:href=\"#DejaVuSans-30\" x=\"95.410156\"/>\n      </g>\n     </g>\n    </g>\n    <g id=\"ytick_8\">\n     <g id=\"line2d_11\">\n      <path d=\"M 59.024844 43.516356 \nL 282.224844 43.516356 \n\" clip-path=\"url(#p99c1ca87f8)\" style=\"fill: none; stroke: #ffffff; stroke-linecap: round\"/>\n     </g>\n     <g id=\"text_12\">\n      <!-- 1.2 -->\n      <g style=\"fill: #262626\" transform=\"translate(32.031406 47.695497) scale(0.11 -0.11)\">\n       <use xlink:href=\"#DejaVuSans-31\"/>\n       <use xlink:href=\"#DejaVuSans-2e\" x=\"63.623047\"/>\n       <use xlink:href=\"#DejaVuSans-32\" x=\"95.410156\"/>\n      </g>\n     </g>\n    </g>\n    <g id=\"text_13\">\n     <!-- $x_2$ -->\n     <g style=\"fill: #262626\" transform=\"translate(16.318125 139.618125) rotate(-90) scale(0.12 -0.12)\">\n      <use xlink:href=\"#DejaVuSans-Oblique-78\" transform=\"translate(0 0.3125)\"/>\n      <use xlink:href=\"#DejaVuSans-32\" transform=\"translate(59.179688 -16.09375) scale(0.7)\"/>\n     </g>\n    </g>\n   </g>\n   <g id=\"PathCollection_1\">\n    <defs>\n     <path id=\"m7475266c31\" d=\"M 0 3 \nC 0.795609 3 1.55874 2.683901 2.12132 2.12132 \nC 2.683901 1.55874 3 0.795609 3 0 \nC 3 -0.795609 2.683901 -1.55874 2.12132 -2.12132 \nC 1.55874 -2.683901 0.795609 -3 0 -3 \nC -0.795609 -3 -1.55874 -2.683901 -2.12132 -2.12132 \nC -2.683901 -1.55874 -3 -0.795609 -3 0 \nC -3 0.795609 -2.683901 1.55874 -2.12132 2.12132 \nC -1.55874 2.683901 -0.795609 3 0 3 \nz\n\" style=\"stroke: #333333\"/>\n    </defs>\n    <g clip-path=\"url(#p99c1ca87f8)\">\n     <use xlink:href=\"#m7475266c31\" x=\"234.404252\" y=\"69.299324\" style=\"fill: #4c72b0; stroke: #333333\"/>\n     <use xlink:href=\"#m7475266c31\" x=\"259.41507\" y=\"87.593062\" style=\"fill: #4c72b0; stroke: #333333\"/>\n     <use xlink:href=\"#m7475266c31\" x=\"233.955552\" y=\"32.398125\" style=\"fill: #4c72b0; stroke: #333333\"/>\n     <use xlink:href=\"#m7475266c31\" x=\"242.530645\" y=\"77.484974\" style=\"fill: #4c72b0; stroke: #333333\"/>\n     <use xlink:href=\"#m7475266c31\" x=\"228.298619\" y=\"76.162428\" style=\"fill: #4c72b0; stroke: #333333\"/>\n     <use xlink:href=\"#m7475266c31\" x=\"243.096312\" y=\"65.073326\" style=\"fill: #4c72b0; stroke: #333333\"/>\n     <use xlink:href=\"#m7475266c31\" x=\"242.905832\" y=\"101.002109\" style=\"fill: #4c72b0; stroke: #333333\"/>\n     <use xlink:href=\"#m7475266c31\" x=\"239.091527\" y=\"61.520779\" style=\"fill: #4c72b0; stroke: #333333\"/>\n     <use xlink:href=\"#m7475266c31\" x=\"111.704097\" y=\"213.530254\" style=\"fill: #4c72b0; stroke: #333333\"/>\n     <use xlink:href=\"#m7475266c31\" x=\"234.889442\" y=\"87.274542\" style=\"fill: #4c72b0; stroke: #333333\"/>\n     <use xlink:href=\"#m7475266c31\" x=\"269.651916\" y=\"85.865603\" style=\"fill: #4c72b0; stroke: #333333\"/>\n     <use xlink:href=\"#m7475266c31\" x=\"209.347529\" y=\"60.71944\" style=\"fill: #4c72b0; stroke: #333333\"/>\n     <use xlink:href=\"#m7475266c31\" x=\"254.410449\" y=\"61.894844\" style=\"fill: #4c72b0; stroke: #333333\"/>\n     <use xlink:href=\"#m7475266c31\" x=\"246.326486\" y=\"79.847972\" style=\"fill: #4c72b0; stroke: #333333\"/>\n     <use xlink:href=\"#m7475266c31\" x=\"105.295624\" y=\"227.369769\" style=\"fill: #4c72b0; stroke: #333333\"/>\n     <use xlink:href=\"#m7475266c31\" x=\"244.742909\" y=\"95.713458\" style=\"fill: #4c72b0; stroke: #333333\"/>\n     <use xlink:href=\"#m7475266c31\" x=\"226.306989\" y=\"59.964444\" style=\"fill: #4c72b0; stroke: #333333\"/>\n     <use xlink:href=\"#m7475266c31\" x=\"119.02833\" y=\"198.78666\" style=\"fill: #4c72b0; stroke: #333333\"/>\n     <use xlink:href=\"#m7475266c31\" x=\"75.212836\" y=\"222.928438\" style=\"fill: #4c72b0; stroke: #333333\"/>\n     <use xlink:href=\"#m7475266c31\" x=\"97.517183\" y=\"200.277351\" style=\"fill: #4c72b0; stroke: #333333\"/>\n     <use xlink:href=\"#m7475266c31\" x=\"108.057991\" y=\"187.508449\" style=\"fill: #4c72b0; stroke: #333333\"/>\n     <use xlink:href=\"#m7475266c31\" x=\"235.416167\" y=\"70.783204\" style=\"fill: #4c72b0; stroke: #333333\"/>\n     <use xlink:href=\"#m7475266c31\" x=\"108.772629\" y=\"221.705628\" style=\"fill: #4c72b0; stroke: #333333\"/>\n     <use xlink:href=\"#m7475266c31\" x=\"125.233571\" y=\"211.79992\" style=\"fill: #4c72b0; stroke: #333333\"/>\n     <use xlink:href=\"#m7475266c31\" x=\"132.306674\" y=\"196.614334\" style=\"fill: #4c72b0; stroke: #333333\"/>\n     <use xlink:href=\"#m7475266c31\" x=\"93.766673\" y=\"188.580519\" style=\"fill: #4c72b0; stroke: #333333\"/>\n     <use xlink:href=\"#m7475266c31\" x=\"248.561806\" y=\"67.527039\" style=\"fill: #4c72b0; stroke: #333333\"/>\n     <use xlink:href=\"#m7475266c31\" x=\"104.451805\" y=\"205.814975\" style=\"fill: #4c72b0; stroke: #333333\"/>\n     <use xlink:href=\"#m7475266c31\" x=\"252.154985\" y=\"54.631842\" style=\"fill: #4c72b0; stroke: #333333\"/>\n     <use xlink:href=\"#m7475266c31\" x=\"110.665922\" y=\"196.396673\" style=\"fill: #4c72b0; stroke: #333333\"/>\n     <use xlink:href=\"#m7475266c31\" x=\"235.470843\" y=\"72.502971\" style=\"fill: #4c72b0; stroke: #333333\"/>\n     <use xlink:href=\"#m7475266c31\" x=\"95.525759\" y=\"200.888744\" style=\"fill: #4c72b0; stroke: #333333\"/>\n     <use xlink:href=\"#m7475266c31\" x=\"100.041614\" y=\"227.359133\" style=\"fill: #4c72b0; stroke: #333333\"/>\n     <use xlink:href=\"#m7475266c31\" x=\"139.512124\" y=\"190.469862\" style=\"fill: #4c72b0; stroke: #333333\"/>\n     <use xlink:href=\"#m7475266c31\" x=\"110.891577\" y=\"207.660387\" style=\"fill: #4c72b0; stroke: #333333\"/>\n     <use xlink:href=\"#m7475266c31\" x=\"97.743754\" y=\"191.51537\" style=\"fill: #4c72b0; stroke: #333333\"/>\n     <use xlink:href=\"#m7475266c31\" x=\"111.575062\" y=\"193.523176\" style=\"fill: #4c72b0; stroke: #333333\"/>\n     <use xlink:href=\"#m7475266c31\" x=\"241.325173\" y=\"82.292412\" style=\"fill: #4c72b0; stroke: #333333\"/>\n     <use xlink:href=\"#m7475266c31\" x=\"95.626088\" y=\"196.487164\" style=\"fill: #4c72b0; stroke: #333333\"/>\n     <use xlink:href=\"#m7475266c31\" x=\"251.842041\" y=\"76.81382\" style=\"fill: #4c72b0; stroke: #333333\"/>\n     <use xlink:href=\"#m7475266c31\" x=\"141.389301\" y=\"215.767364\" style=\"fill: #4c72b0; stroke: #333333\"/>\n     <use xlink:href=\"#m7475266c31\" x=\"119.30396\" y=\"209.366458\" style=\"fill: #4c72b0; stroke: #333333\"/>\n     <use xlink:href=\"#m7475266c31\" x=\"79.597615\" y=\"186.237958\" style=\"fill: #4c72b0; stroke: #333333\"/>\n     <use xlink:href=\"#m7475266c31\" x=\"109.394854\" y=\"197.750389\" style=\"fill: #4c72b0; stroke: #333333\"/>\n     <use xlink:href=\"#m7475266c31\" x=\"259.192382\" y=\"69.072996\" style=\"fill: #4c72b0; stroke: #333333\"/>\n     <use xlink:href=\"#m7475266c31\" x=\"235.802155\" y=\"86.576879\" style=\"fill: #4c72b0; stroke: #333333\"/>\n     <use xlink:href=\"#m7475266c31\" x=\"238.32645\" y=\"59.3463\" style=\"fill: #4c72b0; stroke: #333333\"/>\n     <use xlink:href=\"#m7475266c31\" x=\"263.435653\" y=\"69.594577\" style=\"fill: #4c72b0; stroke: #333333\"/>\n     <use xlink:href=\"#m7475266c31\" x=\"250.241063\" y=\"82.415159\" style=\"fill: #4c72b0; stroke: #333333\"/>\n     <use xlink:href=\"#m7475266c31\" x=\"114.935963\" y=\"201.829758\" style=\"fill: #4c72b0; stroke: #333333\"/>\n     <use xlink:href=\"#m7475266c31\" x=\"120.760877\" y=\"216.078637\" style=\"fill: #4c72b0; stroke: #333333\"/>\n     <use xlink:href=\"#m7475266c31\" x=\"108.356282\" y=\"215.106838\" style=\"fill: #4c72b0; stroke: #333333\"/>\n     <use xlink:href=\"#m7475266c31\" x=\"101.910067\" y=\"196.332792\" style=\"fill: #4c72b0; stroke: #333333\"/>\n     <use xlink:href=\"#m7475266c31\" x=\"234.317169\" y=\"73.245499\" style=\"fill: #4c72b0; stroke: #333333\"/>\n     <use xlink:href=\"#m7475266c31\" x=\"81.535948\" y=\"202.328002\" style=\"fill: #4c72b0; stroke: #333333\"/>\n     <use xlink:href=\"#m7475266c31\" x=\"106.466794\" y=\"183.242069\" style=\"fill: #4c72b0; stroke: #333333\"/>\n     <use xlink:href=\"#m7475266c31\" x=\"242.271086\" y=\"83.733541\" style=\"fill: #4c72b0; stroke: #333333\"/>\n     <use xlink:href=\"#m7475266c31\" x=\"221.303669\" y=\"70.445986\" style=\"fill: #4c72b0; stroke: #333333\"/>\n     <use xlink:href=\"#m7475266c31\" x=\"235.892862\" y=\"44.195236\" style=\"fill: #4c72b0; stroke: #333333\"/>\n     <use xlink:href=\"#m7475266c31\" x=\"234.038852\" y=\"63.200346\" style=\"fill: #4c72b0; stroke: #333333\"/>\n     <use xlink:href=\"#m7475266c31\" x=\"106.849981\" y=\"201.856348\" style=\"fill: #4c72b0; stroke: #333333\"/>\n     <use xlink:href=\"#m7475266c31\" x=\"122.0934\" y=\"200.67563\" style=\"fill: #4c72b0; stroke: #333333\"/>\n     <use xlink:href=\"#m7475266c31\" x=\"146.782597\" y=\"197.737599\" style=\"fill: #4c72b0; stroke: #333333\"/>\n     <use xlink:href=\"#m7475266c31\" x=\"239.38753\" y=\"71.467382\" style=\"fill: #4c72b0; stroke: #333333\"/>\n     <use xlink:href=\"#m7475266c31\" x=\"264.018538\" y=\"90.373791\" style=\"fill: #4c72b0; stroke: #333333\"/>\n     <use xlink:href=\"#m7475266c31\" x=\"104.866588\" y=\"184.320113\" style=\"fill: #4c72b0; stroke: #333333\"/>\n     <use xlink:href=\"#m7475266c31\" x=\"150.692161\" y=\"185.549026\" style=\"fill: #4c72b0; stroke: #333333\"/>\n     <use xlink:href=\"#m7475266c31\" x=\"254.886328\" y=\"90.518613\" style=\"fill: #4c72b0; stroke: #333333\"/>\n     <use xlink:href=\"#m7475266c31\" x=\"260.539867\" y=\"71.728411\" style=\"fill: #4c72b0; stroke: #333333\"/>\n     <use xlink:href=\"#m7475266c31\" x=\"261.738027\" y=\"76.591521\" style=\"fill: #4c72b0; stroke: #333333\"/>\n     <use xlink:href=\"#m7475266c31\" x=\"110.549755\" y=\"208.907784\" style=\"fill: #4c72b0; stroke: #333333\"/>\n     <use xlink:href=\"#m7475266c31\" x=\"115.493545\" y=\"190.174531\" style=\"fill: #4c72b0; stroke: #333333\"/>\n     <use xlink:href=\"#m7475266c31\" x=\"260.469281\" y=\"53.243142\" style=\"fill: #4c72b0; stroke: #333333\"/>\n     <use xlink:href=\"#m7475266c31\" x=\"271.339612\" y=\"59.57695\" style=\"fill: #4c72b0; stroke: #333333\"/>\n     <use xlink:href=\"#m7475266c31\" x=\"117.505214\" y=\"221.64784\" style=\"fill: #4c72b0; stroke: #333333\"/>\n     <use xlink:href=\"#m7475266c31\" x=\"269.531586\" y=\"46.602781\" style=\"fill: #4c72b0; stroke: #333333\"/>\n     <use xlink:href=\"#m7475266c31\" x=\"79.811595\" y=\"195.402629\" style=\"fill: #4c72b0; stroke: #333333\"/>\n     <use xlink:href=\"#m7475266c31\" x=\"232.198999\" y=\"92.30234\" style=\"fill: #4c72b0; stroke: #333333\"/>\n     <use xlink:href=\"#m7475266c31\" x=\"121.063453\" y=\"178.313058\" style=\"fill: #4c72b0; stroke: #333333\"/>\n     <use xlink:href=\"#m7475266c31\" x=\"224.449528\" y=\"78.273837\" style=\"fill: #4c72b0; stroke: #333333\"/>\n     <use xlink:href=\"#m7475266c31\" x=\"238.367636\" y=\"69.52519\" style=\"fill: #4c72b0; stroke: #333333\"/>\n     <use xlink:href=\"#m7475266c31\" x=\"253.737499\" y=\"80.403786\" style=\"fill: #4c72b0; stroke: #333333\"/>\n     <use xlink:href=\"#m7475266c31\" x=\"97.806607\" y=\"195.722653\" style=\"fill: #4c72b0; stroke: #333333\"/>\n     <use xlink:href=\"#m7475266c31\" x=\"128.343724\" y=\"201.806217\" style=\"fill: #4c72b0; stroke: #333333\"/>\n     <use xlink:href=\"#m7475266c31\" x=\"77.813065\" y=\"197.951294\" style=\"fill: #4c72b0; stroke: #333333\"/>\n     <use xlink:href=\"#m7475266c31\" x=\"248.129897\" y=\"60.311953\" style=\"fill: #4c72b0; stroke: #333333\"/>\n     <use xlink:href=\"#m7475266c31\" x=\"262.345625\" y=\"61.068919\" style=\"fill: #4c72b0; stroke: #333333\"/>\n     <use xlink:href=\"#m7475266c31\" x=\"241.116491\" y=\"67.519331\" style=\"fill: #4c72b0; stroke: #333333\"/>\n     <use xlink:href=\"#m7475266c31\" x=\"226.919551\" y=\"64.800227\" style=\"fill: #4c72b0; stroke: #333333\"/>\n     <use xlink:href=\"#m7475266c31\" x=\"230.1941\" y=\"79.40471\" style=\"fill: #4c72b0; stroke: #333333\"/>\n     <use xlink:href=\"#m7475266c31\" x=\"104.160215\" y=\"220.687345\" style=\"fill: #4c72b0; stroke: #333333\"/>\n     <use xlink:href=\"#m7475266c31\" x=\"124.76167\" y=\"233.998125\" style=\"fill: #4c72b0; stroke: #333333\"/>\n     <use xlink:href=\"#m7475266c31\" x=\"217.031155\" y=\"66.216103\" style=\"fill: #4c72b0; stroke: #333333\"/>\n     <use xlink:href=\"#m7475266c31\" x=\"249.282485\" y=\"70.134546\" style=\"fill: #4c72b0; stroke: #333333\"/>\n     <use xlink:href=\"#m7475266c31\" x=\"229.875906\" y=\"67.192849\" style=\"fill: #4c72b0; stroke: #333333\"/>\n     <use xlink:href=\"#m7475266c31\" x=\"106.186134\" y=\"215.670061\" style=\"fill: #4c72b0; stroke: #333333\"/>\n     <use xlink:href=\"#m7475266c31\" x=\"252.972993\" y=\"65.62585\" style=\"fill: #4c72b0; stroke: #333333\"/>\n     <use xlink:href=\"#m7475266c31\" x=\"264.639476\" y=\"74.830934\" style=\"fill: #4c72b0; stroke: #333333\"/>\n     <use xlink:href=\"#m7475266c31\" x=\"102.482497\" y=\"205.295818\" style=\"fill: #4c72b0; stroke: #333333\"/>\n     <use xlink:href=\"#m7475266c31\" x=\"249.922838\" y=\"63.672135\" style=\"fill: #4c72b0; stroke: #333333\"/>\n     <use xlink:href=\"#m7475266c31\" x=\"123.856301\" y=\"211.429398\" style=\"fill: #4c72b0; stroke: #333333\"/>\n     <use xlink:href=\"#m7475266c31\" x=\"231.711913\" y=\"50.447467\" style=\"fill: #4c72b0; stroke: #333333\"/>\n     <use xlink:href=\"#m7475266c31\" x=\"254.667367\" y=\"72.846801\" style=\"fill: #4c72b0; stroke: #333333\"/>\n    </g>\n   </g>\n   <g id=\"PathCollection_2\">\n    <defs>\n     <path id=\"m3738c29109\" d=\"M 0 3 \nC 0.795609 3 1.55874 2.683901 2.12132 2.12132 \nC 2.683901 1.55874 3 0.795609 3 0 \nC 3 -0.795609 2.683901 -1.55874 2.12132 -2.12132 \nC 1.55874 -2.683901 0.795609 -3 0 -3 \nC -0.795609 -3 -1.55874 -2.683901 -2.12132 -2.12132 \nC -2.683901 -1.55874 -3 -0.795609 -3 0 \nC -3 0.795609 -2.683901 1.55874 -2.12132 2.12132 \nC -1.55874 2.683901 -0.795609 3 0 3 \nz\n\" style=\"stroke: #333333\"/>\n    </defs>\n    <g clip-path=\"url(#p99c1ca87f8)\">\n     <use xlink:href=\"#m3738c29109\" x=\"110.430274\" y=\"68.01925\" style=\"fill: #dd8452; stroke: #333333\"/>\n     <use xlink:href=\"#m3738c29109\" x=\"224.820154\" y=\"202.226923\" style=\"fill: #dd8452; stroke: #333333\"/>\n     <use xlink:href=\"#m3738c29109\" x=\"247.569615\" y=\"197.963533\" style=\"fill: #dd8452; stroke: #333333\"/>\n     <use xlink:href=\"#m3738c29109\" x=\"269.494659\" y=\"176.184526\" style=\"fill: #dd8452; stroke: #333333\"/>\n     <use xlink:href=\"#m3738c29109\" x=\"229.024\" y=\"230.798967\" style=\"fill: #dd8452; stroke: #333333\"/>\n     <use xlink:href=\"#m3738c29109\" x=\"254.828558\" y=\"208.83592\" style=\"fill: #dd8452; stroke: #333333\"/>\n     <use xlink:href=\"#m3738c29109\" x=\"235.400431\" y=\"210.270755\" style=\"fill: #dd8452; stroke: #333333\"/>\n     <use xlink:href=\"#m3738c29109\" x=\"102.210879\" y=\"92.137676\" style=\"fill: #dd8452; stroke: #333333\"/>\n     <use xlink:href=\"#m3738c29109\" x=\"96.652661\" y=\"83.125886\" style=\"fill: #dd8452; stroke: #333333\"/>\n     <use xlink:href=\"#m3738c29109\" x=\"116.071523\" y=\"74.697889\" style=\"fill: #dd8452; stroke: #333333\"/>\n     <use xlink:href=\"#m3738c29109\" x=\"117.332774\" y=\"93.456034\" style=\"fill: #dd8452; stroke: #333333\"/>\n     <use xlink:href=\"#m3738c29109\" x=\"246.06906\" y=\"211.633775\" style=\"fill: #dd8452; stroke: #333333\"/>\n     <use xlink:href=\"#m3738c29109\" x=\"245.673555\" y=\"183.363787\" style=\"fill: #dd8452; stroke: #333333\"/>\n     <use xlink:href=\"#m3738c29109\" x=\"97.762876\" y=\"81.415607\" style=\"fill: #dd8452; stroke: #333333\"/>\n     <use xlink:href=\"#m3738c29109\" x=\"104.268306\" y=\"67.748392\" style=\"fill: #dd8452; stroke: #333333\"/>\n     <use xlink:href=\"#m3738c29109\" x=\"101.895723\" y=\"79.182054\" style=\"fill: #dd8452; stroke: #333333\"/>\n     <use xlink:href=\"#m3738c29109\" x=\"104.729364\" y=\"56.710965\" style=\"fill: #dd8452; stroke: #333333\"/>\n     <use xlink:href=\"#m3738c29109\" x=\"118.571129\" y=\"53.903911\" style=\"fill: #dd8452; stroke: #333333\"/>\n     <use xlink:href=\"#m3738c29109\" x=\"233.000622\" y=\"205.734352\" style=\"fill: #dd8452; stroke: #333333\"/>\n     <use xlink:href=\"#m3738c29109\" x=\"267.096944\" y=\"231.115761\" style=\"fill: #dd8452; stroke: #333333\"/>\n     <use xlink:href=\"#m3738c29109\" x=\"238.012436\" y=\"216.521467\" style=\"fill: #dd8452; stroke: #333333\"/>\n     <use xlink:href=\"#m3738c29109\" x=\"243.054007\" y=\"214.139196\" style=\"fill: #dd8452; stroke: #333333\"/>\n     <use xlink:href=\"#m3738c29109\" x=\"145.331111\" y=\"65.259683\" style=\"fill: #dd8452; stroke: #333333\"/>\n     <use xlink:href=\"#m3738c29109\" x=\"107.299125\" y=\"66.134828\" style=\"fill: #dd8452; stroke: #333333\"/>\n     <use xlink:href=\"#m3738c29109\" x=\"251.607695\" y=\"200.491521\" style=\"fill: #dd8452; stroke: #333333\"/>\n     <use xlink:href=\"#m3738c29109\" x=\"106.960047\" y=\"76.049089\" style=\"fill: #dd8452; stroke: #333333\"/>\n     <use xlink:href=\"#m3738c29109\" x=\"93.313315\" y=\"60.329212\" style=\"fill: #dd8452; stroke: #333333\"/>\n     <use xlink:href=\"#m3738c29109\" x=\"240.119463\" y=\"219.568838\" style=\"fill: #dd8452; stroke: #333333\"/>\n     <use xlink:href=\"#m3738c29109\" x=\"247.666295\" y=\"192.764301\" style=\"fill: #dd8452; stroke: #333333\"/>\n     <use xlink:href=\"#m3738c29109\" x=\"227.534819\" y=\"201.802334\" style=\"fill: #dd8452; stroke: #333333\"/>\n     <use xlink:href=\"#m3738c29109\" x=\"116.300123\" y=\"61.677195\" style=\"fill: #dd8452; stroke: #333333\"/>\n     <use xlink:href=\"#m3738c29109\" x=\"112.566735\" y=\"46.585363\" style=\"fill: #dd8452; stroke: #333333\"/>\n     <use xlink:href=\"#m3738c29109\" x=\"113.40348\" y=\"87.409312\" style=\"fill: #dd8452; stroke: #333333\"/>\n     <use xlink:href=\"#m3738c29109\" x=\"132.381553\" y=\"48.841467\" style=\"fill: #dd8452; stroke: #333333\"/>\n     <use xlink:href=\"#m3738c29109\" x=\"115.341911\" y=\"59.997056\" style=\"fill: #dd8452; stroke: #333333\"/>\n     <use xlink:href=\"#m3738c29109\" x=\"250.399542\" y=\"212.849661\" style=\"fill: #dd8452; stroke: #333333\"/>\n     <use xlink:href=\"#m3738c29109\" x=\"237.748768\" y=\"201.610838\" style=\"fill: #dd8452; stroke: #333333\"/>\n     <use xlink:href=\"#m3738c29109\" x=\"111.386682\" y=\"62.669325\" style=\"fill: #dd8452; stroke: #333333\"/>\n     <use xlink:href=\"#m3738c29109\" x=\"262.719844\" y=\"200.403626\" style=\"fill: #dd8452; stroke: #333333\"/>\n     <use xlink:href=\"#m3738c29109\" x=\"109.92925\" y=\"44.665531\" style=\"fill: #dd8452; stroke: #333333\"/>\n     <use xlink:href=\"#m3738c29109\" x=\"233.360279\" y=\"219.369181\" style=\"fill: #dd8452; stroke: #333333\"/>\n     <use xlink:href=\"#m3738c29109\" x=\"113.771489\" y=\"88.325555\" style=\"fill: #dd8452; stroke: #333333\"/>\n     <use xlink:href=\"#m3738c29109\" x=\"134.415949\" y=\"71.170897\" style=\"fill: #dd8452; stroke: #333333\"/>\n     <use xlink:href=\"#m3738c29109\" x=\"258.055545\" y=\"205.066388\" style=\"fill: #dd8452; stroke: #333333\"/>\n     <use xlink:href=\"#m3738c29109\" x=\"243.399405\" y=\"210.405745\" style=\"fill: #dd8452; stroke: #333333\"/>\n     <use xlink:href=\"#m3738c29109\" x=\"121.611605\" y=\"69.39959\" style=\"fill: #dd8452; stroke: #333333\"/>\n     <use xlink:href=\"#m3738c29109\" x=\"223.30093\" y=\"201.647484\" style=\"fill: #dd8452; stroke: #333333\"/>\n     <use xlink:href=\"#m3738c29109\" x=\"227.803578\" y=\"210.55933\" style=\"fill: #dd8452; stroke: #333333\"/>\n     <use xlink:href=\"#m3738c29109\" x=\"256.308873\" y=\"199.771578\" style=\"fill: #dd8452; stroke: #333333\"/>\n     <use xlink:href=\"#m3738c29109\" x=\"87.679825\" y=\"59.00135\" style=\"fill: #dd8452; stroke: #333333\"/>\n     <use xlink:href=\"#m3738c29109\" x=\"253.339979\" y=\"199.856036\" style=\"fill: #dd8452; stroke: #333333\"/>\n     <use xlink:href=\"#m3738c29109\" x=\"234.096225\" y=\"220.187634\" style=\"fill: #dd8452; stroke: #333333\"/>\n     <use xlink:href=\"#m3738c29109\" x=\"116.375843\" y=\"49.876126\" style=\"fill: #dd8452; stroke: #333333\"/>\n     <use xlink:href=\"#m3738c29109\" x=\"97.262714\" y=\"86.387653\" style=\"fill: #dd8452; stroke: #333333\"/>\n     <use xlink:href=\"#m3738c29109\" x=\"234.039764\" y=\"208.157464\" style=\"fill: #dd8452; stroke: #333333\"/>\n     <use xlink:href=\"#m3738c29109\" x=\"111.817884\" y=\"59.127331\" style=\"fill: #dd8452; stroke: #333333\"/>\n     <use xlink:href=\"#m3738c29109\" x=\"247.21773\" y=\"201.0113\" style=\"fill: #dd8452; stroke: #333333\"/>\n     <use xlink:href=\"#m3738c29109\" x=\"115.16042\" y=\"68.51615\" style=\"fill: #dd8452; stroke: #333333\"/>\n     <use xlink:href=\"#m3738c29109\" x=\"266.684164\" y=\"220.374943\" style=\"fill: #dd8452; stroke: #333333\"/>\n     <use xlink:href=\"#m3738c29109\" x=\"115.618781\" y=\"65.608686\" style=\"fill: #dd8452; stroke: #333333\"/>\n     <use xlink:href=\"#m3738c29109\" x=\"91.026126\" y=\"90.092793\" style=\"fill: #dd8452; stroke: #333333\"/>\n     <use xlink:href=\"#m3738c29109\" x=\"240.555766\" y=\"201.884165\" style=\"fill: #dd8452; stroke: #333333\"/>\n     <use xlink:href=\"#m3738c29109\" x=\"109.412735\" y=\"57.038799\" style=\"fill: #dd8452; stroke: #333333\"/>\n     <use xlink:href=\"#m3738c29109\" x=\"260.511204\" y=\"199.655411\" style=\"fill: #dd8452; stroke: #333333\"/>\n     <use xlink:href=\"#m3738c29109\" x=\"255.065205\" y=\"214.291739\" style=\"fill: #dd8452; stroke: #333333\"/>\n     <use xlink:href=\"#m3738c29109\" x=\"224.475677\" y=\"205.471465\" style=\"fill: #dd8452; stroke: #333333\"/>\n     <use xlink:href=\"#m3738c29109\" x=\"97.323439\" y=\"86.672139\" style=\"fill: #dd8452; stroke: #333333\"/>\n     <use xlink:href=\"#m3738c29109\" x=\"114.516102\" y=\"54.421105\" style=\"fill: #dd8452; stroke: #333333\"/>\n     <use xlink:href=\"#m3738c29109\" x=\"247.839684\" y=\"208.688968\" style=\"fill: #dd8452; stroke: #333333\"/>\n     <use xlink:href=\"#m3738c29109\" x=\"148.421235\" y=\"65.768152\" style=\"fill: #dd8452; stroke: #333333\"/>\n     <use xlink:href=\"#m3738c29109\" x=\"251.39822\" y=\"202.568357\" style=\"fill: #dd8452; stroke: #333333\"/>\n     <use xlink:href=\"#m3738c29109\" x=\"89.105122\" y=\"75.910053\" style=\"fill: #dd8452; stroke: #333333\"/>\n     <use xlink:href=\"#m3738c29109\" x=\"251.167965\" y=\"194.392474\" style=\"fill: #dd8452; stroke: #333333\"/>\n     <use xlink:href=\"#m3738c29109\" x=\"69.170298\" y=\"89.627067\" style=\"fill: #dd8452; stroke: #333333\"/>\n     <use xlink:href=\"#m3738c29109\" x=\"240.045442\" y=\"213.082723\" style=\"fill: #dd8452; stroke: #333333\"/>\n     <use xlink:href=\"#m3738c29109\" x=\"99.513911\" y=\"76.457284\" style=\"fill: #dd8452; stroke: #333333\"/>\n     <use xlink:href=\"#m3738c29109\" x=\"118.446081\" y=\"73.946151\" style=\"fill: #dd8452; stroke: #333333\"/>\n     <use xlink:href=\"#m3738c29109\" x=\"244.569727\" y=\"193.566956\" style=\"fill: #dd8452; stroke: #333333\"/>\n     <use xlink:href=\"#m3738c29109\" x=\"135.755895\" y=\"88.210444\" style=\"fill: #dd8452; stroke: #333333\"/>\n     <use xlink:href=\"#m3738c29109\" x=\"244.095751\" y=\"223.776112\" style=\"fill: #dd8452; stroke: #333333\"/>\n     <use xlink:href=\"#m3738c29109\" x=\"108.600978\" y=\"57.029517\" style=\"fill: #dd8452; stroke: #333333\"/>\n     <use xlink:href=\"#m3738c29109\" x=\"250.53042\" y=\"203.606669\" style=\"fill: #dd8452; stroke: #333333\"/>\n     <use xlink:href=\"#m3738c29109\" x=\"91.155616\" y=\"78.247916\" style=\"fill: #dd8452; stroke: #333333\"/>\n     <use xlink:href=\"#m3738c29109\" x=\"262.873484\" y=\"199.075461\" style=\"fill: #dd8452; stroke: #333333\"/>\n     <use xlink:href=\"#m3738c29109\" x=\"100.388099\" y=\"58.620117\" style=\"fill: #dd8452; stroke: #333333\"/>\n     <use xlink:href=\"#m3738c29109\" x=\"269.038735\" y=\"225.51413\" style=\"fill: #dd8452; stroke: #333333\"/>\n     <use xlink:href=\"#m3738c29109\" x=\"272.079389\" y=\"212.301416\" style=\"fill: #dd8452; stroke: #333333\"/>\n     <use xlink:href=\"#m3738c29109\" x=\"245.012121\" y=\"198.754979\" style=\"fill: #dd8452; stroke: #333333\"/>\n     <use xlink:href=\"#m3738c29109\" x=\"237.408423\" y=\"219.924407\" style=\"fill: #dd8452; stroke: #333333\"/>\n     <use xlink:href=\"#m3738c29109\" x=\"244.204359\" y=\"197.83129\" style=\"fill: #dd8452; stroke: #333333\"/>\n     <use xlink:href=\"#m3738c29109\" x=\"248.725963\" y=\"222.57933\" style=\"fill: #dd8452; stroke: #333333\"/>\n     <use xlink:href=\"#m3738c29109\" x=\"256.740497\" y=\"193.895648\" style=\"fill: #dd8452; stroke: #333333\"/>\n     <use xlink:href=\"#m3738c29109\" x=\"108.655814\" y=\"72.372326\" style=\"fill: #dd8452; stroke: #333333\"/>\n     <use xlink:href=\"#m3738c29109\" x=\"212.086343\" y=\"207.369747\" style=\"fill: #dd8452; stroke: #333333\"/>\n     <use xlink:href=\"#m3738c29109\" x=\"108.664758\" y=\"72.271987\" style=\"fill: #dd8452; stroke: #333333\"/>\n     <use xlink:href=\"#m3738c29109\" x=\"125.587494\" y=\"73.519671\" style=\"fill: #dd8452; stroke: #333333\"/>\n     <use xlink:href=\"#m3738c29109\" x=\"132.667815\" y=\"44.999388\" style=\"fill: #dd8452; stroke: #333333\"/>\n    </g>\n   </g>\n   <g id=\"patch_3\">\n    <path d=\"M 59.024844 244.078125 \nL 59.024844 22.318125 \n\" style=\"fill: none; stroke: #ffffff; stroke-width: 1.25; stroke-linejoin: miter; stroke-linecap: square\"/>\n   </g>\n   <g id=\"patch_4\">\n    <path d=\"M 282.224844 244.078125 \nL 282.224844 22.318125 \n\" style=\"fill: none; stroke: #ffffff; stroke-width: 1.25; stroke-linejoin: miter; stroke-linecap: square\"/>\n   </g>\n   <g id=\"patch_5\">\n    <path d=\"M 59.024844 244.078125 \nL 282.224844 244.078125 \n\" style=\"fill: none; stroke: #ffffff; stroke-width: 1.25; stroke-linejoin: miter; stroke-linecap: square\"/>\n   </g>\n   <g id=\"patch_6\">\n    <path d=\"M 59.024844 22.318125 \nL 282.224844 22.318125 \n\" style=\"fill: none; stroke: #ffffff; stroke-width: 1.25; stroke-linejoin: miter; stroke-linecap: square\"/>\n   </g>\n   <g id=\"text_14\">\n    <!-- Dataset samples -->\n    <g style=\"fill: #262626\" transform=\"translate(120.282031 16.318125) scale(0.12 -0.12)\">\n     <defs>\n      <path id=\"DejaVuSans-44\" d=\"M 1259 4147 \nL 1259 519 \nL 2022 519 \nQ 2988 519 3436 956 \nQ 3884 1394 3884 2338 \nQ 3884 3275 3436 3711 \nQ 2988 4147 2022 4147 \nL 1259 4147 \nz\nM 628 4666 \nL 1925 4666 \nQ 3281 4666 3915 4102 \nQ 4550 3538 4550 2338 \nQ 4550 1131 3912 565 \nQ 3275 0 1925 0 \nL 628 0 \nL 628 4666 \nz\n\" transform=\"scale(0.015625)\"/>\n      <path id=\"DejaVuSans-61\" d=\"M 2194 1759 \nQ 1497 1759 1228 1600 \nQ 959 1441 959 1056 \nQ 959 750 1161 570 \nQ 1363 391 1709 391 \nQ 2188 391 2477 730 \nQ 2766 1069 2766 1631 \nL 2766 1759 \nL 2194 1759 \nz\nM 3341 1997 \nL 3341 0 \nL 2766 0 \nL 2766 531 \nQ 2569 213 2275 61 \nQ 1981 -91 1556 -91 \nQ 1019 -91 701 211 \nQ 384 513 384 1019 \nQ 384 1609 779 1909 \nQ 1175 2209 1959 2209 \nL 2766 2209 \nL 2766 2266 \nQ 2766 2663 2505 2880 \nQ 2244 3097 1772 3097 \nQ 1472 3097 1187 3025 \nQ 903 2953 641 2809 \nL 641 3341 \nQ 956 3463 1253 3523 \nQ 1550 3584 1831 3584 \nQ 2591 3584 2966 3190 \nQ 3341 2797 3341 1997 \nz\n\" transform=\"scale(0.015625)\"/>\n      <path id=\"DejaVuSans-74\" d=\"M 1172 4494 \nL 1172 3500 \nL 2356 3500 \nL 2356 3053 \nL 1172 3053 \nL 1172 1153 \nQ 1172 725 1289 603 \nQ 1406 481 1766 481 \nL 2356 481 \nL 2356 0 \nL 1766 0 \nQ 1100 0 847 248 \nQ 594 497 594 1153 \nL 594 3053 \nL 172 3053 \nL 172 3500 \nL 594 3500 \nL 594 4494 \nL 1172 4494 \nz\n\" transform=\"scale(0.015625)\"/>\n      <path id=\"DejaVuSans-73\" d=\"M 2834 3397 \nL 2834 2853 \nQ 2591 2978 2328 3040 \nQ 2066 3103 1784 3103 \nQ 1356 3103 1142 2972 \nQ 928 2841 928 2578 \nQ 928 2378 1081 2264 \nQ 1234 2150 1697 2047 \nL 1894 2003 \nQ 2506 1872 2764 1633 \nQ 3022 1394 3022 966 \nQ 3022 478 2636 193 \nQ 2250 -91 1575 -91 \nQ 1294 -91 989 -36 \nQ 684 19 347 128 \nL 347 722 \nQ 666 556 975 473 \nQ 1284 391 1588 391 \nQ 1994 391 2212 530 \nQ 2431 669 2431 922 \nQ 2431 1156 2273 1281 \nQ 2116 1406 1581 1522 \nL 1381 1569 \nQ 847 1681 609 1914 \nQ 372 2147 372 2553 \nQ 372 3047 722 3315 \nQ 1072 3584 1716 3584 \nQ 2034 3584 2315 3537 \nQ 2597 3491 2834 3397 \nz\n\" transform=\"scale(0.015625)\"/>\n      <path id=\"DejaVuSans-65\" d=\"M 3597 1894 \nL 3597 1613 \nL 953 1613 \nQ 991 1019 1311 708 \nQ 1631 397 2203 397 \nQ 2534 397 2845 478 \nQ 3156 559 3463 722 \nL 3463 178 \nQ 3153 47 2828 -22 \nQ 2503 -91 2169 -91 \nQ 1331 -91 842 396 \nQ 353 884 353 1716 \nQ 353 2575 817 3079 \nQ 1281 3584 2069 3584 \nQ 2775 3584 3186 3129 \nQ 3597 2675 3597 1894 \nz\nM 3022 2063 \nQ 3016 2534 2758 2815 \nQ 2500 3097 2075 3097 \nQ 1594 3097 1305 2825 \nQ 1016 2553 972 2059 \nL 3022 2063 \nz\n\" transform=\"scale(0.015625)\"/>\n      <path id=\"DejaVuSans-20\" transform=\"scale(0.015625)\"/>\n      <path id=\"DejaVuSans-6d\" d=\"M 3328 2828 \nQ 3544 3216 3844 3400 \nQ 4144 3584 4550 3584 \nQ 5097 3584 5394 3201 \nQ 5691 2819 5691 2113 \nL 5691 0 \nL 5113 0 \nL 5113 2094 \nQ 5113 2597 4934 2840 \nQ 4756 3084 4391 3084 \nQ 3944 3084 3684 2787 \nQ 3425 2491 3425 1978 \nL 3425 0 \nL 2847 0 \nL 2847 2094 \nQ 2847 2600 2669 2842 \nQ 2491 3084 2119 3084 \nQ 1678 3084 1418 2786 \nQ 1159 2488 1159 1978 \nL 1159 0 \nL 581 0 \nL 581 3500 \nL 1159 3500 \nL 1159 2956 \nQ 1356 3278 1631 3431 \nQ 1906 3584 2284 3584 \nQ 2666 3584 2933 3390 \nQ 3200 3197 3328 2828 \nz\n\" transform=\"scale(0.015625)\"/>\n      <path id=\"DejaVuSans-70\" d=\"M 1159 525 \nL 1159 -1331 \nL 581 -1331 \nL 581 3500 \nL 1159 3500 \nL 1159 2969 \nQ 1341 3281 1617 3432 \nQ 1894 3584 2278 3584 \nQ 2916 3584 3314 3078 \nQ 3713 2572 3713 1747 \nQ 3713 922 3314 415 \nQ 2916 -91 2278 -91 \nQ 1894 -91 1617 61 \nQ 1341 213 1159 525 \nz\nM 3116 1747 \nQ 3116 2381 2855 2742 \nQ 2594 3103 2138 3103 \nQ 1681 3103 1420 2742 \nQ 1159 2381 1159 1747 \nQ 1159 1113 1420 752 \nQ 1681 391 2138 391 \nQ 2594 391 2855 752 \nQ 3116 1113 3116 1747 \nz\n\" transform=\"scale(0.015625)\"/>\n      <path id=\"DejaVuSans-6c\" d=\"M 603 4863 \nL 1178 4863 \nL 1178 0 \nL 603 0 \nL 603 4863 \nz\n\" transform=\"scale(0.015625)\"/>\n     </defs>\n     <use xlink:href=\"#DejaVuSans-44\"/>\n     <use xlink:href=\"#DejaVuSans-61\" x=\"77.001953\"/>\n     <use xlink:href=\"#DejaVuSans-74\" x=\"138.28125\"/>\n     <use xlink:href=\"#DejaVuSans-61\" x=\"177.490234\"/>\n     <use xlink:href=\"#DejaVuSans-73\" x=\"238.769531\"/>\n     <use xlink:href=\"#DejaVuSans-65\" x=\"290.869141\"/>\n     <use xlink:href=\"#DejaVuSans-74\" x=\"352.392578\"/>\n     <use xlink:href=\"#DejaVuSans-20\" x=\"391.601562\"/>\n     <use xlink:href=\"#DejaVuSans-73\" x=\"423.388672\"/>\n     <use xlink:href=\"#DejaVuSans-61\" x=\"475.488281\"/>\n     <use xlink:href=\"#DejaVuSans-6d\" x=\"536.767578\"/>\n     <use xlink:href=\"#DejaVuSans-70\" x=\"634.179688\"/>\n     <use xlink:href=\"#DejaVuSans-6c\" x=\"697.65625\"/>\n     <use xlink:href=\"#DejaVuSans-65\" x=\"725.439453\"/>\n     <use xlink:href=\"#DejaVuSans-73\" x=\"786.962891\"/>\n    </g>\n   </g>\n   <g id=\"legend_1\">\n    <g id=\"patch_7\">\n     <path d=\"M 199.891562 150.994063 \nL 274.524844 150.994063 \nQ 276.724844 150.994063 276.724844 148.794063 \nL 276.724844 117.602188 \nQ 276.724844 115.402188 274.524844 115.402188 \nL 199.891562 115.402188 \nQ 197.691562 115.402188 197.691562 117.602188 \nL 197.691562 148.794063 \nQ 197.691562 150.994063 199.891562 150.994063 \nz\n\" style=\"fill: #eaeaf2; opacity: 0.8; stroke: #cccccc; stroke-linejoin: miter\"/>\n    </g>\n    <g id=\"PathCollection_3\">\n     <g>\n      <use xlink:href=\"#m7475266c31\" x=\"213.091562\" y=\"125.272969\" style=\"fill: #4c72b0; stroke: #333333\"/>\n     </g>\n    </g>\n    <g id=\"text_15\">\n     <!-- Class 0 -->\n     <g style=\"fill: #262626\" transform=\"translate(232.891562 128.160469) scale(0.11 -0.11)\">\n      <defs>\n       <path id=\"DejaVuSans-43\" d=\"M 4122 4306 \nL 4122 3641 \nQ 3803 3938 3442 4084 \nQ 3081 4231 2675 4231 \nQ 1875 4231 1450 3742 \nQ 1025 3253 1025 2328 \nQ 1025 1406 1450 917 \nQ 1875 428 2675 428 \nQ 3081 428 3442 575 \nQ 3803 722 4122 1019 \nL 4122 359 \nQ 3791 134 3420 21 \nQ 3050 -91 2638 -91 \nQ 1578 -91 968 557 \nQ 359 1206 359 2328 \nQ 359 3453 968 4101 \nQ 1578 4750 2638 4750 \nQ 3056 4750 3426 4639 \nQ 3797 4528 4122 4306 \nz\n\" transform=\"scale(0.015625)\"/>\n      </defs>\n      <use xlink:href=\"#DejaVuSans-43\"/>\n      <use xlink:href=\"#DejaVuSans-6c\" x=\"69.824219\"/>\n      <use xlink:href=\"#DejaVuSans-61\" x=\"97.607422\"/>\n      <use xlink:href=\"#DejaVuSans-73\" x=\"158.886719\"/>\n      <use xlink:href=\"#DejaVuSans-73\" x=\"210.986328\"/>\n      <use xlink:href=\"#DejaVuSans-20\" x=\"263.085938\"/>\n      <use xlink:href=\"#DejaVuSans-30\" x=\"294.873047\"/>\n     </g>\n    </g>\n    <g id=\"PathCollection_4\">\n     <g>\n      <use xlink:href=\"#m3738c29109\" x=\"213.091562\" y=\"141.418906\" style=\"fill: #dd8452; stroke: #333333\"/>\n     </g>\n    </g>\n    <g id=\"text_16\">\n     <!-- Class 1 -->\n     <g style=\"fill: #262626\" transform=\"translate(232.891562 144.306406) scale(0.11 -0.11)\">\n      <use xlink:href=\"#DejaVuSans-43\"/>\n      <use xlink:href=\"#DejaVuSans-6c\" x=\"69.824219\"/>\n      <use xlink:href=\"#DejaVuSans-61\" x=\"97.607422\"/>\n      <use xlink:href=\"#DejaVuSans-73\" x=\"158.886719\"/>\n      <use xlink:href=\"#DejaVuSans-73\" x=\"210.986328\"/>\n      <use xlink:href=\"#DejaVuSans-20\" x=\"263.085938\"/>\n      <use xlink:href=\"#DejaVuSans-31\" x=\"294.873047\"/>\n     </g>\n    </g>\n   </g>\n  </g>\n </g>\n <defs>\n  <clipPath id=\"p99c1ca87f8\">\n   <rect x=\"59.024844\" y=\"22.318125\" width=\"223.2\" height=\"221.76\"/>\n  </clipPath>\n </defs>\n</svg>\n",
            "application/pdf": "[encoded data removed]"
          },
          "metadata": {}
        }
      ],
      "source": [
        "visualize_samples(dataset.data, dataset.label)\n",
        "plt.show()"
      ]
    },
    {
      "cell_type": "markdown",
      "metadata": {
        "id": "pBWUzixSDv4y"
      },
      "source": [
        "#### The data loader class\n",
        "\n",
        "The class `torch.utils.data.DataLoader` represents a Python iterable over a dataset with support for automatic batching, multi-process data loading and many more features. The data loader communicates with the dataset using the function `__getitem__`, and stacks its outputs as tensors over the first dimension to form a batch.\n",
        "In contrast to the dataset class, we usually don't have to define our own data loader class, but can just create an object of it with the dataset as input. Additionally, we can configure our data loader with the following input arguments (only a selection, see full list [here](https://pytorch.org/docs/stable/data.html#torch.utils.data.DataLoader)):\n",
        "\n",
        "* `batch_size`: Number of samples to stack per batch\n",
        "* `shuffle`: If True, the data is returned in a random order. This is important during training for introducing stochasticity.\n",
        "* `num_workers`: Number of subprocesses to use for data loading. The default, 0, means that the data will be loaded in the main process which can slow down training for datasets where loading a data point takes a considerable amount of time (e.g. large images). More workers are recommended for those, but can cause issues on Windows computers. For tiny datasets as ours, 0 workers are usually faster.\n",
        "* `pin_memory`: If True, the data loader will copy Tensors into CUDA pinned memory before returning them. This can save some time for large data points on GPUs. Usually a good practice to use for a training set, but not necessarily for validation and test to save memory on the GPU.\n",
        "* `drop_last`: If True, the last batch is dropped in case it is smaller than the specified batch size. This occurs when the dataset size is not a multiple of the batch size. Only potentially helpful during training to keep a consistent batch size.\n",
        "\n",
        "Let's create a simple data loader below:"
      ]
    },
    {
      "cell_type": "code",
      "execution_count": null,
      "metadata": {
        "id": "_L9MFbxHDv4y"
      },
      "outputs": [],
      "source": [
        "data_loader = data.DataLoader(dataset, batch_size=8, shuffle=True)"
      ]
    },
    {
      "cell_type": "code",
      "execution_count": null,
      "metadata": {
        "id": "ddMceL6ODv4y",
        "colab": {
          "base_uri": "https://localhost:8080/"
        },
        "outputId": "894acc6f-538c-4b20-a39b-30965fc94cbb"
      },
      "outputs": [
        {
          "output_type": "stream",
          "name": "stdout",
          "text": [
            "Data inputs torch.Size([8, 2]) \n",
            " tensor([[ 1.0483,  1.0488],\n",
            "        [ 1.1919, -0.1651],\n",
            "        [-0.0419,  0.1438],\n",
            "        [ 0.9428,  1.1949],\n",
            "        [-0.3102,  0.8541],\n",
            "        [-0.0642,  0.9325],\n",
            "        [ 0.9614,  1.0049],\n",
            "        [ 1.0212,  0.9275]])\n",
            "Data labels torch.Size([8]) \n",
            " tensor([0, 1, 0, 0, 1, 1, 0, 0])\n"
          ]
        }
      ],
      "source": [
        "# next(iter(...)) catches the first batch of the data loader\n",
        "# If shuffle is True, this will return a different batch every time we run this cell\n",
        "# For iterating over the whole dataset, we can simple use \"for batch in data_loader: ...\"\n",
        "data_inputs, data_labels = next(iter(data_loader))\n",
        "\n",
        "# The shape of the outputs are [batch_size, d_1,...,d_N] where d_1,...,d_N are the\n",
        "# dimensions of the data point returned from the dataset class\n",
        "print(\"Data inputs\", data_inputs.shape, \"\\n\", data_inputs)\n",
        "print(\"Data labels\", data_labels.shape, \"\\n\", data_labels)"
      ]
    },
    {
      "cell_type": "markdown",
      "metadata": {
        "id": "lMkVkbO9Dv4y"
      },
      "source": [
        "### Optimization\n",
        "\n",
        "After defining the model and the dataset, it is time to prepare the optimization of the model. During training, we will perform the following steps:\n",
        "\n",
        "1. Get a batch from the data loader\n",
        "2. Obtain the predictions from the model for the batch\n",
        "3. Calculate the loss based on the difference between predictions and labels\n",
        "4. Backpropagation: calculate the gradients for every parameter with respect to the loss\n",
        "5. Update the parameters of the model in the direction of the gradients\n",
        "\n",
        "We have seen how we can do step 1, 2 and 4 in PyTorch. Now, we will look at step 3 and 5."
      ]
    },
    {
      "cell_type": "markdown",
      "metadata": {
        "id": "qZAltZnBDv4y"
      },
      "source": [
        "#### Loss modules\n",
        "\n",
        "We can calculate the loss for a batch by simply performing a few tensor operations as those are automatically added to the computation graph. For instance, for binary classification, we can use Binary Cross Entropy (BCE) which is defined as follows:\n",
        "\n",
        "$$\\mathcal{L}_{BCE} = -\\sum_i \\left[ y_i \\log x_i + (1 - y_i) \\log (1 - x_i) \\right]$$\n",
        "\n",
        "where $y$ are our labels, and $x$ our predictions, both in the range of $[0,1]$. However, PyTorch already provides a list of predefined loss functions which we can use (see [here](https://pytorch.org/docs/stable/nn.html#loss-functions) for a full list). For instance, for BCE, PyTorch has two modules: `nn.BCELoss()`, `nn.BCEWithLogitsLoss()`. While `nn.BCELoss` expects the inputs $x$ to be in the range $[0,1]$, i.e. the output of a sigmoid, `nn.BCEWithLogitsLoss` combines a sigmoid layer and the BCE loss in a single class. This version is numerically more stable than using a plain Sigmoid followed by a BCE loss because of the logarithms applied in the loss function. Hence, it is adviced to use loss functions applied on \"logits\" where possible (remember to not apply a sigmoid on the output of the model in this case!). For our model defined above, we therefore use the module `nn.BCEWithLogitsLoss`."
      ]
    },
    {
      "cell_type": "code",
      "execution_count": null,
      "metadata": {
        "id": "286NGsodDv4y"
      },
      "outputs": [],
      "source": [
        "loss_module = nn.BCEWithLogitsLoss()"
      ]
    },
    {
      "cell_type": "markdown",
      "metadata": {
        "id": "NXNkM54SDv4y"
      },
      "source": [
        "#### Stochastic Gradient Descent\n",
        "\n",
        "For updating the parameters, PyTorch provides the package `torch.optim` that has most popular optimizers implemented. We will discuss the specific optimizers and their differences later in the course, but will for now use the simplest of them: `torch.optim.SGD`. Stochastic Gradient Descent updates parameters by multiplying the gradients with a small constant, called learning rate, and subtracting those from the parameters (hence minimizing the loss). Therefore, we slowly move towards the direction of minimizing the loss. A good default value of the learning rate for a small network as ours is 0.1."
      ]
    },
    {
      "cell_type": "code",
      "execution_count": null,
      "metadata": {
        "id": "7WaulaGwDv4y"
      },
      "outputs": [],
      "source": [
        "# Input to the optimizer are the parameters of the model: model.parameters()\n",
        "optimizer = torch.optim.SGD(model.parameters(), lr=0.1)"
      ]
    },
    {
      "cell_type": "markdown",
      "metadata": {
        "id": "tiZuv-zFDv4y"
      },
      "source": [
        "The optimizer provides two useful functions: `optimizer.step()`, and `optimizer.zero_grad()`. The step function updates the parameters based on the gradients as explained above. The function `optimizer.zero_grad()` sets the gradients of all parameters to zero. While this function seems less relevant at first, it is a crucial pre-step before performing backpropagation. If we call the `backward` function on the loss while the parameter gradients are non-zero from the previous batch, the new gradients would actually be added to the previous ones instead of overwriting them. This is done because a parameter might occur multiple times in a computation graph, and we need to sum the gradients in this case instead of replacing them. Hence, remember to call `optimizer.zero_grad()` before calculating the gradients of a batch."
      ]
    },
    {
      "cell_type": "markdown",
      "metadata": {
        "id": "HFysczgbDv4y"
      },
      "source": [
        "### Training\n",
        "\n",
        "Finally, we are ready to train our model. As a first step, we create a slightly larger dataset and specify a data loader with a larger batch size."
      ]
    },
    {
      "cell_type": "code",
      "execution_count": null,
      "metadata": {
        "id": "Nv_KHZ8KDv4y"
      },
      "outputs": [],
      "source": [
        "train_dataset = XORDataset(size=2500)\n",
        "train_data_loader = data.DataLoader(train_dataset, batch_size=128, shuffle=True)"
      ]
    },
    {
      "cell_type": "markdown",
      "metadata": {
        "id": "QOSQBG2yDv4y"
      },
      "source": [
        "Now, we can write a small training function. Remember our five steps: load a batch, obtain the predictions, calculate the loss, backpropagate, and update. Additionally, we have to push all data and model parameters to the device of our choice (GPU if available). For the tiny neural network we have, communicating the data to the GPU actually takes much more time than we could save from running the operation on CPU. For large networks, the communication time is significantly smaller than the actual runtime making a GPU crucial in these cases. Still, to practice, we will push the data to GPU here."
      ]
    },
    {
      "cell_type": "code",
      "execution_count": null,
      "metadata": {
        "id": "HqwZ1sO4Dv4y",
        "colab": {
          "base_uri": "https://localhost:8080/"
        },
        "outputId": "e2f6b6d8-05ff-4be1-a055-cb929184bcba"
      },
      "outputs": [
        {
          "output_type": "execute_result",
          "data": {
            "text/plain": [
              "SimpleClassifier(\n",
              "  (linear1): Linear(in_features=2, out_features=4, bias=True)\n",
              "  (act_fn): Tanh()\n",
              "  (linear2): Linear(in_features=4, out_features=1, bias=True)\n",
              ")"
            ]
          },
          "metadata": {},
          "execution_count": 48
        }
      ],
      "source": [
        "# Push model to device. Has to be only done once\n",
        "model.to(device)"
      ]
    },
    {
      "cell_type": "markdown",
      "metadata": {
        "id": "16Q2Hg8PDv4y"
      },
      "source": [
        "In addition, we set our model to training mode. This is done by calling `model.train()`. There exist certain modules that need to perform a different forward step during training than during testing (e.g. BatchNorm and Dropout), and we can switch between them using `model.train()` and `model.eval()`."
      ]
    },
    {
      "cell_type": "code",
      "execution_count": null,
      "metadata": {
        "id": "S4sz0B4CDv4y"
      },
      "outputs": [],
      "source": [
        "def train_model(model, optimizer, data_loader, loss_module, num_epochs=100):\n",
        "    # Set model to train mode\n",
        "    model.train()\n",
        "\n",
        "    # Training loop\n",
        "    for epoch in tqdm(range(num_epochs)):\n",
        "        for data_inputs, data_labels in data_loader:\n",
        "\n",
        "            ## Step 1: Move input data to device (only strictly necessary if we use GPU)\n",
        "            data_inputs = data_inputs.to(device)\n",
        "            data_labels = data_labels.to(device)\n",
        "\n",
        "            ## Step 2: Run the model on the input data\n",
        "            preds = model(data_inputs)\n",
        "            preds = preds.squeeze(dim=1) # Output is [Batch size, 1], but we want [Batch size]\n",
        "\n",
        "            ## Step 3: Calculate the loss\n",
        "            loss = loss_module(preds, data_labels.float())\n",
        "\n",
        "            ## Step 4: Perform backpropagation\n",
        "            # Before calculating the gradients, we need to ensure that they are all zero.\n",
        "            # The gradients would not be overwritten, but actually added to the existing ones.\n",
        "            optimizer.zero_grad()\n",
        "            # Perform backpropagation\n",
        "            loss.backward()\n",
        "\n",
        "            ## Step 5: Update the parameters\n",
        "            optimizer.step()"
      ]
    },
    {
      "cell_type": "code",
      "execution_count": null,
      "metadata": {
        "id": "YSyCkQubDv4y",
        "colab": {
          "base_uri": "https://localhost:8080/",
          "height": 49,
          "referenced_widgets": [
            "6dd092d1f199498a97e170754dba9824",
            "e987e4442bd64cbdb54e06df3a5aada1",
            "b1f5463083a84e8b988e29ac133fa11e",
            "949e5b0813914d43a35d4ac3b1d30595",
            "32c77d31dd254bbb98b6dccd20279684",
            "3f73e692da2841cc9ccf82038f2a1f60",
            "66dfc19d70e0412bb7c985a6224917f6",
            "0c30e9c6d46f49c08877e83d7e2fc5f0",
            "fd4f417e6e874a36a8406328a4455b22",
            "ef7562adf0554410b057b4c74bea96be",
            "eb41e1d2a4d94af09df780cc137fe558"
          ]
        },
        "outputId": "935eedd8-086c-4bdd-8107-0213cdc96063"
      },
      "outputs": [
        {
          "output_type": "display_data",
          "data": {
            "text/plain": [
              "  0%|          | 0/100 [00:00<?, ?it/s]"
            ],
            "application/vnd.jupyter.widget-view+json": {
              "version_major": 2,
              "version_minor": 0,
              "model_id": "6dd092d1f199498a97e170754dba9824"
            }
          },
          "metadata": {}
        }
      ],
      "source": [
        "train_model(model, optimizer, train_data_loader, loss_module)"
      ]
    },
    {
      "cell_type": "markdown",
      "metadata": {
        "id": "3QtgrGe9Dv4y"
      },
      "source": [
        "#### Saving a model\n",
        "\n",
        "After finish training a model, we save the model to disk so that we can load the same weights at a later time. For this, we extract the so-called `state_dict` from the model which contains all learnable parameters. For our simple model, the state dict contains the following entries:"
      ]
    },
    {
      "cell_type": "code",
      "execution_count": null,
      "metadata": {
        "id": "7JbwIbuVDv4z",
        "colab": {
          "base_uri": "https://localhost:8080/"
        },
        "outputId": "728c4391-d9ba-4815-d3ac-1ddac5d30101"
      },
      "outputs": [
        {
          "output_type": "stream",
          "name": "stdout",
          "text": [
            "OrderedDict([('linear1.weight', tensor([[ 2.8957, -2.1860],\n",
            "        [-2.4901, -2.5125],\n",
            "        [-2.3119,  2.9668],\n",
            "        [ 1.2837,  1.2051]], device='cuda:0')), ('linear1.bias', tensor([ 0.9271,  0.8499,  1.0310, -1.9309], device='cuda:0')), ('linear2.weight', tensor([[-3.7568, -3.5683, -3.7784, -2.3891]], device='cuda:0')), ('linear2.bias', tensor([0.3319], device='cuda:0'))])\n"
          ]
        }
      ],
      "source": [
        "state_dict = model.state_dict()\n",
        "print(state_dict)"
      ]
    },
    {
      "cell_type": "markdown",
      "metadata": {
        "id": "qLTiuidsDv4z"
      },
      "source": [
        "To save the state dictionary, we can use `torch.save`:"
      ]
    },
    {
      "cell_type": "code",
      "execution_count": null,
      "metadata": {
        "id": "Xem5x9GGDv4z"
      },
      "outputs": [],
      "source": [
        "# torch.save(object, filename). For the filename, any extension can be used\n",
        "torch.save(state_dict, \"our_model.tar\")"
      ]
    },
    {
      "cell_type": "markdown",
      "metadata": {
        "id": "DxBuOdJYDv4z"
      },
      "source": [
        "To load a model from a state dict, we use the function `torch.load` to load the state dict from the disk, and the module function `load_state_dict` to overwrite our parameters with the new values:"
      ]
    },
    {
      "cell_type": "code",
      "execution_count": null,
      "metadata": {
        "id": "McIYOR3CDv4z",
        "colab": {
          "base_uri": "https://localhost:8080/"
        },
        "outputId": "078bc3b5-728d-44d4-b7ca-8ff440794eed"
      },
      "outputs": [
        {
          "output_type": "stream",
          "name": "stdout",
          "text": [
            "Original model\n",
            " OrderedDict([('linear1.weight', tensor([[ 2.8957, -2.1860],\n",
            "        [-2.4901, -2.5125],\n",
            "        [-2.3119,  2.9668],\n",
            "        [ 1.2837,  1.2051]], device='cuda:0')), ('linear1.bias', tensor([ 0.9271,  0.8499,  1.0310, -1.9309], device='cuda:0')), ('linear2.weight', tensor([[-3.7568, -3.5683, -3.7784, -2.3891]], device='cuda:0')), ('linear2.bias', tensor([0.3319], device='cuda:0'))])\n",
            "\n",
            "Loaded model\n",
            " OrderedDict([('linear1.weight', tensor([[ 2.8957, -2.1860],\n",
            "        [-2.4901, -2.5125],\n",
            "        [-2.3119,  2.9668],\n",
            "        [ 1.2837,  1.2051]])), ('linear1.bias', tensor([ 0.9271,  0.8499,  1.0310, -1.9309])), ('linear2.weight', tensor([[-3.7568, -3.5683, -3.7784, -2.3891]])), ('linear2.bias', tensor([0.3319]))])\n"
          ]
        },
        {
          "output_type": "stream",
          "name": "stderr",
          "text": [
            "<ipython-input-53-9b8ea49100fa>:2: FutureWarning: You are using `torch.load` with `weights_only=False` (the current default value), which uses the default pickle module implicitly. It is possible to construct malicious pickle data which will execute arbitrary code during unpickling (See https://github.com/pytorch/pytorch/blob/main/SECURITY.md#untrusted-models for more details). In a future release, the default value for `weights_only` will be flipped to `True`. This limits the functions that could be executed during unpickling. Arbitrary objects will no longer be allowed to be loaded via this mode unless they are explicitly allowlisted by the user via `torch.serialization.add_safe_globals`. We recommend you start setting `weights_only=True` for any use case where you don't have full control of the loaded file. Please open an issue on GitHub for any issues related to this experimental feature.\n",
            "  state_dict = torch.load(\"our_model.tar\")\n"
          ]
        }
      ],
      "source": [
        "# Load state dict from the disk (make sure it is the same name as above)\n",
        "state_dict = torch.load(\"our_model.tar\")\n",
        "\n",
        "# Create a new model and load the state\n",
        "new_model = SimpleClassifier(num_inputs=2, num_hidden=4, num_outputs=1)\n",
        "new_model.load_state_dict(state_dict)\n",
        "\n",
        "# Verify that the parameters are the same\n",
        "print(\"Original model\\n\", model.state_dict())\n",
        "print(\"\\nLoaded model\\n\", new_model.state_dict())"
      ]
    },
    {
      "cell_type": "markdown",
      "metadata": {
        "id": "LALApl6CDv4z"
      },
      "source": [
        "A detailed tutorial on saving and loading models in PyTorch can be found [here](https://pytorch.org/tutorials/beginner/saving_loading_models.html)."
      ]
    },
    {
      "cell_type": "markdown",
      "metadata": {
        "id": "XQKPhG8QDv4z"
      },
      "source": [
        "### Evaluation\n",
        "\n",
        "Once we have trained a model, it is time to evaluate it on a held-out test set. As our dataset consist of randomly generated data points, we need to first create a test set with a corresponding data loader."
      ]
    },
    {
      "cell_type": "code",
      "execution_count": null,
      "metadata": {
        "id": "2DJmON41Dv4z"
      },
      "outputs": [],
      "source": [
        "test_dataset = XORDataset(size=500)\n",
        "# drop_last -> Don't drop the last batch although it is smaller than 128\n",
        "test_data_loader = data.DataLoader(test_dataset, batch_size=128, shuffle=False, drop_last=False)"
      ]
    },
    {
      "cell_type": "markdown",
      "metadata": {
        "id": "oixvHixkDv4z"
      },
      "source": [
        "As metric, we will use accuracy which is calculated as follows:\n",
        "\n",
        "$$acc = \\frac{\\#\\text{correct predictions}}{\\#\\text{all predictions}} = \\frac{TP+TN}{TP+TN+FP+FN}$$\n",
        "\n",
        "where TP are the true positives, TN true negatives, FP false positives, and FN the fale negatives.\n",
        "\n",
        "When evaluating the model, we don't need to keep track of the computation graph as we don't intend to calculate the gradients. This reduces the required memory and speed up the model. In PyTorch, we can deactivate the computation graph using `with torch.no_grad(): ...`. Remember to additionally set the model to eval mode."
      ]
    },
    {
      "cell_type": "code",
      "execution_count": null,
      "metadata": {
        "id": "d7RXdkTGDv4z"
      },
      "outputs": [],
      "source": [
        "def eval_model(model, data_loader):\n",
        "    model.eval() # Set model to eval mode\n",
        "    true_preds, num_preds = 0., 0.\n",
        "\n",
        "    with torch.no_grad(): # Deactivate gradients for the following code\n",
        "        for data_inputs, data_labels in data_loader:\n",
        "\n",
        "            # Determine prediction of model on dev set\n",
        "            data_inputs, data_labels = data_inputs.to(device), data_labels.to(device)\n",
        "            preds = model(data_inputs)\n",
        "            preds = preds.squeeze(dim=1)\n",
        "            preds = torch.sigmoid(preds) # Sigmoid to map predictions between 0 and 1\n",
        "            pred_labels = (preds >= 0.5).long() # Binarize predictions to 0 and 1\n",
        "\n",
        "            # Keep records of predictions for the accuracy metric (true_preds=TP+TN, num_preds=TP+TN+FP+FN)\n",
        "            true_preds += (pred_labels == data_labels).sum()\n",
        "            num_preds += data_labels.shape[0]\n",
        "\n",
        "    acc = true_preds / num_preds\n",
        "    print(f\"Accuracy of the model: {100.0*acc:4.2f}%\")"
      ]
    },
    {
      "cell_type": "code",
      "execution_count": null,
      "metadata": {
        "id": "iJfnrAUXDv4z",
        "colab": {
          "base_uri": "https://localhost:8080/"
        },
        "outputId": "6bb8f447-e70f-49fc-a312-71bdfc68dde3"
      },
      "outputs": [
        {
          "output_type": "stream",
          "name": "stdout",
          "text": [
            "Accuracy of the model: 100.00%\n"
          ]
        }
      ],
      "source": [
        "eval_model(model, test_data_loader)"
      ]
    },
    {
      "cell_type": "markdown",
      "metadata": {
        "id": "VNAoh9veDv4z"
      },
      "source": [
        "If we trained our model correctly, we should see a score close to 100% accuracy. However, this is only possible because of our simple task, and unfortunately, we usually don't get such high scores on test sets of more complex tasks."
      ]
    },
    {
      "cell_type": "markdown",
      "metadata": {
        "id": "h3-gYVCkDv4z"
      },
      "source": [
        "#### Visualizing classification boundaries\n",
        "\n",
        "To visualize what our model has learned, we can perform a prediction for every data point in a range of $[-0.5, 1.5]$, and visualize the predicted class as in the sample figure at the beginning of this section. This shows where the model has created decision boundaries, and which points would be classified as $0$, and which as $1$. We therefore get a background image out of blue (class 0) and orange (class 1). The spots where the model is uncertain we will see a blurry overlap. The specific code is less relevant compared to the output figure which should hopefully show us a clear separation of classes:"
      ]
    },
    {
      "cell_type": "code",
      "execution_count": null,
      "metadata": {
        "id": "bKPNMzG2Dv4z",
        "colab": {
          "base_uri": "https://localhost:8080/",
          "height": 404
        },
        "outputId": "d269f1b1-4384-488f-b92a-ef3416f5f20e"
      },
      "outputs": [
        {
          "output_type": "display_data",
          "data": {
            "text/plain": [
              "<Figure size 2000x2000 with 1 Axes>"
            ],
            "image/svg+xml": "<?xml version=\"1.0\" encoding=\"utf-8\" standalone=\"no\"?>\n<!DOCTYPE svg PUBLIC \"-//W3C//DTD SVG 1.1//EN\"\n  \"http://www.w3.org/Graphics/SVG/1.1/DTD/svg11.dtd\">\n<svg xmlns:xlink=\"http://www.w3.org/1999/xlink\" width=\"303.730313pt\" height=\"287.037813pt\" viewBox=\"0 0 303.730313 287.037813\" xmlns=\"http://www.w3.org/2000/svg\" version=\"1.1\">\n <metadata>\n  <rdf:RDF xmlns:dc=\"http://purl.org/dc/elements/1.1/\" xmlns:cc=\"http://creativecommons.org/ns#\" xmlns:rdf=\"http://www.w3.org/1999/02/22-rdf-syntax-ns#\">\n   <cc:Work>\n    <dc:type rdf:resource=\"http://purl.org/dc/dcmitype/StillImage\"/>\n    <dc:date>2024-10-24T07:38:25.093573</dc:date>\n    <dc:format>image/svg+xml</dc:format>\n    <dc:creator>\n     <cc:Agent>\n      <dc:title>Matplotlib v3.7.1, https://matplotlib.org/</dc:title>\n     </cc:Agent>\n    </dc:creator>\n   </cc:Work>\n  </rdf:RDF>\n </metadata>\n <defs>\n  <style type=\"text/css\">*{stroke-linejoin: round; stroke-linecap: butt}</style>\n </defs>\n <g id=\"figure_1\">\n  <g id=\"patch_1\">\n   <path d=\"M 0 287.037813 \nL 303.730313 287.037813 \nL 303.730313 0 \nL 0 0 \nz\n\" style=\"fill: #ffffff\"/>\n  </g>\n  <g id=\"axes_1\">\n   <g id=\"patch_2\">\n    <path d=\"M 66.023594 244.078125 \nL 287.783594 244.078125 \nL 287.783594 22.318125 \nL 66.023594 22.318125 \nz\n\" style=\"fill: #eaeaf2\"/>\n   </g>\n   <g clip-path=\"url(#p118fc70450)\">\n    <image xlink:href=\"data:image/png;base64,\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\" id=\"imaged71b0014da\" transform=\"scale(1 -1) translate(0 -221.904)\" x=\"66.023594\" y=\"-22.174125\" width=\"221.904\" height=\"221.904\"/>\n   </g>\n   <g id=\"matplotlib.axis_1\">\n    <g id=\"xtick_1\">\n     <g id=\"text_1\">\n      <!-- −0.5 -->\n      <g style=\"fill: #262626\" transform=\"translate(52.668047 261.936406) scale(0.11 -0.11)\">\n       <defs>\n        <path id=\"DejaVuSans-2212\" d=\"M 678 2272 \nL 4684 2272 \nL 4684 1741 \nL 678 1741 \nL 678 2272 \nz\n\" transform=\"scale(0.015625)\"/>\n        <path id=\"DejaVuSans-30\" d=\"M 2034 4250 \nQ 1547 4250 1301 3770 \nQ 1056 3291 1056 2328 \nQ 1056 1369 1301 889 \nQ 1547 409 2034 409 \nQ 2525 409 2770 889 \nQ 3016 1369 3016 2328 \nQ 3016 3291 2770 3770 \nQ 2525 4250 2034 4250 \nz\nM 2034 4750 \nQ 2819 4750 3233 4129 \nQ 3647 3509 3647 2328 \nQ 3647 1150 3233 529 \nQ 2819 -91 2034 -91 \nQ 1250 -91 836 529 \nQ 422 1150 422 2328 \nQ 422 3509 836 4129 \nQ 1250 4750 2034 4750 \nz\n\" transform=\"scale(0.015625)\"/>\n        <path id=\"DejaVuSans-2e\" d=\"M 684 794 \nL 1344 794 \nL 1344 0 \nL 684 0 \nL 684 794 \nz\n\" transform=\"scale(0.015625)\"/>\n        <path id=\"DejaVuSans-35\" d=\"M 691 4666 \nL 3169 4666 \nL 3169 4134 \nL 1269 4134 \nL 1269 2991 \nQ 1406 3038 1543 3061 \nQ 1681 3084 1819 3084 \nQ 2600 3084 3056 2656 \nQ 3513 2228 3513 1497 \nQ 3513 744 3044 326 \nQ 2575 -91 1722 -91 \nQ 1428 -91 1123 -41 \nQ 819 9 494 109 \nL 494 744 \nQ 775 591 1075 516 \nQ 1375 441 1709 441 \nQ 2250 441 2565 725 \nQ 2881 1009 2881 1497 \nQ 2881 1984 2565 2268 \nQ 2250 2553 1709 2553 \nQ 1456 2553 1204 2497 \nQ 953 2441 691 2322 \nL 691 4666 \nz\n\" transform=\"scale(0.015625)\"/>\n       </defs>\n       <use xlink:href=\"#DejaVuSans-2212\"/>\n       <use xlink:href=\"#DejaVuSans-30\" x=\"83.789062\"/>\n       <use xlink:href=\"#DejaVuSans-2e\" x=\"147.412109\"/>\n       <use xlink:href=\"#DejaVuSans-35\" x=\"179.199219\"/>\n      </g>\n     </g>\n    </g>\n    <g id=\"xtick_2\">\n     <g id=\"text_2\">\n      <!-- 0.0 -->\n      <g style=\"fill: #262626\" transform=\"translate(112.716875 261.936406) scale(0.11 -0.11)\">\n       <use xlink:href=\"#DejaVuSans-30\"/>\n       <use xlink:href=\"#DejaVuSans-2e\" x=\"63.623047\"/>\n       <use xlink:href=\"#DejaVuSans-30\" x=\"95.410156\"/>\n      </g>\n     </g>\n    </g>\n    <g id=\"xtick_3\">\n     <g id=\"text_3\">\n      <!-- 0.5 -->\n      <g style=\"fill: #262626\" transform=\"translate(168.156875 261.936406) scale(0.11 -0.11)\">\n       <use xlink:href=\"#DejaVuSans-30\"/>\n       <use xlink:href=\"#DejaVuSans-2e\" x=\"63.623047\"/>\n       <use xlink:href=\"#DejaVuSans-35\" x=\"95.410156\"/>\n      </g>\n     </g>\n    </g>\n    <g id=\"xtick_4\">\n     <g id=\"text_4\">\n      <!-- 1.0 -->\n      <g style=\"fill: #262626\" transform=\"translate(223.596875 261.936406) scale(0.11 -0.11)\">\n       <defs>\n        <path id=\"DejaVuSans-31\" d=\"M 794 531 \nL 1825 531 \nL 1825 4091 \nL 703 3866 \nL 703 4441 \nL 1819 4666 \nL 2450 4666 \nL 2450 531 \nL 3481 531 \nL 3481 0 \nL 794 0 \nL 794 531 \nz\n\" transform=\"scale(0.015625)\"/>\n       </defs>\n       <use xlink:href=\"#DejaVuSans-31\"/>\n       <use xlink:href=\"#DejaVuSans-2e\" x=\"63.623047\"/>\n       <use xlink:href=\"#DejaVuSans-30\" x=\"95.410156\"/>\n      </g>\n     </g>\n    </g>\n    <g id=\"xtick_5\">\n     <g id=\"text_5\">\n      <!-- 1.5 -->\n      <g style=\"fill: #262626\" transform=\"translate(279.036875 261.936406) scale(0.11 -0.11)\">\n       <use xlink:href=\"#DejaVuSans-31\"/>\n       <use xlink:href=\"#DejaVuSans-2e\" x=\"63.623047\"/>\n       <use xlink:href=\"#DejaVuSans-35\" x=\"95.410156\"/>\n      </g>\n     </g>\n    </g>\n    <g id=\"text_6\">\n     <!-- $x_1$ -->\n     <g style=\"fill: #262626\" transform=\"translate(170.483594 277.342188) scale(0.12 -0.12)\">\n      <defs>\n       <path id=\"DejaVuSans-Oblique-78\" d=\"M 3841 3500 \nL 2234 1784 \nL 3219 0 \nL 2559 0 \nL 1819 1388 \nL 531 0 \nL -166 0 \nL 1556 1844 \nL 641 3500 \nL 1300 3500 \nL 1972 2234 \nL 3144 3500 \nL 3841 3500 \nz\n\" transform=\"scale(0.015625)\"/>\n      </defs>\n      <use xlink:href=\"#DejaVuSans-Oblique-78\" transform=\"translate(0 0.3125)\"/>\n      <use xlink:href=\"#DejaVuSans-31\" transform=\"translate(59.179688 -16.09375) scale(0.7)\"/>\n     </g>\n    </g>\n   </g>\n   <g id=\"matplotlib.axis_2\">\n    <g id=\"ytick_1\">\n     <g id=\"text_7\">\n      <!-- −0.50 -->\n      <g style=\"fill: #262626\" transform=\"translate(22.81375 248.257266) scale(0.11 -0.11)\">\n       <use xlink:href=\"#DejaVuSans-2212\"/>\n       <use xlink:href=\"#DejaVuSans-30\" x=\"83.789062\"/>\n       <use xlink:href=\"#DejaVuSans-2e\" x=\"147.412109\"/>\n       <use xlink:href=\"#DejaVuSans-35\" x=\"179.199219\"/>\n       <use xlink:href=\"#DejaVuSans-30\" x=\"242.822266\"/>\n      </g>\n     </g>\n    </g>\n    <g id=\"ytick_2\">\n     <g id=\"text_8\">\n      <!-- −0.25 -->\n      <g style=\"fill: #262626\" transform=\"translate(22.81375 220.537266) scale(0.11 -0.11)\">\n       <defs>\n        <path id=\"DejaVuSans-32\" d=\"M 1228 531 \nL 3431 531 \nL 3431 0 \nL 469 0 \nL 469 531 \nQ 828 903 1448 1529 \nQ 2069 2156 2228 2338 \nQ 2531 2678 2651 2914 \nQ 2772 3150 2772 3378 \nQ 2772 3750 2511 3984 \nQ 2250 4219 1831 4219 \nQ 1534 4219 1204 4116 \nQ 875 4013 500 3803 \nL 500 4441 \nQ 881 4594 1212 4672 \nQ 1544 4750 1819 4750 \nQ 2544 4750 2975 4387 \nQ 3406 4025 3406 3419 \nQ 3406 3131 3298 2873 \nQ 3191 2616 2906 2266 \nQ 2828 2175 2409 1742 \nQ 1991 1309 1228 531 \nz\n\" transform=\"scale(0.015625)\"/>\n       </defs>\n       <use xlink:href=\"#DejaVuSans-2212\"/>\n       <use xlink:href=\"#DejaVuSans-30\" x=\"83.789062\"/>\n       <use xlink:href=\"#DejaVuSans-2e\" x=\"147.412109\"/>\n       <use xlink:href=\"#DejaVuSans-32\" x=\"179.199219\"/>\n       <use xlink:href=\"#DejaVuSans-35\" x=\"242.822266\"/>\n      </g>\n     </g>\n    </g>\n    <g id=\"ytick_3\">\n     <g id=\"text_9\">\n      <!-- 0.00 -->\n      <g style=\"fill: #262626\" transform=\"translate(32.031406 192.817266) scale(0.11 -0.11)\">\n       <use xlink:href=\"#DejaVuSans-30\"/>\n       <use xlink:href=\"#DejaVuSans-2e\" x=\"63.623047\"/>\n       <use xlink:href=\"#DejaVuSans-30\" x=\"95.410156\"/>\n       <use xlink:href=\"#DejaVuSans-30\" x=\"159.033203\"/>\n      </g>\n     </g>\n    </g>\n    <g id=\"ytick_4\">\n     <g id=\"text_10\">\n      <!-- 0.25 -->\n      <g style=\"fill: #262626\" transform=\"translate(32.031406 165.097266) scale(0.11 -0.11)\">\n       <use xlink:href=\"#DejaVuSans-30\"/>\n       <use xlink:href=\"#DejaVuSans-2e\" x=\"63.623047\"/>\n       <use xlink:href=\"#DejaVuSans-32\" x=\"95.410156\"/>\n       <use xlink:href=\"#DejaVuSans-35\" x=\"159.033203\"/>\n      </g>\n     </g>\n    </g>\n    <g id=\"ytick_5\">\n     <g id=\"text_11\">\n      <!-- 0.50 -->\n      <g style=\"fill: #262626\" transform=\"translate(32.031406 137.377266) scale(0.11 -0.11)\">\n       <use xlink:href=\"#DejaVuSans-30\"/>\n       <use xlink:href=\"#DejaVuSans-2e\" x=\"63.623047\"/>\n       <use xlink:href=\"#DejaVuSans-35\" x=\"95.410156\"/>\n       <use xlink:href=\"#DejaVuSans-30\" x=\"159.033203\"/>\n      </g>\n     </g>\n    </g>\n    <g id=\"ytick_6\">\n     <g id=\"text_12\">\n      <!-- 0.75 -->\n      <g style=\"fill: #262626\" transform=\"translate(32.031406 109.657266) scale(0.11 -0.11)\">\n       <defs>\n        <path id=\"DejaVuSans-37\" d=\"M 525 4666 \nL 3525 4666 \nL 3525 4397 \nL 1831 0 \nL 1172 0 \nL 2766 4134 \nL 525 4134 \nL 525 4666 \nz\n\" transform=\"scale(0.015625)\"/>\n       </defs>\n       <use xlink:href=\"#DejaVuSans-30\"/>\n       <use xlink:href=\"#DejaVuSans-2e\" x=\"63.623047\"/>\n       <use xlink:href=\"#DejaVuSans-37\" x=\"95.410156\"/>\n       <use xlink:href=\"#DejaVuSans-35\" x=\"159.033203\"/>\n      </g>\n     </g>\n    </g>\n    <g id=\"ytick_7\">\n     <g id=\"text_13\">\n      <!-- 1.00 -->\n      <g style=\"fill: #262626\" transform=\"translate(32.031406 81.937266) scale(0.11 -0.11)\">\n       <use xlink:href=\"#DejaVuSans-31\"/>\n       <use xlink:href=\"#DejaVuSans-2e\" x=\"63.623047\"/>\n       <use xlink:href=\"#DejaVuSans-30\" x=\"95.410156\"/>\n       <use xlink:href=\"#DejaVuSans-30\" x=\"159.033203\"/>\n      </g>\n     </g>\n    </g>\n    <g id=\"ytick_8\">\n     <g id=\"text_14\">\n      <!-- 1.25 -->\n      <g style=\"fill: #262626\" transform=\"translate(32.031406 54.217266) scale(0.11 -0.11)\">\n       <use xlink:href=\"#DejaVuSans-31\"/>\n       <use xlink:href=\"#DejaVuSans-2e\" x=\"63.623047\"/>\n       <use xlink:href=\"#DejaVuSans-32\" x=\"95.410156\"/>\n       <use xlink:href=\"#DejaVuSans-35\" x=\"159.033203\"/>\n      </g>\n     </g>\n    </g>\n    <g id=\"ytick_9\">\n     <g id=\"text_15\">\n      <!-- 1.50 -->\n      <g style=\"fill: #262626\" transform=\"translate(32.031406 26.497266) scale(0.11 -0.11)\">\n       <use xlink:href=\"#DejaVuSans-31\"/>\n       <use xlink:href=\"#DejaVuSans-2e\" x=\"63.623047\"/>\n       <use xlink:href=\"#DejaVuSans-35\" x=\"95.410156\"/>\n       <use xlink:href=\"#DejaVuSans-30\" x=\"159.033203\"/>\n      </g>\n     </g>\n    </g>\n    <g id=\"text_16\">\n     <!-- $x_2$ -->\n     <g style=\"fill: #262626\" transform=\"translate(16.318125 139.618125) rotate(-90) scale(0.12 -0.12)\">\n      <use xlink:href=\"#DejaVuSans-Oblique-78\" transform=\"translate(0 0.3125)\"/>\n      <use xlink:href=\"#DejaVuSans-32\" transform=\"translate(59.179688 -16.09375) scale(0.7)\"/>\n     </g>\n    </g>\n   </g>\n   <g id=\"PathCollection_1\">\n    <defs>\n     <path id=\"m45e57ed690\" d=\"M 0 3 \nC 0.795609 3 1.55874 2.683901 2.12132 2.12132 \nC 2.683901 1.55874 3 0.795609 3 0 \nC 3 -0.795609 2.683901 -1.55874 2.12132 -2.12132 \nC 1.55874 -2.683901 0.795609 -3 0 -3 \nC -0.795609 -3 -1.55874 -2.683901 -2.12132 -2.12132 \nC -2.683901 -1.55874 -3 -0.795609 -3 0 \nC -3 0.795609 -2.683901 1.55874 -2.12132 2.12132 \nC -1.55874 2.683901 -0.795609 3 0 3 \nz\n\" style=\"stroke: #333333\"/>\n    </defs>\n    <g clip-path=\"url(#p118fc70450)\">\n     <use xlink:href=\"#m45e57ed690\" x=\"224.762803\" y=\"77.025839\" style=\"fill: #4c72b0; stroke: #333333\"/>\n     <use xlink:href=\"#m45e57ed690\" x=\"245.604372\" y=\"92.240755\" style=\"fill: #4c72b0; stroke: #333333\"/>\n     <use xlink:href=\"#m45e57ed690\" x=\"224.3889\" y=\"46.335083\" style=\"fill: #4c72b0; stroke: #333333\"/>\n     <use xlink:href=\"#m45e57ed690\" x=\"231.534544\" y=\"83.83385\" style=\"fill: #4c72b0; stroke: #333333\"/>\n     <use xlink:href=\"#m45e57ed690\" x=\"219.674965\" y=\"82.733888\" style=\"fill: #4c72b0; stroke: #333333\"/>\n     <use xlink:href=\"#m45e57ed690\" x=\"232.005915\" y=\"73.511073\" style=\"fill: #4c72b0; stroke: #333333\"/>\n     <use xlink:href=\"#m45e57ed690\" x=\"231.847188\" y=\"103.39307\" style=\"fill: #4c72b0; stroke: #333333\"/>\n     <use xlink:href=\"#m45e57ed690\" x=\"228.66872\" y=\"70.556417\" style=\"fill: #4c72b0; stroke: #333333\"/>\n     <use xlink:href=\"#m45e57ed690\" x=\"122.516494\" y=\"196.982815\" style=\"fill: #4c72b0; stroke: #333333\"/>\n     <use xlink:href=\"#m45e57ed690\" x=\"225.167112\" y=\"91.975842\" style=\"fill: #4c72b0; stroke: #333333\"/>\n     <use xlink:href=\"#m45e57ed690\" x=\"254.134759\" y=\"90.804026\" style=\"fill: #4c72b0; stroke: #333333\"/>\n     <use xlink:href=\"#m45e57ed690\" x=\"203.88298\" y=\"69.889943\" style=\"fill: #4c72b0; stroke: #333333\"/>\n     <use xlink:href=\"#m45e57ed690\" x=\"241.434011\" y=\"70.867528\" style=\"fill: #4c72b0; stroke: #333333\"/>\n     <use xlink:href=\"#m45e57ed690\" x=\"234.697627\" y=\"85.799158\" style=\"fill: #4c72b0; stroke: #333333\"/>\n     <use xlink:href=\"#m45e57ed690\" x=\"117.176299\" y=\"208.49315\" style=\"fill: #4c72b0; stroke: #333333\"/>\n     <use xlink:href=\"#m45e57ed690\" x=\"233.378029\" y=\"98.994494\" style=\"fill: #4c72b0; stroke: #333333\"/>\n     <use xlink:href=\"#m45e57ed690\" x=\"218.015336\" y=\"69.262012\" style=\"fill: #4c72b0; stroke: #333333\"/>\n     <use xlink:href=\"#m45e57ed690\" x=\"128.619793\" y=\"184.720556\" style=\"fill: #4c72b0; stroke: #333333\"/>\n     <use xlink:href=\"#m45e57ed690\" x=\"92.108246\" y=\"204.799292\" style=\"fill: #4c72b0; stroke: #333333\"/>\n     <use xlink:href=\"#m45e57ed690\" x=\"110.694507\" y=\"185.960365\" style=\"fill: #4c72b0; stroke: #333333\"/>\n     <use xlink:href=\"#m45e57ed690\" x=\"119.478185\" y=\"175.340459\" style=\"fill: #4c72b0; stroke: #333333\"/>\n     <use xlink:href=\"#m45e57ed690\" x=\"225.606034\" y=\"78.259983\" style=\"fill: #4c72b0; stroke: #333333\"/>\n     <use xlink:href=\"#m45e57ed690\" x=\"120.073695\" y=\"203.78228\" style=\"fill: #4c72b0; stroke: #333333\"/>\n     <use xlink:href=\"#m45e57ed690\" x=\"133.790634\" y=\"195.543695\" style=\"fill: #4c72b0; stroke: #333333\"/>\n     <use xlink:href=\"#m45e57ed690\" x=\"139.684667\" y=\"182.913831\" style=\"fill: #4c72b0; stroke: #333333\"/>\n     <use xlink:href=\"#m45e57ed690\" x=\"107.569199\" y=\"176.232101\" style=\"fill: #4c72b0; stroke: #333333\"/>\n     <use xlink:href=\"#m45e57ed690\" x=\"236.560324\" y=\"75.551828\" style=\"fill: #4c72b0; stroke: #333333\"/>\n     <use xlink:href=\"#m45e57ed690\" x=\"116.473143\" y=\"190.566011\" style=\"fill: #4c72b0; stroke: #333333\"/>\n     <use xlink:href=\"#m45e57ed690\" x=\"239.554528\" y=\"64.826883\" style=\"fill: #4c72b0; stroke: #333333\"/>\n     <use xlink:href=\"#m45e57ed690\" x=\"121.65138\" y=\"182.732802\" style=\"fill: #4c72b0; stroke: #333333\"/>\n     <use xlink:href=\"#m45e57ed690\" x=\"225.651596\" y=\"79.690315\" style=\"fill: #4c72b0; stroke: #333333\"/>\n     <use xlink:href=\"#m45e57ed690\" x=\"109.035049\" y=\"186.468861\" style=\"fill: #4c72b0; stroke: #333333\"/>\n     <use xlink:href=\"#m45e57ed690\" x=\"112.798121\" y=\"208.484304\" style=\"fill: #4c72b0; stroke: #333333\"/>\n     <use xlink:href=\"#m45e57ed690\" x=\"145.688984\" y=\"177.803469\" style=\"fill: #4c72b0; stroke: #333333\"/>\n     <use xlink:href=\"#m45e57ed690\" x=\"121.839419\" y=\"192.100841\" style=\"fill: #4c72b0; stroke: #333333\"/>\n     <use xlink:href=\"#m45e57ed690\" x=\"110.883309\" y=\"178.673019\" style=\"fill: #4c72b0; stroke: #333333\"/>\n     <use xlink:href=\"#m45e57ed690\" x=\"122.408968\" y=\"180.342912\" style=\"fill: #4c72b0; stroke: #333333\"/>\n     <use xlink:href=\"#m45e57ed690\" x=\"230.530022\" y=\"87.8322\" style=\"fill: #4c72b0; stroke: #333333\"/>\n     <use xlink:href=\"#m45e57ed690\" x=\"109.118653\" y=\"182.808064\" style=\"fill: #4c72b0; stroke: #333333\"/>\n     <use xlink:href=\"#m45e57ed690\" x=\"239.293751\" y=\"83.275651\" style=\"fill: #4c72b0; stroke: #333333\"/>\n     <use xlink:href=\"#m45e57ed690\" x=\"147.25324\" y=\"198.84342\" style=\"fill: #4c72b0; stroke: #333333\"/>\n     <use xlink:href=\"#m45e57ed690\" x=\"128.849476\" y=\"193.519782\" style=\"fill: #4c72b0; stroke: #333333\"/>\n     <use xlink:href=\"#m45e57ed690\" x=\"95.762092\" y=\"174.283791\" style=\"fill: #4c72b0; stroke: #333333\"/>\n     <use xlink:href=\"#m45e57ed690\" x=\"120.592196\" y=\"183.858689\" style=\"fill: #4c72b0; stroke: #333333\"/>\n     <use xlink:href=\"#m45e57ed690\" x=\"245.418806\" y=\"76.837602\" style=\"fill: #4c72b0; stroke: #333333\"/>\n     <use xlink:href=\"#m45e57ed690\" x=\"225.927679\" y=\"91.395595\" style=\"fill: #4c72b0; stroke: #333333\"/>\n     <use xlink:href=\"#m45e57ed690\" x=\"228.031179\" y=\"68.747901\" style=\"fill: #4c72b0; stroke: #333333\"/>\n     <use xlink:href=\"#m45e57ed690\" x=\"248.954733\" y=\"77.271401\" style=\"fill: #4c72b0; stroke: #333333\"/>\n     <use xlink:href=\"#m45e57ed690\" x=\"237.959653\" y=\"87.934289\" style=\"fill: #4c72b0; stroke: #333333\"/>\n     <use xlink:href=\"#m45e57ed690\" x=\"125.209615\" y=\"187.251503\" style=\"fill: #4c72b0; stroke: #333333\"/>\n     <use xlink:href=\"#m45e57ed690\" x=\"130.063528\" y=\"199.102307\" style=\"fill: #4c72b0; stroke: #333333\"/>\n     <use xlink:href=\"#m45e57ed690\" x=\"119.726752\" y=\"198.29406\" style=\"fill: #4c72b0; stroke: #333333\"/>\n     <use xlink:href=\"#m45e57ed690\" x=\"114.355107\" y=\"182.679672\" style=\"fill: #4c72b0; stroke: #333333\"/>\n     <use xlink:href=\"#m45e57ed690\" x=\"224.690236\" y=\"80.307876\" style=\"fill: #4c72b0; stroke: #333333\"/>\n     <use xlink:href=\"#m45e57ed690\" x=\"97.377309\" y=\"187.665893\" style=\"fill: #4c72b0; stroke: #333333\"/>\n     <use xlink:href=\"#m45e57ed690\" x=\"118.152237\" y=\"171.792108\" style=\"fill: #4c72b0; stroke: #333333\"/>\n     <use xlink:href=\"#m45e57ed690\" x=\"231.318253\" y=\"89.030789\" style=\"fill: #4c72b0; stroke: #333333\"/>\n     <use xlink:href=\"#m45e57ed690\" x=\"213.846058\" y=\"77.979519\" style=\"fill: #4c72b0; stroke: #333333\"/>\n     <use xlink:href=\"#m45e57ed690\" x=\"226.003265\" y=\"56.14675\" style=\"fill: #4c72b0; stroke: #333333\"/>\n     <use xlink:href=\"#m45e57ed690\" x=\"224.458314\" y=\"71.953314\" style=\"fill: #4c72b0; stroke: #333333\"/>\n     <use xlink:href=\"#m45e57ed690\" x=\"118.471548\" y=\"187.273618\" style=\"fill: #4c72b0; stroke: #333333\"/>\n     <use xlink:href=\"#m45e57ed690\" x=\"131.173923\" y=\"186.291614\" style=\"fill: #4c72b0; stroke: #333333\"/>\n     <use xlink:href=\"#m45e57ed690\" x=\"151.747485\" y=\"183.848051\" style=\"fill: #4c72b0; stroke: #333333\"/>\n     <use xlink:href=\"#m45e57ed690\" x=\"228.915379\" y=\"78.829015\" style=\"fill: #4c72b0; stroke: #333333\"/>\n     <use xlink:href=\"#m45e57ed690\" x=\"249.440452\" y=\"94.553489\" style=\"fill: #4c72b0; stroke: #333333\"/>\n     <use xlink:href=\"#m45e57ed690\" x=\"116.818782\" y=\"172.688718\" style=\"fill: #4c72b0; stroke: #333333\"/>\n     <use xlink:href=\"#m45e57ed690\" x=\"155.005333\" y=\"173.710806\" style=\"fill: #4c72b0; stroke: #333333\"/>\n     <use xlink:href=\"#m45e57ed690\" x=\"241.830562\" y=\"94.673938\" style=\"fill: #4c72b0; stroke: #333333\"/>\n     <use xlink:href=\"#m45e57ed690\" x=\"246.541669\" y=\"79.046113\" style=\"fill: #4c72b0; stroke: #333333\"/>\n     <use xlink:href=\"#m45e57ed690\" x=\"247.540098\" y=\"83.090765\" style=\"fill: #4c72b0; stroke: #333333\"/>\n     <use xlink:href=\"#m45e57ed690\" x=\"121.554578\" y=\"193.138303\" style=\"fill: #4c72b0; stroke: #333333\"/>\n     <use xlink:href=\"#m45e57ed690\" x=\"125.674249\" y=\"177.557842\" style=\"fill: #4c72b0; stroke: #333333\"/>\n     <use xlink:href=\"#m45e57ed690\" x=\"246.482849\" y=\"63.6719\" style=\"fill: #4c72b0; stroke: #333333\"/>\n     <use xlink:href=\"#m45e57ed690\" x=\"255.54112\" y=\"68.939733\" style=\"fill: #4c72b0; stroke: #333333\"/>\n     <use xlink:href=\"#m45e57ed690\" x=\"127.350577\" y=\"203.734218\" style=\"fill: #4c72b0; stroke: #333333\"/>\n     <use xlink:href=\"#m45e57ed690\" x=\"254.034488\" y=\"58.149107\" style=\"fill: #4c72b0; stroke: #333333\"/>\n     <use xlink:href=\"#m45e57ed690\" x=\"95.940401\" y=\"181.906055\" style=\"fill: #4c72b0; stroke: #333333\"/>\n     <use xlink:href=\"#m45e57ed690\" x=\"222.925161\" y=\"96.157465\" style=\"fill: #4c72b0; stroke: #333333\"/>\n     <use xlink:href=\"#m45e57ed690\" x=\"130.315666\" y=\"167.692646\" style=\"fill: #4c72b0; stroke: #333333\"/>\n     <use xlink:href=\"#m45e57ed690\" x=\"216.46751\" y=\"84.489949\" style=\"fill: #4c72b0; stroke: #333333\"/>\n     <use xlink:href=\"#m45e57ed690\" x=\"228.0655\" y=\"77.213692\" style=\"fill: #4c72b0; stroke: #333333\"/>\n     <use xlink:href=\"#m45e57ed690\" x=\"240.87324\" y=\"86.261428\" style=\"fill: #4c72b0; stroke: #333333\"/>\n     <use xlink:href=\"#m45e57ed690\" x=\"110.935685\" y=\"182.172219\" style=\"fill: #4c72b0; stroke: #333333\"/>\n     <use xlink:href=\"#m45e57ed690\" x=\"136.382331\" y=\"187.231924\" style=\"fill: #4c72b0; stroke: #333333\"/>\n     <use xlink:href=\"#m45e57ed690\" x=\"94.275022\" y=\"184.025781\" style=\"fill: #4c72b0; stroke: #333333\"/>\n     <use xlink:href=\"#m45e57ed690\" x=\"236.200413\" y=\"69.551035\" style=\"fill: #4c72b0; stroke: #333333\"/>\n     <use xlink:href=\"#m45e57ed690\" x=\"248.046411\" y=\"70.180605\" style=\"fill: #4c72b0; stroke: #333333\"/>\n     <use xlink:href=\"#m45e57ed690\" x=\"230.356127\" y=\"75.545418\" style=\"fill: #4c72b0; stroke: #333333\"/>\n     <use xlink:href=\"#m45e57ed690\" x=\"218.525785\" y=\"73.283936\" style=\"fill: #4c72b0; stroke: #333333\"/>\n     <use xlink:href=\"#m45e57ed690\" x=\"221.254474\" y=\"85.430497\" style=\"fill: #4c72b0; stroke: #333333\"/>\n     <use xlink:href=\"#m45e57ed690\" x=\"116.23016\" y=\"202.935372\" style=\"fill: #4c72b0; stroke: #333333\"/>\n     <use xlink:href=\"#m45e57ed690\" x=\"133.397398\" y=\"214.005959\" style=\"fill: #4c72b0; stroke: #333333\"/>\n     <use xlink:href=\"#m45e57ed690\" x=\"210.285763\" y=\"74.461521\" style=\"fill: #4c72b0; stroke: #333333\"/>\n     <use xlink:href=\"#m45e57ed690\" x=\"237.160867\" y=\"77.720494\" style=\"fill: #4c72b0; stroke: #333333\"/>\n     <use xlink:href=\"#m45e57ed690\" x=\"220.989323\" y=\"75.273882\" style=\"fill: #4c72b0; stroke: #333333\"/>\n     <use xlink:href=\"#m45e57ed690\" x=\"117.918363\" y=\"198.762494\" style=\"fill: #4c72b0; stroke: #333333\"/>\n     <use xlink:href=\"#m45e57ed690\" x=\"240.236176\" y=\"73.970608\" style=\"fill: #4c72b0; stroke: #333333\"/>\n     <use xlink:href=\"#m45e57ed690\" x=\"249.957881\" y=\"81.626483\" style=\"fill: #4c72b0; stroke: #333333\"/>\n     <use xlink:href=\"#m45e57ed690\" x=\"114.832114\" y=\"190.134228\" style=\"fill: #4c72b0; stroke: #333333\"/>\n     <use xlink:href=\"#m45e57ed690\" x=\"237.694475\" y=\"72.345702\" style=\"fill: #4c72b0; stroke: #333333\"/>\n     <use xlink:href=\"#m45e57ed690\" x=\"132.642952\" y=\"195.235531\" style=\"fill: #4c72b0; stroke: #333333\"/>\n     <use xlink:href=\"#m45e57ed690\" x=\"222.519271\" y=\"61.346735\" style=\"fill: #4c72b0; stroke: #333333\"/>\n     <use xlink:href=\"#m45e57ed690\" x=\"241.648102\" y=\"79.976278\" style=\"fill: #4c72b0; stroke: #333333\"/>\n    </g>\n   </g>\n   <g id=\"PathCollection_2\">\n    <defs>\n     <path id=\"me03f9d7ae1\" d=\"M 0 3 \nC 0.795609 3 1.55874 2.683901 2.12132 2.12132 \nC 2.683901 1.55874 3 0.795609 3 0 \nC 3 -0.795609 2.683901 -1.55874 2.12132 -2.12132 \nC 1.55874 -2.683901 0.795609 -3 0 -3 \nC -0.795609 -3 -1.55874 -2.683901 -2.12132 -2.12132 \nC -2.683901 -1.55874 -3 -0.795609 -3 0 \nC -3 0.795609 -2.683901 1.55874 -2.12132 2.12132 \nC -1.55874 2.683901 -0.795609 3 0 3 \nz\n\" style=\"stroke: #333333\"/>\n    </defs>\n    <g clip-path=\"url(#p118fc70450)\">\n     <use xlink:href=\"#me03f9d7ae1\" x=\"121.455014\" y=\"75.961201\" style=\"fill: #dd8452; stroke: #333333\"/>\n     <use xlink:href=\"#me03f9d7ae1\" x=\"216.776353\" y=\"187.581826\" style=\"fill: #dd8452; stroke: #333333\"/>\n     <use xlink:href=\"#me03f9d7ae1\" x=\"235.733529\" y=\"184.03596\" style=\"fill: #dd8452; stroke: #333333\"/>\n     <use xlink:href=\"#me03f9d7ae1\" x=\"254.003717\" y=\"165.922344\" style=\"fill: #dd8452; stroke: #333333\"/>\n     <use xlink:href=\"#me03f9d7ae1\" x=\"220.279427\" y=\"211.345217\" style=\"fill: #dd8452; stroke: #333333\"/>\n     <use xlink:href=\"#me03f9d7ae1\" x=\"241.782422\" y=\"193.078533\" style=\"fill: #dd8452; stroke: #333333\"/>\n     <use xlink:href=\"#me03f9d7ae1\" x=\"225.592921\" y=\"194.271887\" style=\"fill: #dd8452; stroke: #333333\"/>\n     <use xlink:href=\"#me03f9d7ae1\" x=\"114.605774\" y=\"96.020514\" style=\"fill: #dd8452; stroke: #333333\"/>\n     <use xlink:href=\"#me03f9d7ae1\" x=\"109.974099\" y=\"88.525401\" style=\"fill: #dd8452; stroke: #333333\"/>\n     <use xlink:href=\"#me03f9d7ae1\" x=\"126.155879\" y=\"81.515829\" style=\"fill: #dd8452; stroke: #333333\"/>\n     <use xlink:href=\"#me03f9d7ae1\" x=\"127.206883\" y=\"97.116994\" style=\"fill: #dd8452; stroke: #333333\"/>\n     <use xlink:href=\"#me03f9d7ae1\" x=\"234.483113\" y=\"195.405511\" style=\"fill: #dd8452; stroke: #333333\"/>\n     <use xlink:href=\"#me03f9d7ae1\" x=\"234.153538\" y=\"171.893341\" style=\"fill: #dd8452; stroke: #333333\"/>\n     <use xlink:href=\"#me03f9d7ae1\" x=\"110.899243\" y=\"87.102961\" style=\"fill: #dd8452; stroke: #333333\"/>\n     <use xlink:href=\"#me03f9d7ae1\" x=\"116.320233\" y=\"75.735928\" style=\"fill: #dd8452; stroke: #333333\"/>\n     <use xlink:href=\"#me03f9d7ae1\" x=\"114.343154\" y=\"85.245313\" style=\"fill: #dd8452; stroke: #333333\"/>\n     <use xlink:href=\"#me03f9d7ae1\" x=\"116.704434\" y=\"66.556091\" style=\"fill: #dd8452; stroke: #333333\"/>\n     <use xlink:href=\"#me03f9d7ae1\" x=\"128.238806\" y=\"64.221462\" style=\"fill: #dd8452; stroke: #333333\"/>\n     <use xlink:href=\"#me03f9d7ae1\" x=\"223.593155\" y=\"190.498957\" style=\"fill: #dd8452; stroke: #333333\"/>\n     <use xlink:href=\"#me03f9d7ae1\" x=\"252.005695\" y=\"211.608695\" style=\"fill: #dd8452; stroke: #333333\"/>\n     <use xlink:href=\"#me03f9d7ae1\" x=\"227.769511\" y=\"199.470609\" style=\"fill: #dd8452; stroke: #333333\"/>\n     <use xlink:href=\"#me03f9d7ae1\" x=\"231.970663\" y=\"197.489272\" style=\"fill: #dd8452; stroke: #333333\"/>\n     <use xlink:href=\"#me03f9d7ae1\" x=\"150.537959\" y=\"73.666067\" style=\"fill: #dd8452; stroke: #333333\"/>\n     <use xlink:href=\"#me03f9d7ae1\" x=\"118.845821\" y=\"74.393925\" style=\"fill: #dd8452; stroke: #333333\"/>\n     <use xlink:href=\"#me03f9d7ae1\" x=\"239.098469\" y=\"186.13849\" style=\"fill: #dd8452; stroke: #333333\"/>\n     <use xlink:href=\"#me03f9d7ae1\" x=\"118.563266\" y=\"82.639624\" style=\"fill: #dd8452; stroke: #333333\"/>\n     <use xlink:href=\"#me03f9d7ae1\" x=\"107.191414\" y=\"69.56539\" style=\"fill: #dd8452; stroke: #333333\"/>\n     <use xlink:href=\"#me03f9d7ae1\" x=\"229.525301\" y=\"202.00511\" style=\"fill: #dd8452; stroke: #333333\"/>\n     <use xlink:href=\"#me03f9d7ae1\" x=\"235.814092\" y=\"179.711756\" style=\"fill: #dd8452; stroke: #333333\"/>\n     <use xlink:href=\"#me03f9d7ae1\" x=\"219.038489\" y=\"187.228695\" style=\"fill: #dd8452; stroke: #333333\"/>\n     <use xlink:href=\"#me03f9d7ae1\" x=\"126.346372\" y=\"70.686508\" style=\"fill: #dd8452; stroke: #333333\"/>\n     <use xlink:href=\"#me03f9d7ae1\" x=\"123.235332\" y=\"58.13462\" style=\"fill: #dd8452; stroke: #333333\"/>\n     <use xlink:href=\"#me03f9d7ae1\" x=\"123.932593\" y=\"92.08793\" style=\"fill: #dd8452; stroke: #333333\"/>\n     <use xlink:href=\"#me03f9d7ae1\" x=\"139.747064\" y=\"60.011024\" style=\"fill: #dd8452; stroke: #333333\"/>\n     <use xlink:href=\"#me03f9d7ae1\" x=\"125.547892\" y=\"69.289135\" style=\"fill: #dd8452; stroke: #333333\"/>\n     <use xlink:href=\"#me03f9d7ae1\" x=\"238.091713\" y=\"196.416765\" style=\"fill: #dd8452; stroke: #333333\"/>\n     <use xlink:href=\"#me03f9d7ae1\" x=\"227.549796\" y=\"187.069427\" style=\"fill: #dd8452; stroke: #333333\"/>\n     <use xlink:href=\"#me03f9d7ae1\" x=\"122.251991\" y=\"71.511664\" style=\"fill: #dd8452; stroke: #333333\"/>\n     <use xlink:href=\"#me03f9d7ae1\" x=\"248.358248\" y=\"186.065388\" style=\"fill: #dd8452; stroke: #333333\"/>\n     <use xlink:href=\"#me03f9d7ae1\" x=\"121.03751\" y=\"56.537895\" style=\"fill: #dd8452; stroke: #333333\"/>\n     <use xlink:href=\"#me03f9d7ae1\" x=\"223.892858\" y=\"201.839054\" style=\"fill: #dd8452; stroke: #333333\"/>\n     <use xlink:href=\"#me03f9d7ae1\" x=\"124.239256\" y=\"92.84997\" style=\"fill: #dd8452; stroke: #333333\"/>\n     <use xlink:href=\"#me03f9d7ae1\" x=\"141.44233\" y=\"78.582428\" style=\"fill: #dd8452; stroke: #333333\"/>\n     <use xlink:href=\"#me03f9d7ae1\" x=\"244.471477\" y=\"189.943411\" style=\"fill: #dd8452; stroke: #333333\"/>\n     <use xlink:href=\"#me03f9d7ae1\" x=\"232.258484\" y=\"194.384158\" style=\"fill: #dd8452; stroke: #333333\"/>\n     <use xlink:href=\"#me03f9d7ae1\" x=\"130.772442\" y=\"77.109231\" style=\"fill: #dd8452; stroke: #333333\"/>\n     <use xlink:href=\"#me03f9d7ae1\" x=\"215.51038\" y=\"187.099906\" style=\"fill: #dd8452; stroke: #333333\"/>\n     <use xlink:href=\"#me03f9d7ae1\" x=\"219.262447\" y=\"194.511895\" style=\"fill: #dd8452; stroke: #333333\"/>\n     <use xlink:href=\"#me03f9d7ae1\" x=\"243.015972\" y=\"185.539713\" style=\"fill: #dd8452; stroke: #333333\"/>\n     <use xlink:href=\"#me03f9d7ae1\" x=\"102.497015\" y=\"68.461006\" style=\"fill: #dd8452; stroke: #333333\"/>\n     <use xlink:href=\"#me03f9d7ae1\" x=\"240.541986\" y=\"185.609957\" style=\"fill: #dd8452; stroke: #333333\"/>\n     <use xlink:href=\"#me03f9d7ae1\" x=\"224.506124\" y=\"202.519763\" style=\"fill: #dd8452; stroke: #333333\"/>\n     <use xlink:href=\"#me03f9d7ae1\" x=\"126.40947\" y=\"60.87155\" style=\"fill: #dd8452; stroke: #333333\"/>\n     <use xlink:href=\"#me03f9d7ae1\" x=\"110.482457\" y=\"91.238215\" style=\"fill: #dd8452; stroke: #333333\"/>\n     <use xlink:href=\"#me03f9d7ae1\" x=\"224.459074\" y=\"192.514261\" style=\"fill: #dd8452; stroke: #333333\"/>\n     <use xlink:href=\"#me03f9d7ae1\" x=\"122.611313\" y=\"68.565784\" style=\"fill: #dd8452; stroke: #333333\"/>\n     <use xlink:href=\"#me03f9d7ae1\" x=\"235.440303\" y=\"186.570791\" style=\"fill: #dd8452; stroke: #333333\"/>\n     <use xlink:href=\"#me03f9d7ae1\" x=\"125.396655\" y=\"76.374473\" style=\"fill: #dd8452; stroke: #333333\"/>\n     <use xlink:href=\"#me03f9d7ae1\" x=\"251.661725\" y=\"202.675548\" style=\"fill: #dd8452; stroke: #333333\"/>\n     <use xlink:href=\"#me03f9d7ae1\" x=\"125.778609\" y=\"73.956332\" style=\"fill: #dd8452; stroke: #333333\"/>\n     <use xlink:href=\"#me03f9d7ae1\" x=\"105.285495\" y=\"94.319783\" style=\"fill: #dd8452; stroke: #333333\"/>\n     <use xlink:href=\"#me03f9d7ae1\" x=\"229.888873\" y=\"187.296753\" style=\"fill: #dd8452; stroke: #333333\"/>\n     <use xlink:href=\"#me03f9d7ae1\" x=\"120.607097\" y=\"66.828751\" style=\"fill: #dd8452; stroke: #333333\"/>\n     <use xlink:href=\"#me03f9d7ae1\" x=\"246.517784\" y=\"185.443097\" style=\"fill: #dd8452; stroke: #333333\"/>\n     <use xlink:href=\"#me03f9d7ae1\" x=\"241.97962\" y=\"197.616143\" style=\"fill: #dd8452; stroke: #333333\"/>\n     <use xlink:href=\"#me03f9d7ae1\" x=\"216.4893\" y=\"190.280314\" style=\"fill: #dd8452; stroke: #333333\"/>\n     <use xlink:href=\"#me03f9d7ae1\" x=\"110.53306\" y=\"91.474823\" style=\"fill: #dd8452; stroke: #333333\"/>\n     <use xlink:href=\"#me03f9d7ae1\" x=\"124.859744\" y=\"64.651613\" style=\"fill: #dd8452; stroke: #333333\"/>\n     <use xlink:href=\"#me03f9d7ae1\" x=\"235.958578\" y=\"192.956313\" style=\"fill: #dd8452; stroke: #333333\"/>\n     <use xlink:href=\"#me03f9d7ae1\" x=\"153.112966\" y=\"74.088961\" style=\"fill: #dd8452; stroke: #333333\"/>\n     <use xlink:href=\"#me03f9d7ae1\" x=\"238.923914\" y=\"187.865797\" style=\"fill: #dd8452; stroke: #333333\"/>\n     <use xlink:href=\"#me03f9d7ae1\" x=\"103.684718\" y=\"82.523987\" style=\"fill: #dd8452; stroke: #333333\"/>\n     <use xlink:href=\"#me03f9d7ae1\" x=\"238.732042\" y=\"181.065908\" style=\"fill: #dd8452; stroke: #333333\"/>\n     <use xlink:href=\"#me03f9d7ae1\" x=\"87.072986\" y=\"93.932438\" style=\"fill: #dd8452; stroke: #333333\"/>\n     <use xlink:href=\"#me03f9d7ae1\" x=\"229.463619\" y=\"196.610603\" style=\"fill: #dd8452; stroke: #333333\"/>\n     <use xlink:href=\"#me03f9d7ae1\" x=\"112.358385\" y=\"82.97912\" style=\"fill: #dd8452; stroke: #333333\"/>\n     <use xlink:href=\"#me03f9d7ae1\" x=\"128.134604\" y=\"80.890608\" style=\"fill: #dd8452; stroke: #333333\"/>\n     <use xlink:href=\"#me03f9d7ae1\" x=\"233.233715\" y=\"180.379324\" style=\"fill: #dd8452; stroke: #333333\"/>\n     <use xlink:href=\"#me03f9d7ae1\" x=\"142.55891\" y=\"92.754232\" style=\"fill: #dd8452; stroke: #333333\"/>\n     <use xlink:href=\"#me03f9d7ae1\" x=\"232.83875\" y=\"205.504303\" style=\"fill: #dd8452; stroke: #333333\"/>\n     <use xlink:href=\"#me03f9d7ae1\" x=\"119.930657\" y=\"66.821031\" style=\"fill: #dd8452; stroke: #333333\"/>\n     <use xlink:href=\"#me03f9d7ae1\" x=\"238.200774\" y=\"188.729361\" style=\"fill: #dd8452; stroke: #333333\"/>\n     <use xlink:href=\"#me03f9d7ae1\" x=\"105.3934\" y=\"84.46839\" style=\"fill: #dd8452; stroke: #333333\"/>\n     <use xlink:href=\"#me03f9d7ae1\" x=\"248.486277\" y=\"184.960752\" style=\"fill: #dd8452; stroke: #333333\"/>\n     <use xlink:href=\"#me03f9d7ae1\" x=\"113.086848\" y=\"68.143934\" style=\"fill: #dd8452; stroke: #333333\"/>\n     <use xlink:href=\"#me03f9d7ae1\" x=\"253.623794\" y=\"206.949813\" style=\"fill: #dd8452; stroke: #333333\"/>\n     <use xlink:href=\"#me03f9d7ae1\" x=\"256.157578\" y=\"195.960789\" style=\"fill: #dd8452; stroke: #333333\"/>\n     <use xlink:href=\"#me03f9d7ae1\" x=\"233.602363\" y=\"184.694207\" style=\"fill: #dd8452; stroke: #333333\"/>\n     <use xlink:href=\"#me03f9d7ae1\" x=\"227.266185\" y=\"202.300837\" style=\"fill: #dd8452; stroke: #333333\"/>\n     <use xlink:href=\"#me03f9d7ae1\" x=\"232.929254\" y=\"183.925974\" style=\"fill: #dd8452; stroke: #333333\"/>\n     <use xlink:href=\"#me03f9d7ae1\" x=\"236.697116\" y=\"204.508938\" style=\"fill: #dd8452; stroke: #333333\"/>\n     <use xlink:href=\"#me03f9d7ae1\" x=\"243.375645\" y=\"180.652698\" style=\"fill: #dd8452; stroke: #333333\"/>\n     <use xlink:href=\"#me03f9d7ae1\" x=\"119.976353\" y=\"79.581657\" style=\"fill: #dd8452; stroke: #333333\"/>\n     <use xlink:href=\"#me03f9d7ae1\" x=\"206.16524\" y=\"191.859116\" style=\"fill: #dd8452; stroke: #333333\"/>\n     <use xlink:href=\"#me03f9d7ae1\" x=\"119.983805\" y=\"79.498205\" style=\"fill: #dd8452; stroke: #333333\"/>\n     <use xlink:href=\"#me03f9d7ae1\" x=\"134.085559\" y=\"80.535905\" style=\"fill: #dd8452; stroke: #333333\"/>\n     <use xlink:href=\"#me03f9d7ae1\" x=\"139.985606\" y=\"56.815564\" style=\"fill: #dd8452; stroke: #333333\"/>\n    </g>\n   </g>\n   <g id=\"patch_3\">\n    <path d=\"M 66.023594 244.078125 \nL 66.023594 22.318125 \n\" style=\"fill: none; stroke: #ffffff; stroke-width: 1.25; stroke-linejoin: miter; stroke-linecap: square\"/>\n   </g>\n   <g id=\"patch_4\">\n    <path d=\"M 287.783594 244.078125 \nL 287.783594 22.318125 \n\" style=\"fill: none; stroke: #ffffff; stroke-width: 1.25; stroke-linejoin: miter; stroke-linecap: square\"/>\n   </g>\n   <g id=\"patch_5\">\n    <path d=\"M 66.023594 244.078125 \nL 287.783594 244.078125 \n\" style=\"fill: none; stroke: #ffffff; stroke-width: 1.25; stroke-linejoin: miter; stroke-linecap: square\"/>\n   </g>\n   <g id=\"patch_6\">\n    <path d=\"M 66.023594 22.318125 \nL 287.783594 22.318125 \n\" style=\"fill: none; stroke: #ffffff; stroke-width: 1.25; stroke-linejoin: miter; stroke-linecap: square\"/>\n   </g>\n   <g id=\"text_17\">\n    <!-- Dataset samples -->\n    <g style=\"fill: #262626\" transform=\"translate(126.560781 16.318125) scale(0.12 -0.12)\">\n     <defs>\n      <path id=\"DejaVuSans-44\" d=\"M 1259 4147 \nL 1259 519 \nL 2022 519 \nQ 2988 519 3436 956 \nQ 3884 1394 3884 2338 \nQ 3884 3275 3436 3711 \nQ 2988 4147 2022 4147 \nL 1259 4147 \nz\nM 628 4666 \nL 1925 4666 \nQ 3281 4666 3915 4102 \nQ 4550 3538 4550 2338 \nQ 4550 1131 3912 565 \nQ 3275 0 1925 0 \nL 628 0 \nL 628 4666 \nz\n\" transform=\"scale(0.015625)\"/>\n      <path id=\"DejaVuSans-61\" d=\"M 2194 1759 \nQ 1497 1759 1228 1600 \nQ 959 1441 959 1056 \nQ 959 750 1161 570 \nQ 1363 391 1709 391 \nQ 2188 391 2477 730 \nQ 2766 1069 2766 1631 \nL 2766 1759 \nL 2194 1759 \nz\nM 3341 1997 \nL 3341 0 \nL 2766 0 \nL 2766 531 \nQ 2569 213 2275 61 \nQ 1981 -91 1556 -91 \nQ 1019 -91 701 211 \nQ 384 513 384 1019 \nQ 384 1609 779 1909 \nQ 1175 2209 1959 2209 \nL 2766 2209 \nL 2766 2266 \nQ 2766 2663 2505 2880 \nQ 2244 3097 1772 3097 \nQ 1472 3097 1187 3025 \nQ 903 2953 641 2809 \nL 641 3341 \nQ 956 3463 1253 3523 \nQ 1550 3584 1831 3584 \nQ 2591 3584 2966 3190 \nQ 3341 2797 3341 1997 \nz\n\" transform=\"scale(0.015625)\"/>\n      <path id=\"DejaVuSans-74\" d=\"M 1172 4494 \nL 1172 3500 \nL 2356 3500 \nL 2356 3053 \nL 1172 3053 \nL 1172 1153 \nQ 1172 725 1289 603 \nQ 1406 481 1766 481 \nL 2356 481 \nL 2356 0 \nL 1766 0 \nQ 1100 0 847 248 \nQ 594 497 594 1153 \nL 594 3053 \nL 172 3053 \nL 172 3500 \nL 594 3500 \nL 594 4494 \nL 1172 4494 \nz\n\" transform=\"scale(0.015625)\"/>\n      <path id=\"DejaVuSans-73\" d=\"M 2834 3397 \nL 2834 2853 \nQ 2591 2978 2328 3040 \nQ 2066 3103 1784 3103 \nQ 1356 3103 1142 2972 \nQ 928 2841 928 2578 \nQ 928 2378 1081 2264 \nQ 1234 2150 1697 2047 \nL 1894 2003 \nQ 2506 1872 2764 1633 \nQ 3022 1394 3022 966 \nQ 3022 478 2636 193 \nQ 2250 -91 1575 -91 \nQ 1294 -91 989 -36 \nQ 684 19 347 128 \nL 347 722 \nQ 666 556 975 473 \nQ 1284 391 1588 391 \nQ 1994 391 2212 530 \nQ 2431 669 2431 922 \nQ 2431 1156 2273 1281 \nQ 2116 1406 1581 1522 \nL 1381 1569 \nQ 847 1681 609 1914 \nQ 372 2147 372 2553 \nQ 372 3047 722 3315 \nQ 1072 3584 1716 3584 \nQ 2034 3584 2315 3537 \nQ 2597 3491 2834 3397 \nz\n\" transform=\"scale(0.015625)\"/>\n      <path id=\"DejaVuSans-65\" d=\"M 3597 1894 \nL 3597 1613 \nL 953 1613 \nQ 991 1019 1311 708 \nQ 1631 397 2203 397 \nQ 2534 397 2845 478 \nQ 3156 559 3463 722 \nL 3463 178 \nQ 3153 47 2828 -22 \nQ 2503 -91 2169 -91 \nQ 1331 -91 842 396 \nQ 353 884 353 1716 \nQ 353 2575 817 3079 \nQ 1281 3584 2069 3584 \nQ 2775 3584 3186 3129 \nQ 3597 2675 3597 1894 \nz\nM 3022 2063 \nQ 3016 2534 2758 2815 \nQ 2500 3097 2075 3097 \nQ 1594 3097 1305 2825 \nQ 1016 2553 972 2059 \nL 3022 2063 \nz\n\" transform=\"scale(0.015625)\"/>\n      <path id=\"DejaVuSans-20\" transform=\"scale(0.015625)\"/>\n      <path id=\"DejaVuSans-6d\" d=\"M 3328 2828 \nQ 3544 3216 3844 3400 \nQ 4144 3584 4550 3584 \nQ 5097 3584 5394 3201 \nQ 5691 2819 5691 2113 \nL 5691 0 \nL 5113 0 \nL 5113 2094 \nQ 5113 2597 4934 2840 \nQ 4756 3084 4391 3084 \nQ 3944 3084 3684 2787 \nQ 3425 2491 3425 1978 \nL 3425 0 \nL 2847 0 \nL 2847 2094 \nQ 2847 2600 2669 2842 \nQ 2491 3084 2119 3084 \nQ 1678 3084 1418 2786 \nQ 1159 2488 1159 1978 \nL 1159 0 \nL 581 0 \nL 581 3500 \nL 1159 3500 \nL 1159 2956 \nQ 1356 3278 1631 3431 \nQ 1906 3584 2284 3584 \nQ 2666 3584 2933 3390 \nQ 3200 3197 3328 2828 \nz\n\" transform=\"scale(0.015625)\"/>\n      <path id=\"DejaVuSans-70\" d=\"M 1159 525 \nL 1159 -1331 \nL 581 -1331 \nL 581 3500 \nL 1159 3500 \nL 1159 2969 \nQ 1341 3281 1617 3432 \nQ 1894 3584 2278 3584 \nQ 2916 3584 3314 3078 \nQ 3713 2572 3713 1747 \nQ 3713 922 3314 415 \nQ 2916 -91 2278 -91 \nQ 1894 -91 1617 61 \nQ 1341 213 1159 525 \nz\nM 3116 1747 \nQ 3116 2381 2855 2742 \nQ 2594 3103 2138 3103 \nQ 1681 3103 1420 2742 \nQ 1159 2381 1159 1747 \nQ 1159 1113 1420 752 \nQ 1681 391 2138 391 \nQ 2594 391 2855 752 \nQ 3116 1113 3116 1747 \nz\n\" transform=\"scale(0.015625)\"/>\n      <path id=\"DejaVuSans-6c\" d=\"M 603 4863 \nL 1178 4863 \nL 1178 0 \nL 603 0 \nL 603 4863 \nz\n\" transform=\"scale(0.015625)\"/>\n     </defs>\n     <use xlink:href=\"#DejaVuSans-44\"/>\n     <use xlink:href=\"#DejaVuSans-61\" x=\"77.001953\"/>\n     <use xlink:href=\"#DejaVuSans-74\" x=\"138.28125\"/>\n     <use xlink:href=\"#DejaVuSans-61\" x=\"177.490234\"/>\n     <use xlink:href=\"#DejaVuSans-73\" x=\"238.769531\"/>\n     <use xlink:href=\"#DejaVuSans-65\" x=\"290.869141\"/>\n     <use xlink:href=\"#DejaVuSans-74\" x=\"352.392578\"/>\n     <use xlink:href=\"#DejaVuSans-20\" x=\"391.601562\"/>\n     <use xlink:href=\"#DejaVuSans-73\" x=\"423.388672\"/>\n     <use xlink:href=\"#DejaVuSans-61\" x=\"475.488281\"/>\n     <use xlink:href=\"#DejaVuSans-6d\" x=\"536.767578\"/>\n     <use xlink:href=\"#DejaVuSans-70\" x=\"634.179688\"/>\n     <use xlink:href=\"#DejaVuSans-6c\" x=\"697.65625\"/>\n     <use xlink:href=\"#DejaVuSans-65\" x=\"725.439453\"/>\n     <use xlink:href=\"#DejaVuSans-73\" x=\"786.962891\"/>\n    </g>\n   </g>\n   <g id=\"legend_1\">\n    <g id=\"patch_7\">\n     <path d=\"M 205.450312 150.994063 \nL 280.083594 150.994063 \nQ 282.283594 150.994063 282.283594 148.794063 \nL 282.283594 117.602188 \nQ 282.283594 115.402188 280.083594 115.402188 \nL 205.450312 115.402188 \nQ 203.250313 115.402188 203.250313 117.602188 \nL 203.250313 148.794063 \nQ 203.250313 150.994063 205.450312 150.994063 \nz\n\" style=\"fill: #eaeaf2; opacity: 0.8; stroke: #cccccc; stroke-linejoin: miter\"/>\n    </g>\n    <g id=\"PathCollection_3\">\n     <g>\n      <use xlink:href=\"#m45e57ed690\" x=\"218.650313\" y=\"125.272969\" style=\"fill: #4c72b0; stroke: #333333\"/>\n     </g>\n    </g>\n    <g id=\"text_18\">\n     <!-- Class 0 -->\n     <g style=\"fill: #262626\" transform=\"translate(238.450313 128.160469) scale(0.11 -0.11)\">\n      <defs>\n       <path id=\"DejaVuSans-43\" d=\"M 4122 4306 \nL 4122 3641 \nQ 3803 3938 3442 4084 \nQ 3081 4231 2675 4231 \nQ 1875 4231 1450 3742 \nQ 1025 3253 1025 2328 \nQ 1025 1406 1450 917 \nQ 1875 428 2675 428 \nQ 3081 428 3442 575 \nQ 3803 722 4122 1019 \nL 4122 359 \nQ 3791 134 3420 21 \nQ 3050 -91 2638 -91 \nQ 1578 -91 968 557 \nQ 359 1206 359 2328 \nQ 359 3453 968 4101 \nQ 1578 4750 2638 4750 \nQ 3056 4750 3426 4639 \nQ 3797 4528 4122 4306 \nz\n\" transform=\"scale(0.015625)\"/>\n      </defs>\n      <use xlink:href=\"#DejaVuSans-43\"/>\n      <use xlink:href=\"#DejaVuSans-6c\" x=\"69.824219\"/>\n      <use xlink:href=\"#DejaVuSans-61\" x=\"97.607422\"/>\n      <use xlink:href=\"#DejaVuSans-73\" x=\"158.886719\"/>\n      <use xlink:href=\"#DejaVuSans-73\" x=\"210.986328\"/>\n      <use xlink:href=\"#DejaVuSans-20\" x=\"263.085938\"/>\n      <use xlink:href=\"#DejaVuSans-30\" x=\"294.873047\"/>\n     </g>\n    </g>\n    <g id=\"PathCollection_4\">\n     <g>\n      <use xlink:href=\"#me03f9d7ae1\" x=\"218.650313\" y=\"141.418906\" style=\"fill: #dd8452; stroke: #333333\"/>\n     </g>\n    </g>\n    <g id=\"text_19\">\n     <!-- Class 1 -->\n     <g style=\"fill: #262626\" transform=\"translate(238.450313 144.306406) scale(0.11 -0.11)\">\n      <use xlink:href=\"#DejaVuSans-43\"/>\n      <use xlink:href=\"#DejaVuSans-6c\" x=\"69.824219\"/>\n      <use xlink:href=\"#DejaVuSans-61\" x=\"97.607422\"/>\n      <use xlink:href=\"#DejaVuSans-73\" x=\"158.886719\"/>\n      <use xlink:href=\"#DejaVuSans-73\" x=\"210.986328\"/>\n      <use xlink:href=\"#DejaVuSans-20\" x=\"263.085938\"/>\n      <use xlink:href=\"#DejaVuSans-31\" x=\"294.873047\"/>\n     </g>\n    </g>\n   </g>\n  </g>\n </g>\n <defs>\n  <clipPath id=\"p118fc70450\">\n   <rect x=\"66.023594\" y=\"22.318125\" width=\"221.76\" height=\"221.76\"/>\n  </clipPath>\n </defs>\n</svg>\n",
            "application/pdf": "[encoded data removed]"
          },
          "metadata": {}
        }
      ],
      "source": [
        "@torch.no_grad() # Decorator, same effect as \"with torch.no_grad(): ...\" over the whole function.\n",
        "def visualize_classification(model, data, label):\n",
        "    if isinstance(data, torch.Tensor):\n",
        "        data = data.cpu().numpy()\n",
        "    if isinstance(label, torch.Tensor):\n",
        "        label = label.cpu().numpy()\n",
        "    data_0 = data[label == 0]\n",
        "    data_1 = data[label == 1]\n",
        "\n",
        "    fig = plt.figure(figsize=(4,4), dpi=500)\n",
        "    plt.scatter(data_0[:,0], data_0[:,1], edgecolor=\"#333\", label=\"Class 0\")\n",
        "    plt.scatter(data_1[:,0], data_1[:,1], edgecolor=\"#333\", label=\"Class 1\")\n",
        "    plt.title(\"Dataset samples\")\n",
        "    plt.ylabel(r\"$x_2$\")\n",
        "    plt.xlabel(r\"$x_1$\")\n",
        "    plt.legend()\n",
        "\n",
        "    # Let's make use of a lot of operations we have learned above\n",
        "    model.to(device)\n",
        "    c0 = torch.Tensor(to_rgba(\"C0\")).to(device)\n",
        "    c1 = torch.Tensor(to_rgba(\"C1\")).to(device)\n",
        "    x1 = torch.arange(-0.5, 1.5, step=0.01, device=device)\n",
        "    x2 = torch.arange(-0.5, 1.5, step=0.01, device=device)\n",
        "    xx1, xx2 = torch.meshgrid(x1, x2, indexing='ij')  # Meshgrid function as in numpy\n",
        "    model_inputs = torch.stack([xx1, xx2], dim=-1)\n",
        "    preds = model(model_inputs)\n",
        "    preds = torch.sigmoid(preds)\n",
        "    output_image = (1 - preds) * c0[None,None] + preds * c1[None,None]  # Specifying \"None\" in a dimension creates a new one\n",
        "    output_image = output_image.cpu().numpy()  # Convert to numpy array. This only works for tensors on CPU, hence first push to CPU\n",
        "    plt.imshow(output_image, origin='lower', extent=(-0.5, 1.5, -0.5, 1.5))\n",
        "    plt.grid(False)\n",
        "    return fig\n",
        "\n",
        "_ = visualize_classification(model, dataset.data, dataset.label)\n",
        "plt.show()"
      ]
    },
    {
      "cell_type": "markdown",
      "metadata": {
        "id": "q5dF5S5UDv4z"
      },
      "source": [
        "The decision boundaries might not look exactly as in the figure in the preamble of this section which can be caused by running it on CPU or a different GPU architecture. Nevertheless, the result on the accuracy metric should be the approximately the same."
      ]
    }
  ],
  "metadata": {
    "kernelspec": {
      "display_name": "Python 3",
      "name": "python3"
    },
    "language_info": {
      "codemirror_mode": {
        "name": "ipython",
        "version": 3
      },
      "file_extension": ".py",
      "mimetype": "text/x-python",
      "name": "python",
      "nbconvert_exporter": "python",
      "pygments_lexer": "ipython3",
      "version": "3.10.6"
    },
    "colab": {
      "provenance": [],
      "gpuType": "T4",
      "include_colab_link": true
    },
    "accelerator": "GPU",
    "widgets": {
      "application/vnd.jupyter.widget-state+json": {
        "6dd092d1f199498a97e170754dba9824": {
          "model_module": "@jupyter-widgets/controls",
          "model_name": "HBoxModel",
          "model_module_version": "1.5.0",
          "state": {
            "_dom_classes": [],
            "_model_module": "@jupyter-widgets/controls",
            "_model_module_version": "1.5.0",
            "_model_name": "HBoxModel",
            "_view_count": null,
            "_view_module": "@jupyter-widgets/controls",
            "_view_module_version": "1.5.0",
            "_view_name": "HBoxView",
            "box_style": "",
            "children": [
              "IPY_MODEL_e987e4442bd64cbdb54e06df3a5aada1",
              "IPY_MODEL_b1f5463083a84e8b988e29ac133fa11e",
              "IPY_MODEL_949e5b0813914d43a35d4ac3b1d30595"
            ],
            "layout": "IPY_MODEL_32c77d31dd254bbb98b6dccd20279684"
          }
        },
        "e987e4442bd64cbdb54e06df3a5aada1": {
          "model_module": "@jupyter-widgets/controls",
          "model_name": "HTMLModel",
          "model_module_version": "1.5.0",
          "state": {
            "_dom_classes": [],
            "_model_module": "@jupyter-widgets/controls",
            "_model_module_version": "1.5.0",
            "_model_name": "HTMLModel",
            "_view_count": null,
            "_view_module": "@jupyter-widgets/controls",
            "_view_module_version": "1.5.0",
            "_view_name": "HTMLView",
            "description": "",
            "description_tooltip": null,
            "layout": "IPY_MODEL_3f73e692da2841cc9ccf82038f2a1f60",
            "placeholder": "​",
            "style": "IPY_MODEL_66dfc19d70e0412bb7c985a6224917f6",
            "value": "100%"
          }
        },
        "b1f5463083a84e8b988e29ac133fa11e": {
          "model_module": "@jupyter-widgets/controls",
          "model_name": "FloatProgressModel",
          "model_module_version": "1.5.0",
          "state": {
            "_dom_classes": [],
            "_model_module": "@jupyter-widgets/controls",
            "_model_module_version": "1.5.0",
            "_model_name": "FloatProgressModel",
            "_view_count": null,
            "_view_module": "@jupyter-widgets/controls",
            "_view_module_version": "1.5.0",
            "_view_name": "ProgressView",
            "bar_style": "success",
            "description": "",
            "description_tooltip": null,
            "layout": "IPY_MODEL_0c30e9c6d46f49c08877e83d7e2fc5f0",
            "max": 100,
            "min": 0,
            "orientation": "horizontal",
            "style": "IPY_MODEL_fd4f417e6e874a36a8406328a4455b22",
            "value": 100
          }
        },
        "949e5b0813914d43a35d4ac3b1d30595": {
          "model_module": "@jupyter-widgets/controls",
          "model_name": "HTMLModel",
          "model_module_version": "1.5.0",
          "state": {
            "_dom_classes": [],
            "_model_module": "@jupyter-widgets/controls",
            "_model_module_version": "1.5.0",
            "_model_name": "HTMLModel",
            "_view_count": null,
            "_view_module": "@jupyter-widgets/controls",
            "_view_module_version": "1.5.0",
            "_view_name": "HTMLView",
            "description": "",
            "description_tooltip": null,
            "layout": "IPY_MODEL_ef7562adf0554410b057b4c74bea96be",
            "placeholder": "​",
            "style": "IPY_MODEL_eb41e1d2a4d94af09df780cc137fe558",
            "value": " 100/100 [00:04&lt;00:00, 25.77it/s]"
          }
        },
        "32c77d31dd254bbb98b6dccd20279684": {
          "model_module": "@jupyter-widgets/base",
          "model_name": "LayoutModel",
          "model_module_version": "1.2.0",
          "state": {
            "_model_module": "@jupyter-widgets/base",
            "_model_module_version": "1.2.0",
            "_model_name": "LayoutModel",
            "_view_count": null,
            "_view_module": "@jupyter-widgets/base",
            "_view_module_version": "1.2.0",
            "_view_name": "LayoutView",
            "align_content": null,
            "align_items": null,
            "align_self": null,
            "border": null,
            "bottom": null,
            "display": null,
            "flex": null,
            "flex_flow": null,
            "grid_area": null,
            "grid_auto_columns": null,
            "grid_auto_flow": null,
            "grid_auto_rows": null,
            "grid_column": null,
            "grid_gap": null,
            "grid_row": null,
            "grid_template_areas": null,
            "grid_template_columns": null,
            "grid_template_rows": null,
            "height": null,
            "justify_content": null,
            "justify_items": null,
            "left": null,
            "margin": null,
            "max_height": null,
            "max_width": null,
            "min_height": null,
            "min_width": null,
            "object_fit": null,
            "object_position": null,
            "order": null,
            "overflow": null,
            "overflow_x": null,
            "overflow_y": null,
            "padding": null,
            "right": null,
            "top": null,
            "visibility": null,
            "width": null
          }
        },
        "3f73e692da2841cc9ccf82038f2a1f60": {
          "model_module": "@jupyter-widgets/base",
          "model_name": "LayoutModel",
          "model_module_version": "1.2.0",
          "state": {
            "_model_module": "@jupyter-widgets/base",
            "_model_module_version": "1.2.0",
            "_model_name": "LayoutModel",
            "_view_count": null,
            "_view_module": "@jupyter-widgets/base",
            "_view_module_version": "1.2.0",
            "_view_name": "LayoutView",
            "align_content": null,
            "align_items": null,
            "align_self": null,
            "border": null,
            "bottom": null,
            "display": null,
            "flex": null,
            "flex_flow": null,
            "grid_area": null,
            "grid_auto_columns": null,
            "grid_auto_flow": null,
            "grid_auto_rows": null,
            "grid_column": null,
            "grid_gap": null,
            "grid_row": null,
            "grid_template_areas": null,
            "grid_template_columns": null,
            "grid_template_rows": null,
            "height": null,
            "justify_content": null,
            "justify_items": null,
            "left": null,
            "margin": null,
            "max_height": null,
            "max_width": null,
            "min_height": null,
            "min_width": null,
            "object_fit": null,
            "object_position": null,
            "order": null,
            "overflow": null,
            "overflow_x": null,
            "overflow_y": null,
            "padding": null,
            "right": null,
            "top": null,
            "visibility": null,
            "width": null
          }
        },
        "66dfc19d70e0412bb7c985a6224917f6": {
          "model_module": "@jupyter-widgets/controls",
          "model_name": "DescriptionStyleModel",
          "model_module_version": "1.5.0",
          "state": {
            "_model_module": "@jupyter-widgets/controls",
            "_model_module_version": "1.5.0",
            "_model_name": "DescriptionStyleModel",
            "_view_count": null,
            "_view_module": "@jupyter-widgets/base",
            "_view_module_version": "1.2.0",
            "_view_name": "StyleView",
            "description_width": ""
          }
        },
        "0c30e9c6d46f49c08877e83d7e2fc5f0": {
          "model_module": "@jupyter-widgets/base",
          "model_name": "LayoutModel",
          "model_module_version": "1.2.0",
          "state": {
            "_model_module": "@jupyter-widgets/base",
            "_model_module_version": "1.2.0",
            "_model_name": "LayoutModel",
            "_view_count": null,
            "_view_module": "@jupyter-widgets/base",
            "_view_module_version": "1.2.0",
            "_view_name": "LayoutView",
            "align_content": null,
            "align_items": null,
            "align_self": null,
            "border": null,
            "bottom": null,
            "display": null,
            "flex": null,
            "flex_flow": null,
            "grid_area": null,
            "grid_auto_columns": null,
            "grid_auto_flow": null,
            "grid_auto_rows": null,
            "grid_column": null,
            "grid_gap": null,
            "grid_row": null,
            "grid_template_areas": null,
            "grid_template_columns": null,
            "grid_template_rows": null,
            "height": null,
            "justify_content": null,
            "justify_items": null,
            "left": null,
            "margin": null,
            "max_height": null,
            "max_width": null,
            "min_height": null,
            "min_width": null,
            "object_fit": null,
            "object_position": null,
            "order": null,
            "overflow": null,
            "overflow_x": null,
            "overflow_y": null,
            "padding": null,
            "right": null,
            "top": null,
            "visibility": null,
            "width": null
          }
        },
        "fd4f417e6e874a36a8406328a4455b22": {
          "model_module": "@jupyter-widgets/controls",
          "model_name": "ProgressStyleModel",
          "model_module_version": "1.5.0",
          "state": {
            "_model_module": "@jupyter-widgets/controls",
            "_model_module_version": "1.5.0",
            "_model_name": "ProgressStyleModel",
            "_view_count": null,
            "_view_module": "@jupyter-widgets/base",
            "_view_module_version": "1.2.0",
            "_view_name": "StyleView",
            "bar_color": null,
            "description_width": ""
          }
        },
        "ef7562adf0554410b057b4c74bea96be": {
          "model_module": "@jupyter-widgets/base",
          "model_name": "LayoutModel",
          "model_module_version": "1.2.0",
          "state": {
            "_model_module": "@jupyter-widgets/base",
            "_model_module_version": "1.2.0",
            "_model_name": "LayoutModel",
            "_view_count": null,
            "_view_module": "@jupyter-widgets/base",
            "_view_module_version": "1.2.0",
            "_view_name": "LayoutView",
            "align_content": null,
            "align_items": null,
            "align_self": null,
            "border": null,
            "bottom": null,
            "display": null,
            "flex": null,
            "flex_flow": null,
            "grid_area": null,
            "grid_auto_columns": null,
            "grid_auto_flow": null,
            "grid_auto_rows": null,
            "grid_column": null,
            "grid_gap": null,
            "grid_row": null,
            "grid_template_areas": null,
            "grid_template_columns": null,
            "grid_template_rows": null,
            "height": null,
            "justify_content": null,
            "justify_items": null,
            "left": null,
            "margin": null,
            "max_height": null,
            "max_width": null,
            "min_height": null,
            "min_width": null,
            "object_fit": null,
            "object_position": null,
            "order": null,
            "overflow": null,
            "overflow_x": null,
            "overflow_y": null,
            "padding": null,
            "right": null,
            "top": null,
            "visibility": null,
            "width": null
          }
        },
        "eb41e1d2a4d94af09df780cc137fe558": {
          "model_module": "@jupyter-widgets/controls",
          "model_name": "DescriptionStyleModel",
          "model_module_version": "1.5.0",
          "state": {
            "_model_module": "@jupyter-widgets/controls",
            "_model_module_version": "1.5.0",
            "_model_name": "DescriptionStyleModel",
            "_view_count": null,
            "_view_module": "@jupyter-widgets/base",
            "_view_module_version": "1.2.0",
            "_view_name": "StyleView",
            "description_width": ""
          }
        }
      }
    }
  },
  "nbformat": 4,
  "nbformat_minor": 0
}