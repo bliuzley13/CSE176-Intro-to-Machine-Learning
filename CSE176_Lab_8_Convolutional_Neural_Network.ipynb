{
  "cells": [
    {
      "cell_type": "markdown",
      "metadata": {
        "id": "view-in-github",
        "colab_type": "text"
      },
      "source": [
        "<a href=\"https://colab.research.google.com/github/bliuzley13/CSE176-Intro-to-Machine-Learning/blob/main/CSE176_Lab_8_Convolutional_Neural_Network.ipynb\" target=\"_parent\"><img src=\"https://colab.research.google.com/assets/colab-badge.svg\" alt=\"Open In Colab\"/></a>"
      ]
    },
    {
      "cell_type": "markdown",
      "source": [
        "# Lab 8: Convolutional Neural Network\n",
        "\n",
        "Related lecture: https://ucmercedcse176.github.io/files/lecture_12.pdf\n",
        "\n",
        "## Part I Questions on neural networks"
      ],
      "metadata": {
        "id": "3YZ-l4_ZWUSy"
      }
    },
    {
      "cell_type": "markdown",
      "source": [
        "1. Consider a univariate regression $\\bar{y}=wx$ where $w\\in R$, and $x\\in R^{1\\times m}$. The cost function is the squared error cost $L=\\frac{1}{m}||\\bar{y}-y||^2$. Which of the following\n",
        " equation is true?\n",
        "\n",
        " a. $\\frac{\\partial{L}}{\\partial{w}}=\\frac{1}{m}(\\bar{y}-y)x^T$\n",
        "\n",
        " b. $\\frac{\\partial{L}}{\\partial{w}}=\\frac{1}{m}(\\bar{y}-y)x$\n",
        "\n",
        " c. $\\frac{\\partial{L}}{\\partial{w}}=\\frac{2}{m}(\\bar{y}-y)x^T$\n",
        "\n",
        " d. $\\frac{\\partial{L}}{\\partial{w}}=\\frac{2}{m}(\\bar{y}-y)x$"
      ],
      "metadata": {
        "id": "uQUoLA3_X8vq"
      }
    },
    {
      "cell_type": "markdown",
      "source": [
        "Solution: c"
      ],
      "metadata": {
        "id": "PmGSbBgVZslW"
      }
    },
    {
      "cell_type": "markdown",
      "source": [
        "2. Which of the following propositions are true about a CONV layer? (Check\n",
        " all that apply.)\n",
        "\n",
        " (a)The number of weights depends on the depth of the input volume.\n",
        "\n",
        " (b)The number of biases is equal to the number of filters.\n",
        "\n",
        " (c)The total number of parameters depends on the stride.\n",
        "\n",
        " (d)The total number of parameters depends on the padding.\n"
      ],
      "metadata": {
        "id": "o_fLJQ10aAIj"
      }
    },
    {
      "cell_type": "markdown",
      "source": [
        "*Solution*: a and b"
      ],
      "metadata": {
        "id": "fjZ3oQYXabiH"
      }
    },
    {
      "cell_type": "markdown",
      "source": [
        "3. You come up with a CNN classifier. For each layer, calculate the number of weights, number of biases and the size of the associated feature maps. The notation follows the convention:\n",
        "\n",
        "- CONV-K-N denotes a convolutional layer with N filters, each them of size KxK, Padding and stride parameters are always 0 and 1 respectively (No padding is added).\n",
        "\n",
        "- POOL-K indicates a K x K pooling layer with stride K and padding 0.\n",
        "\n",
        "- FC-N stands for a fully-connected layer with N output neurons.\n",
        "\n",
        "![image.png](data:image/png;base64,iVBORw0KGgoAAAANSUhEUgAAAdQAAADTEAYAAABoxT4jAAAMP2lDQ1BJQ0MgUHJvZmlsZQAASImVVwdYU8kWnluSkEBoAQSkhN4E6QSQEkILvSPYCEmAUEIMBBU7uqjg2sUCNnRVRMEKiB2xswg27IsFFWVdLNiVNymg677yvfm+ufPff87858y5M/feAUDtJEckykXVAcgTForjQgLoY1NS6aSnAAUGQBl4AsDhFoiYMTERAJah9u/l3Q2ASNur9lKtf/b/16LB4xdwAUBiIE7nFXDzID4IAF7FFYkLASBKebMphSIphhVoiWGAEC+U4kw5rpLidDneK7NJiGNB3AqAkgqHI84EQLUD8vQibibUUO2H2FHIEwgBUKND7JuXl8+DOA1ia2gjgliqz0j/QSfzb5rpw5ocTuYwls9FVpQCBQWiXM60/zMd/7vk5UqGfFjCqpIlDo2Tzhnm7WZOfrgUq0DcJ0yPioZYE+IPAp7MHmKUkiUJTZTbowbcAhbMGdCB2JHHCQyH2ADiYGFuVISCT88QBLMhhisEnSooZCdArAvxQn5BULzCZrM4P07hC23IELOYCv48RyzzK/V1X5KTyFTov87isxX6mGpxVkIyxBSIzYsESVEQq0LsUJATH66wGVOcxYoashFL4qTxm0McxxeGBMj1saIMcXCcwr4sr2BovtjmLAE7SoH3F2YlhMrzg7VyObL44VywDr6QmTikwy8YGzE0Fx4/MEg+d+wZX5gYr9D5ICoMiJOPxSmi3BiFPW7Kzw2R8qYQuxYUxSvG4kmFcEHK9fEMUWFMgjxOvDibExYjjwdfBiIACwQCOpDAmg7yQTYQtPc19sE7eU8w4AAxyAR8YK9ghkYky3qE8BoPisGfEPFBwfC4AFkvHxRB/uswK7/agwxZb5FsRA54AnEeCAe58F4iGyUc9pYEHkNG8A/vHFi5MN5cWKX9/54fYr8zTMhEKBjJkEe62pAlMYgYSAwlBhNtcH3cF/fGI+DVH1ZnnIF7Ds3juz3hCaGT8JBwndBNuDVJUCL+KcpI0A31gxW5SP8xF7gl1HTDA3AfqA6VcR1cH9jjrtAPE/eDnt0gy1LELc0K/Sftv83gh6ehsCM7klHyCLI/2frnkaq2qm7DKtJc/5gfeazpw/lmDff87J/1Q/Z5sA3/2RJbiB3AzmGnsAvYUawR0LETWBPWhh2T4uHV9Vi2uoa8xcniyYE6gn/4G3qy0kwWONY69jp+kfcV8qdK39GAlS+aJhZkZhXSmfCLwKezhVyHUXRnR2cXAKTfF/nr602s7LuB6LR95+b9AYDPicHBwSPfubATAOzzgNv/8HfOmgE/HcoAnD/MlYiL5BwuvRDgW0IN7jQ9YATMgDWcjzNwB97AHwSBMBANEkAKmAijz4LrXAymgBlgLigF5WAZWA3Wg01gK9gJ9oD9oBEcBafAWXAJdIDr4A5cPT3gBegH78BnBEFICBWhIXqIMWKB2CHOCAPxRYKQCCQOSUHSkExEiEiQGcg8pBxZgaxHtiA1yD7kMHIKuYB0IreQB0gv8hr5hGKoCqqFGqKW6GiUgTLRcDQBnYBmopPRYnQ+ugRdi1aju9EG9BR6Cb2OdqMv0AEMYMqYDmaC2WMMjIVFY6lYBibGZmFlWAVWjdVhzfA5X8W6sT7sI07EaTgdt4crOBRPxLn4ZHwWvhhfj+/EG/BW/Cr+AO/HvxGoBAOCHcGLwCaMJWQSphBKCRWE7YRDhDNwL/UQ3hGJRB2iFdED7sUUYjZxOnExcQOxnniS2El8RBwgkUh6JDuSDymaxCEVkkpJ60i7SSdIV0g9pA9KykrGSs5KwUqpSkKlEqUKpV1Kx5WuKD1V+kxWJ1uQvcjRZB55GnkpeRu5mXyZ3EP+TNGgWFF8KAmUbMpcylpKHeUM5S7ljbKysqmyp3KsskB5jvJa5b3K55UfKH9U0VSxVWGpjFeRqCxR2aFyUuWWyhsqlWpJ9aemUgupS6g11NPU+9QPqjRVB1W2Kk91tmqlaoPqFdWXamQ1CzWm2kS1YrUKtQNql9X61MnqluosdY76LPVK9cPqXeoDGjQNJ41ojTyNxRq7NC5oPNMkaVpqBmnyNOdrbtU8rfmIhtHMaCwalzaPto12htajRdSy0mJrZWuVa+3Ratfq19bUdtVO0p6qXal9TLtbB9Ox1GHr5Oos1dmvc0Pn0wjDEcwR/BGLRtSNuDLive5IXX9dvm6Zbr3udd1PenS9IL0cveV6jXr39HF9W/1Y/Sn6G/XP6PeN1BrpPZI7smzk/pG3DVADW4M4g+kGWw3aDAYMjQxDDEWG6wxPG/YZ6Rj5G2UbrTI6btRrTDP2NRYYrzI+Yfycrk1n0nPpa+mt9H4TA5NQE4nJFpN2k8+mVqaJpiWm9ab3zChmDLMMs1VmLWb95sbmkeYzzGvNb1uQLRgWWRZrLM5ZvLe0sky2XGDZaPnMSteKbVVsVWt115pq7Wc92bra+poN0YZhk2OzwabDFrV1s82yrbS9bIfaudsJ7DbYdY4ijPIcJRxVParLXsWeaV9kX2v/wEHHIcKhxKHR4eVo89Gpo5ePPjf6m6ObY67jNsc7TppOYU4lTs1Or51tnbnOlc7XXKguwS6zXZpcXrnaufJdN7redKO5RbotcGtx++ru4S52r3Pv9TD3SPOo8uhiaDFiGIsZ5z0JngGesz2Pen70cvcq9Nrv9Ze3vXeO9y7vZ2OsxvDHbBvzyMfUh+Ozxafbl+6b5rvZt9vPxI/jV+330N/Mn+e/3f8p04aZzdzNfBngGCAOOBTwnuXFmsk6GYgFhgSWBbYHaQYlBq0Puh9sGpwZXBvcH+IWMj3kZCghNDx0eWgX25DNZdew+8M8wmaGtYarhMeHrw9/GGEbIY5ojkQjwyJXRt6NsogSRjVGg2h29MroezFWMZNjjsQSY2NiK2OfxDnFzYg7F0+LnxS/K/5dQkDC0oQ7idaJksSWJLWk8Uk1Se+TA5NXJHePHT125thLKfopgpSmVFJqUur21IFxQeNWj+sZ7za+dPyNCVYTpk64MFF/Yu7EY5PUJnEmHUgjpCWn7Ur7wonmVHMG0tnpVen9XBZ3DfcFz5+3itfL9+Gv4D/N8MlYkfEs0ydzZWZvll9WRVafgCVYL3iVHZq9Kft9TnTOjpzB3OTc+jylvLS8w0JNYY6wNd8of2p+p8hOVCrqnuw1efXkfnG4eHsBUjChoKlQC/7It0msJb9IHhT5FlUWfZiSNOXAVI2pwqlt02ynLZr2tDi4+Lfp+HTu9JYZJjPmzngwkzlzyyxkVvqsltlms+fP7pkTMmfnXMrcnLm/lziWrCh5Oy95XvN8w/lz5j/6JeSX2lLVUnFp1wLvBZsW4gsFC9sXuSxat+hbGa/sYrljeUX5l8XcxRd/dfp17a+DSzKWtC91X7pxGXGZcNmN5X7Ld67QWFG84tHKyJUNq+iryla9XT1p9YUK14pNayhrJGu610asbVpnvm7Zui/rs9ZfrwyorK8yqFpU9X4Db8OVjf4b6zYZbirf9GmzYPPNLSFbGqotqyu2ErcWbX2yLWnbud8Yv9Vs199evv3rDuGO7p1xO1trPGpqdhnsWlqL1kpqe3eP392xJ3BPU5193ZZ6nfryvWCvZO/zfWn7buwP399ygHGg7qDFwapDtENlDUjDtIb+xqzG7qaUps7DYYdbmr2bDx1xOLLjqMnRymPax5Yepxyff3zwRPGJgZOik32nMk89apnUcuf02NPXWmNb28+Enzl/Nvjs6XPMcyfO+5w/esHrwuGLjIuNl9wvNbS5tR363e33Q+3u7Q2XPS43dXh2NHeO6Tx+xe/KqauBV89eY1+7dD3qeueNxBs3u8Z3dd/k3Xx2K/fWq9tFtz/fmXOXcLfsnvq9ivsG96v/sPmjvtu9+9iDwAdtD+Mf3nnEffTiccHjLz3zn1CfVDw1flrzzPnZ0d7g3o7n4573vBC9+NxX+qfGn1UvrV8e/Mv/r7b+sf09r8SvBl8vfqP3Zsdb17ctAzED99/lvfv8vuyD3oedHxkfz31K/vT085QvpC9rv9p8bf4W/u3uYN7goIgj5sh+BTBY0YwMAF7vAICaAgANns8o4+TnP1lB5GdWGQL/CcvPiLLiDkAd/H+P7YN/N10A7N0Gj19QX208ADFUABI8AeriMlyHzmqyc6W0EOE5YHPM1/S8dPBvivzM+UPcP7dAquoKfm7/BW94fGxQ2mKyAAAAOGVYSWZNTQAqAAAACAABh2kABAAAAAEAAAAaAAAAAAACoAIABAAAAAEAAAHUoAMABAAAAAEAAADTAAAAAMK4/vEAAEAASURBVHgB7Z15nFxllfcrZCWGGCBgJCFUFCGyJRN1hGFJ4YLD6EAQmUFFacUBxy1hXhlExW58RRlxBGYEYUQ6iAvosLmhgnYjcQPBgAQDknSDKEERA4QQltDv6+d3fknu7bpdVZ3a69t/3HPPec6zfZ/7PHXP3TqX4w8CHUtgaKhju07HIQCBFifA+tXiA0jzm5oA86uph4fGtT2Bbdq+h3QQAhCAAAQgAAEIQAACEIAABFqCAAFqSwwTjYQABCAAAQhAAAIQgAAEIND+BAhQ23+M6SEEIAABCEAAAhCAAAQgAIGWIECA2hLDRCMhAAEIQAACEIAABCAAAQi0P4EOC1DHjtWQ7jS9uHzelPYfcnpYewK75WtfR7Eajl4k64wZxVIbZ2vWdjWOSH1r9vFwXFeyXq93XSl70qt9tP3mqy+HFNqnT/QEAhCAAAQgAIEWJzB5sjpwWo+kv9J2Wa/0feIERhrbdifg8a9WP1++v0q6ua9aJRYvZ5dZxe1XxXFc7xPw9IWfdOsa1a50OzpN93rn9W31QJLAnLz0m+J4HT8+md5u2old6tEnu9ujZ6Ndv3xhwhdqp00bmcd2U5Vuf8tGHy9/E7/Xry6M3P5WS500SS1etEjyTSFtb5b+VOuCz9y56tER0c9m6d9o55fbzzwzieaUnk+VzrNK1x0fB51yIbg5R7uFWuUTNy9A7fYD10JD0dCmevyr1YhLI0B0ua+IgLVa5b8w7ox+MeqpVrlbW44X3n9qshOMre1Xu+Q/tKCerB5olx7Rj78S8DpTKY29IyD4cqwjTw2phIMKxUvyOvbrOH7+o1t+UyNwLZ6rdlZfSP5ln+o4v7d2dTWi5GuiXwcXVPuNof/f7ka0JrvOrb3g4yeNfhT9c7+za0ymZF2oTXqNXhvt/HKNzDOTaE7p463ceTbadWdOXv3vlAvBzTnaLdQqX/n1AlTpHae/jcDjjPjBOCekrwQahe/U2i8dCL+rS56nLnEOSS+8p/ck033lesIE2f85AoLFkf+UkP/SpXS2IxPw+I/sVTp15wgc/7dXvv19kktDL1WCx/XfY/x8IjI7r5wz447pHQPS7wrp42ZWpPf0KN1X+Jy/O+yWc/Lye0G0+8ORflhBdm+P69Kej++P9Ej38fePcfw9MST7lb2Srw97Vrvklcv5yuLJ0e8LI/9bu+wh6fqODfsHwv+YqOcLkW/f+cl8pbSXhf/nIr9/gC4K/X1Rj0/Ez+pWiZ8J6Suwrsc83Z8Lopw3Rjvt50duvT4cXEiW63q3jSc+nK9c6frOjfrPC7l6IFnCgbGO/XekO7XaXFzu30V9bo/Hb9w4eZjLR3qke730cfuf3bJPnCjp7a5x/H+0RxaPj48Xj9Pbu5R+Ukhpm7dHxTiZx8d6lObxt6fXfwdGPhH1eL+ty56S7t+743jyfPpE9CfpXb62tevXmDGqy+U8NCDdPNMt8fHkwCKdXm/908HP41Dv+qtdn9f5B2IcXL6P3ylt+gqS10sHDO53lqzXhVrPi6x2lGtnnpVLqj5+WzvP2m3dqQ91aimbwGgDVD/q9PiQqtox3mX9ePxQfqcv2YRXxgnZc+E/J59Md2DwD3FitP00pV8b5fgE1Sd0V/cq3QHsV0L/y4DsDnA+GCdCydrQ0gSq9QP0kR6V/NqCpE+8nxyS7uNE2ubtDnH8/KpPNuu+Q/H9sG8T74r7AoSPAx8f+8dx9vCAynGA6Jqc755It93SgbVP/B14/jBV/52R33dMHTj+PPx8Ym57qXZ9N/KZmwPaVVHPv8Zx7OP9a71q8ZpI94Uf37l2e92vUtIXcnwc+MKAA5Wnh1RCb9TrefqbqP+9qXn2jfBzIOKA2fPfJ5i+IOZ5++M+1eNx+mOU7/6V6ofT3W4fNx4HP9K6Osr18eQLHOuHXIJktbkc36VyHXibw2+jPW+JdAfGvwv7rX3K985It386wLyiV357xp1BX2jwujk7r3SfAPt4kTWXe0eX9nxhwtz8pILv8Njf/fBx4wtRbtfGIXn6wpMvGDiAdvnfi/653Eql6680X9r/m9EOr0Pm7vXF/g78fYJ3+CKl+Dh9SfBfMD9p9/HuC3kf6lH630d+XwhwADw91kWPy8W98vd8kpbL+bj+fKT/W8zHT3XLwxc87G9Z6kKJ7xg78H1VQTl9Icvj5/KyZLkX4F6UVwmXRD8eHZJurnMiXdbh2xdHuv19XuH5YL6+0LN7jNMB8bvhfG6HfweO61JdHhdf+HTAXOqCj8fX6+r7Y3y8jrodnk+en34SxxcePZ993N0xoHbdFdLrmC+seJ75ePWFKuUqf1ut+eUamWci4Qt2rTbPPI6VrjtZF4JdnueZL1x+pEcpXmfMy+cV9su6wFlqfau0PLcTWScCow1Q3TwHAA5AvbD6RN1+llf1as93AHxFzSfo1n3i7xMX/9Cc3a38PrGyv+8kOaB1fcjyCGztD5An+vIB1XdQQbIQ0if+vnCg1M1bLzj+IXWKH0H3CYbtvlPuQMh2SweQPj5t94WVx4Zk8QLmE0lfwba/r1D7TtGb4kTy3ujn/4kTDfv/pE97PrGw3TLdrj3iBMl8fDzb3wvwL6Jc293OK3ttkTysIOkAJpmarflE2MdB+oR8RfQ3zdN3ynwhwTX4hM8nVL5D6vJn5+0puTLKd4DuVP8Aun7bS0mvAz6xt78DhNVRn+0vTY2D7dXm4vXMx7nXtf/pVY3pQP+nfbL7CRG3yyesZ3bbIukA9dfRPx8Pu+WTfj5R9zrq1Nsjny/M2O554vFzeb6QYrsDfudbO6S9+fMl/ZGwx8PuQCo9v52/XOn6y/XP8vOFn9l5eTwUPGx3Po+fAwXbvS6k54l/9z7SI08HOD4OHfi/rqD0W/okbw755i7pDtz6wy7r5gD1/gFZHAAtC7+7w27/ci+UvCfWN/N1vz3vHXi63Czp33fPbx836Qtwfoffx+190W6v2+njK6s+B9Tmbj8f916nbXdA53H2Ovz1XnnMyUv6d83r9V5nye7znvR8cmD6wxgHeedyXgdsnxfzwwHqA9Fvj5N5+4KbOfhCXvpCrdcBzyuvw+dFf9yOcqXHv1z/Un7mPDsvT+aZOJhzq8wz/z6XWnd8vPoCiuePjxP/3ng+2N/nS44Hyr3A6Xnj+ZR1Ibjc8tzOxsltGld1K9U8J6/WOrA99kjpC+MK5BWXSo8npqRssf3URVJO6pH8p8j/o2ule4Lus5v0Pw9KfrJH8pQzJJecLOntc7GzcdAWZD0JvPENqq2/X3LmNMkXhPzGUun/uljSC5C0XG6fedqblbdFcv16yUfXJu2ltGczHB5/TAmXLpV830mSb492LQ27rP//0dto/6c/JcvD0Y5b+u1RmUy3a9YM5d82itlhx2R5P7ldej6ftG9Mqpu0DbFX6XK2Md2wTSVq5+nBlCHUZ0Km5/uLI+D7v8H1SxfLMavdLn3IOyFviv5PTNlLqQsL8kjX53UinT/t5/Rqc9krr5I9rl7XTnyH7F/7smuWzGpX1ji/O9bFn/Urv0+EHRi69KxyZ4XDzLw9JW/+paTH28fjsyWOmw2Dyufj8cprpL8n+vuROD6+fp3s5QY88q7d9v5BlX10tPPoLukf6pHM2j6RkfBoyv6r5TLcNyh56aWS3++X/M6Nkr8ZlPzaUsnLwm92Xnp6+61+Wf77XMlj3ya5R17Sj2C/+Xjp+edLfuCDkn39kttPk7z6cklvPxzroMfviXVOKS59Aa5QUPoN0a8HHpD+zaWSXUdKbowD84k4wIdkznndfi5rAoefxX/9h/b+vkvy+dGf3w1K/7uCpO+UvvVd0j8R+aYFl1eGny8QLAz9W0vlv23wuS36Jevm7WHztP/o4GbbX/d+Ev7x85a7fXky/ZeD0i9dKnltatzN4Wkl5zwNn3SBYf/fmFe7RP8/e0YkNIlgnmkgWnWe+TAqte68dA95fvN7zpGUv/y59NNOk3zjEZKTwm3HOH7HhH5qt3be9x7Jxf8aCSHKXd/KLS9ZeiM0/4I2ou4G1ulA002Y4J2U9CNCJ8YP24EHyuEfCpJnnyc5LQ6kcVJz1kPN3RIH4s/6ZfmfqyV7v2wPyW/eKPmPXZI+wfIP58cWy+6tD7SxeVuQ9SDgK80OPD/yftV6xTVJ+dHTpe+Wl3xTLEDScrlvXqo9n1D4ToIfhXvPSfaU9HnK5Lx0PzrsK/CezpbJ3Lnc+XEicnSXUsaHw1/WJj1PPlX63YOSN90kuWNecnwc7z4BivOr3OSwu/3yzuXcHstlP1XK2kHJhQfZU/LFeckf9kt6OzZ2fNzbbplld3pabuMJGwnpCwhj8kpwu8Mt53rS9s/GD8j5Ma5Pxwmn/TyPffy4PF8QsL5vXntfW2pLefL68H9jrFfujwNd//C5NLfLcpO9yly+2a+S/z3WLwcM+82Xves41yzpcd4mjienZnE/Pcp1wLvoKOU4LbVeup8ux+X6RGPhPFskfYcphjF3882yj03xSY+ny98mgPtJl2X9yr/nKyR9XWbBy6U3y9btfO871CLfsfY6VWk7zcP5vF5Yt3TgYd3SFwg8frZnSQeCjwzKw7/je+Wll7pQ4nVW3rmcA0jrpeRoL8CVKrdU+t0r5fGrfkk/gfCqhdKvWir5rlgfXrqb9BWRz4G11/nPnqX0M3skj32n5OpByaxx/Mq1Sneg6/OYg6MdnztD6aW2nndZ52fp/OVeqErna5TOPEuSb5V5lmz1Zi1r3cmaJ/7dL3UjoNwLnOWub+WWt7lnjdord8VvVPuqXK8fmTnzlGTBn+mV/tWQ3+6T/uufSf74dklfAfbCeddq2fePE5u9CtIXLZJMb8+JgNZXUP/8cNJj2Y+lX75U8itXS/7yV5LfulHyBS+QPOJIyQPykoWCJNvaEvjcJSp/n7zkIa8pXt9+ceLpE6xzzpHfYQXJHy2TvGappI+7G+O4uzJ+6JWay932c+0dWpDsPlvykIMlX5SXfHMcF+lHVlfGiciP++XXG3f2pW3e3hD1vqVLth/dIOnl4oTjpfvEz3dW/S62nyxwO9Pt8gn+v8WJytnBxSfCB0f73x/z1O/yHRX2BQXVf3DIt0d7fAfs8Iz5p1ybtyekAqN3v0tpvlAwJy/dPP1O7SEF2d2/OXnp3+mX9Lvh58T4PDwo+0cXS6YDGgdSfnRtr3ny+8KlkuVuPx3juXteOe5cJemPOz0/7Md1yX7CP0s6gPV4V5vL5+LCiOfBr3+jej9zjmTvUsmDCpJeR49eKN3j7PRXhV8+r/QDQ+/tlX5A8Puv4OdHK18X5e0f/g6UPxnte0XY/Yj5OVHePx2lcn2n5qQTpHv77rhA5Ufhd8gr5Z0nSU46V9KPTr4tjrtbB2X/Saz70uq39SsKWQHAF5aqLReE3DsvPb19fFCWXfOSLne30CcOye7tmNixtN0ybbduab8s6Uc8nX7zbdor90JJuh73x+WVkqO+ADdJJXs+lqonK/2SS5XiVxC+f6P0L8S6/sEe6TeFXVoud0tcgPF4nnmqUvxthCWxfu0yQ3b/HqR5uTyvh2vWyHLE4ZLf77eHZFY5LtfSuZ6Lncl57fhC7cd+Jb3UharIXjfh44d5JuS+IJkeV3Mqd2AaPc/S7cxad3x8WzpfuTcCYhrmlvUrZ9YFznLXt1a7YGpeyDIJeCL5XUFnK/Wo1kd65OmXpp0vS/qHwXdCsvywj46AH60eXe7q5/K7f+kAJl1TOvBMp5fSfVyV8vM7DD7+fKfWH9FI5x9tu/zRDb/7mi631XTfWXa70+uE7X4H9R8ioE6/22e/SqWPH39cyuOSblel5VbL3xccqlWejx+fqPpOdaXlm9vsvHL6uK+0nLS/54vb6YA57VepPtr1y8eDA5g1A6rZH9lKt8O/d35XKn2cfrhHOR6JcjZdaOuT3d9mOCYv3e/e+aMxfnfbHwvzu6O2X9yrfP53OJ4vvjM3GPX6ApffWfWFJOXO5fyVfdfjj5f9INrp46a7RznMtyd0l1OufEeXPP3OqdtnPj5eve5/OfrpepcsUX4fN+XW6wvxvwkuHj8fz/64kP3S5R7XJYvfCV03JN0fU/Lx63d974l6fMHnnZHf/fC7138Iv+v7VN6+ayWt+93bhQXZ0+N+WNh9/rQ+2vVfvfL3Nwt8ocofyzq9R+mVbt3+SvPZn3kmEu02zypdd/wNGR9PvhDs9dbz48aYFzeE9Dc1Ph3H9y1h97c4rg3d87rc9c0XwkuV5+MY2aYEPhg/MH45Pv0xgTbtdst0ywtGyzSYhrYVAZ+Q/WMEqG3VOTpTcwL1Xr98wu0TonQHfUHEF7L8qL8D/7R/tXS/spMOnEuVX+0LJVn1OcCs9wU4B9zpdpV7gdJcK72w5a8d+yNI5uw7TB/qUYu6utItq0z38ehc5uzAP6v/9i8l6z2/3B73i3lmIuVJj3+95pnnR6XrTro3pW4EjPYCp+ddur7Rlpcup/Z6+h577WvsqBp8xW/+fHX7wkskH4uP1nQUjCbsrH+Aan0C1YRdp0kNJOArpwuPVCMeuU/yv86VXLu2gY2j6pYhwPrVMkPVEQ31hYlHnlV3v7FUsu9GyanTJAvxCP4749H4J9bJ3mxb5lezjQjt6SwCBKidNd70NkGAH6AEDhQIQKCFCLB+tdBgdVBTfSf9sNeo0/vuJvnbRyUvu1iyWQNTtS6XY36ZBBICEIAABOpKwD9Ada2UyiAAAQhUgQDrVxUgUgQEMggwvzLAYIZAXQikPytVl0qpBAIQgAAEIAABCEAAAhCAAAQgkCZAgJomgg4BCEAAAhCAAAQgAAEIQAACDSFAgNoQ7FQKAQhAAAIQgAAEIAABCEAAAmkCbfKRJN4VSA8sOgQgAAEIQAACEIAABCAAgdoS4L9h1JYvpXcYAS5sdNiA010ItBEB1q82Gky60nQEmF9NNyQ0qKMI8IhvRw03nYUABCAAAQhAAAIQgAAEINC8BAhQm3dsaBkEIAABCEAAAhCAAAQgAIGOIkCA2lHDTWchAAEIQAACEIAABCAAAQg0L4Fxzdu0WrRsmwjId9yheOnrV8o+eW4y/c+PSH/uuaR9wgTpz5+atK/fIP2pkNtPS6Zbs98T62yRnDhRcup2Sbu1v6zV3rPPSm4X9U+K9thv7aPa88vL6XbaL0s+9rhSnnoqywM7BCAAAQhAAAJZBPz7O3dPeay8W5J3HLOIYYdANoHd4/z8dwPy4fw0mxUpLUTAAeWJXWq0fyCu7JW+b0Hy35ZIbhiSPLtbMr19wQxZvhD5b+qTvndMIAeOZ0R+13dF+F8f/rcPKN+8+ZI7R7kXhZ/zndWt9GmpgPcV+8t+R5RzQeRzYHzkIqXfGennRfqK0Fem7L8O/fgu5WvXrbm2a/8a3a/p09WC56eO13S7xsWFsn3i+E+nZ+n233Zylkdj7Z3af6+zHp/GjkL71s761Rpj+9X4vT11idr7+dBbo/Wd20rmV3ON/Skxf3w+/d0+tW/SpOZqJ62BQFUIPD2kYhYtKl7c1fFD8lz4HddV3O/ACBA/GBMo7bVTnKh7wVswP+nhQPVnfUn7y6Nc53thBK5Jr83aZ7u1v0fqDvAbo3+z85t9/7q3tFf6ZSGd6gD47V22tKc01/bsXeN69dEe1b1uSPK1Bcn09pVxfK8eUMqj4f/b0PdMHcczZ8nPP0xv7ZL+pV7JN4curXHbTu3/vrGu3dwn9n+IcfQFOF+wa9zItFfNrF/NPZ6Hx++uA1S31heyd8vbgmxGAsyv5hgVX+i9J35P/ETCJ7vVvrd1NUc7aUW1CXT4O6gbg2c8KTuM7oawfLJHO75T6juWzvBM7GSV40dx7Z+W9w3Ksms+mfKMGxDmZ7IqcLplKt9V1yjh/sFwKCHWrpXDl5aWcCQZAkUIfKJHxr8MSmZtj3qdUubNk5wZj7Q738mnJnOedIL0W/slv7JU8tzzJE8+XrLU1o/6n7xEnllXYN8b6b5gU6pcp3+iR3vuh+1p2W79f2lePTzgNZK77y3pE/FDXiWdLQQ6gcDfxbr289uTvfXv/asLSTsaBCAwnMC8fWS7s1/SFw5W3yf9tQsl2bYbgQ4PUMsdztM/Ls8f9Ete/TXJGTMkK93OzCvH6xdJHlWQPC9OtKWxhUBrE4hXmDM78Yn/VNLjj0mui3exr7lR+rapnPfGD9J7upQwf77km4+UvPJayVLb502Rx9sj37XXSXeg+h9xZfaMxbLvMsp53mn9//o14rUxrvxZLuuX/fvflmQLgU4g8OK8eukLvu7zmkHt7ZK3BQkBCGQR2DSPUg5r1srAPEqBaRt1m7bpSU074is2x8UJbcyL3FURqE6cVFn1L58n/5nTJBccKnn2uclyhpJqbkxKT6tjw5DOl/ZDh0AzEHBAmm7L3+wmyyWXJlMuC/26ftlv/pXkjLzkf6Tmj6zDtw6IX32M0nYOl7t/o50TuiRffZTkXSslq71t1/77CZPvf0/E/DMzuUnfFa72uFIeBP5KwA88pb9F6d/x9T6RABcEIJBJoOQ8ysxJQmsT8JlDa/eibq33ie0Rh6rKPfOS/91bWROujTs9/7NU+fzIT7oUf+XX9qlx58d6WvrO7EN/TKegQ6D5Cfhd7sFBtfXG/mSbn/c86b4e5Pnzli7ZK31n+pGHle+mQcnZecm7Qr+7RoGpahm+bZf+33Wn+nb2eZL75iVPPVmSLQQ6gcDy29XLXfPJ3m4f+qrBpB0NAhAYTmD5ctmGzaNpsq/qH54HSzsQ6NAA1e+g+cqm7zymh3RiGPyVUaevHtTeMe+Q3DsvmbUd7zPqcCj3juv9q5XhoUHJVxck01t/hGnHvFKeXJ/2KK6PD/OE4slYIVAXArvOUjXvO0nyo2cVr/bkD8ruAPJ9Mf8c+Pjrfv6IQvFSNls/3a39txQkXxMXnqbmpacf/ZW1+tt267//bdZ3rhGrT5wh+eJ89dlRIgSalcBtcWI9Z7dkC/fIS7/ll0k7GgQgMJzAiniyKf0o77yYVzfGhaDhObFAoIUI+B2zT8SJqR/dvbZPnfBXQ9+0SPpDA5Jnhn/Wv7N43xL5LQkpLZfzv3nxv31xff43Mz4xtX+WPKSglIFoz4W90n3n9jt90v1vaqRlb4+M/v0+yvPXNo8Ie3bO9krxeLRXr5qnN/73Ra8rFG+Tj/+vx/G843T5+VHQo+N43CUCWP+7J3+9z6X6ndL74ngem3XFKTI8f5p2fhHzxu+yujy34ycZ6fYrJTut/+N9xSsFprtHBo9nKhl1lARYv0YJrs7Z/JX8T3Wr4v+zpM4NoLpREWB+jQpbzTL5v2R8JubRJb01q4qCIdB+BKaUeAR3a3vsO79z56ok3znd2nI7NT8/QLUZ+bd2qdwnhiS/Ej8kDjSnTpV99YCkxyEt7410eeVys/PauzTK8/8VdMD6xia5wNKp/b+tT+OzLOQXY5x8pzorgPX4Iisj4PlSWS68G0Wg0q+BN6qd1CsCzK/mPBKYR805LrQKAhCoIgF+gKoIswFF+QmFBlTdFFU2W//9hIrvjJe6k90UEFu4EaxfLTx4NL3pCTC/mn6IaCAEIACB9iTAD1B7jiu9gkAnEGD96oRRpo+NIsD8ahR56oXAXwl06EeSGHwIQAACEIAABCAAAQhAAAIQaDYCBKjNNiK0BwIQgAAEIAABCEAAAhCAQIcSIEDt0IGn2xCAAAQgAAEIQAACEIAABJqNAAFqs40I7YEABCAAAQhAAAIQgAAEINChBAhQO3Tg6TYEIAABCEAAAhCAAAQgAIFmIzCm2Ro0uvbwtbXRcSMXBCAAAQhAAAIQgAAEIACB0RIY0ybx5Gj7Tz4IVJUAFzaqipPCIACBOhJg/aojbKrqOALMr44bcjrcVAR4xLephoPGQAACEIAABCAAAQhAAAIQ6FwCBKidO/b0HAIQgAAEIAABCEAAAhCAQFMRIEBtquGgMRCAAAQgAAEIQAACEIAABDqXAAFq5449PYcABCAAAQhAAAIQgAAEINBUBAhQE8Ox6yyp8+dLbhN8ZoU94byFMn68lH0j37yQ48Zt4bTF7g7TpewUctvJWyQW2bWfpfNPT5Xj9EmTihTy/01Ot5wypbhflnXiRKW8LPq3/bQsz/LsEybIb58or1Qu8yzXv1R5pEMAAhCAAAQgAAEIQAACEGgaAgfsr6Ys65M8s1vyfUskrwn7gwPSHSBJy+XetEh790T6ZyL/53plHwz7EeHnfEeGviLSfx0yK2B8e5dyrh2SPDry/+sS6c+E/Rd90l+cl0xvP90ty0MDkgdG/9N+af0lc2W5Mco3n9ujnNcU0jlG1h3I3xzl/SHKcXnbTU3mf2W0c3X4PTqk9N+Gvme0L5mrtMZX+kozwgMCEGhOAqxfzTkutKo9CDC/2mMc6QUEWorAfvPV3IcjwHlVoXjzfQf1tj6l+47lQeG/PgKlOXmlp7d7R+D0dPj5zqP9jolA0wvh1b1Kyfp/Qk53fssvRb5b+2wpLk/skv2dIYt7Dbf+d5T/gQiI7fHGaP/AgCzm5fQs+U+Rb+xYeUyOO8gOwF8f6c5/Vrf2HLg6kHeAe2G0z/7lSnMv1x8/CEAAAs1CgPWrWUaCdrQjAeZXO44qfYJAkxO4KAKan/eV11AHln609nuR79oy8/dl+PsOrO9sbhhSe87oLt6ur/UWty+YL7sX1L/NuDP6nWhH1iPAxUvP5Xyn8l1dSY8XzEjW+6J8Mr1czY8Ofzval75T7YA0Xd6He2S5NINL2j+tm1fajg4BCECg2QmwfjX7CNG+VibA/Grl0aPtrU+gQ99BXVjQ0K0YLG8Ib10uv0celnxlXnJ1v2Sp7epBeczLF/f8xe2yn/gOydN7JP0or7Ts7W3RvmX98ll8UtLX79TeFekbNiTTS2m3Rb7XLkx6jk29YzuUTC6pvSIC6e9/T64+HH1H1QWsW+e9pPyb3aRfcmnSjgYBCEAAAhCAAAQgAAEItCIBRwSt2PataPMOkfeZUZaxPvKNz5dXwLPh9lQJ9y8tlcNneyQvvVrSjyRLy96ee57SjumSfOEMyZMWS150hWR664D9sIJSLKdNk/6fF0nuFel+1PiSy2QfGEzKUuXJO5e7607tnR3t3jcv/dST7VFc+t3ZwUGl39hf3A8rBCAAAQhAAAIQgAAEIACBpidwfZ+aWO4jvn4n1I+i+lHZG6KcUh2231d6k55+xDd9p9TvZl4X5fsdT9ebLGWz5nz3Dch2XtR3ZarezTm054DTjyJb+s6r/c3BXx3+YbTv3FT55Zbnci1P6tLe5anynO6vLPtRZ4+H0yuVPMJTKTH8IQCBZiHA+tUsI0E72pEA86sdR5U+QaDJCRxaUAOfHZI8vksyvXVA5kdud4l/N+N3Uv31XOvp/L7zuS7q2T31tdk3R72W6fy+g3n3gFJ+2pf2KK6fskR2L7BHLSruN1rr27qU8/vRnkoDRf9bnnT93T2ypAN2B6Zf71X6jvHvdfwosP09Pulys3TzyUrHDgEIQKBZCbB+NevI0K52IMD8aodRpA8QaFECh0fgtioCQN9Z9b+LOT8Cor1SgaW760dh74n8l4T/x7vlcVOfZPqjRS7vR5Huel+aUY//jcp3w9/1Z8nt49FcB7a+s5rlX8q+f7wremoEvp/vVQ4HiKXyp9Nvi3743/t8Mcrzx6IcwE6NfzezekAl+AcjLe+N9HQ9pXSXU8qPdAhAAALNRoD1q9lGhPa0EwHmVzuNJn2BQIsTmBHvbDrAq7Q7voO3c5RTaf5S/llfs83K53+Lk5Vern1W3Dku99/IlCrXXxH2ndGtDaBL1ZeVzg9QFhnsEIBAsxNg/Wr2EaJ9rUyA+dXKo0fbIQABCLQwAX6AWnjwaDoEOpwA61eHHwB0v6YEmF81xUvhEChBoEO/4luCCskQgAAEIAABCEAAAhCAAAQgUHcCBKh1R06FEIAABCAAAQhAAAIQgAAEIFCMAAFqMSrYIAABCEAAAhCAAAQgAAEIQKDuBAhQ646cCiEAAQhAAAIQgAAEIAABCECgGAEC1GJUsEEAAhCAAAQgAAEIQAACEIBA3QmMqXuNNamQr63VBCuFQgACEIAABCAAAQhAAAIQyCQwpk3iycwOkgCBehLgwkY9aVMXBCBQTQKsX9WkSVkQSBJgfiV5oEGgvgR4xLe+vKkNAhCAAAQgAAEIQAACEIAABDIIEKBmgMEMAQhAAAIQgAAEIAABCEAAAvUlQIBaX97UBgEIQAACEIAABCAAAQhAAAIZBAhQM8BghgAEIAABCEAAAhCAAAQgAIH6EhhX3+oaXdu46O/204q3ZP0G2Z9YVzw9bZ0W5cydq5QH10jeN5j2HFmfnVf6zBmSd62UfHStpLdjx2pvh+1tScpK25/MPVzbM/r1u/uVtn79cB8sEIAABCAAAQhAAAIQgAAEIDAKAttNVaYzuiX9lbYreqVf3yd5+4DkvPmS3k6YoL1zIv+d4XfKEtl/EPmXhcznnTMpd4/A78fhd23I03rkd++A5NndkuPHS06eLGk/t/+yXtn3SbVX1vK3ruemaM9D0Y7HhlTGiV3ll9UKnubXCm2ljRCAAAS2JMD6tSUN9iFQXQLMr+rypDQIQKAMAjtNl5MXoAWpwM6B6s8iUHORn+3WngPQrP/787Ee+TmAdWC7bQSYd0XgtyQCW5dv6Tuly8PvzKjX6Q5U3f5XF5yydfLYLuU/uCDp/vX0SF8T7XEgK2vrbs2vdXtAyyEAgU4lwPrVqSNPv+tBgPlVD8rUAQEIJAj4EV8vQOkA9eJeuT8QAZkf5d04JPtxXYnihinpAPit4X9CSJfjgHVYAWF4TwSwz0S9z5uiBAeIbv8hhawSKrNPifLTuV4Sd3wfj3Y4gE77tZpufq3WbtoLAQhAgPWLYwACtSPA/KodW0qGQGkCHfYOahaQmXmlvDDkUQXpZ50n+Yq4w+pvSq2Kd0SVOnz7p4dlezyS5u+mnW3zkg8OSj5Z4p3OVcvl52Haax/py2+VrPZ2Xca7twsiQF26VDVu3FjtmikPAhCAAAQgAAEIQAACEICAI58OJ/HyeQLw+/skFxwq6Y8dHbh/EtCESUk9S3t2UClPhUO8SpqzzMpnezoOfGqDU0Yn/TGn2TOS+e9fI31lKvD2Hdu3LFb6sa9P5kODAAQgAAEIQAACEIAABCAAga0kUOoR33TxfsT36XjE9aSutEdST5e/aJHSj498fnRkh3gXNpl7s+Z61kW9fpe10kd85+RV5uJ4ZLivT7ql7bLmcn739Iu9smztx5dcbrNJj0OztYv2QAACEChFgPWrFCHSITB6Asyv0bMjJwQgMEoCO8cdRC9AB+xfXkH+WJE/fjRxYvF8/kpw+mNKDixXDCjfp7qL53cg6o8kpT+mlP5I0msKxcuZEf3Mqieda5t4hvmCCEwXRrnu5x7xqO8bIuBO52813ePfau2mvRCAAARYvzgGIFA7Asyv2rGlZAhAIEXAdzYdgHkB8r+Z2XVWKkNK9f9RdQC6KgJN677jeHkEeK4vVUxuZtRzXZ9SHMh+qEf6DWH3nU3f0fS/yfG/uXH7Hch+Ner9duT/04DKO7zMgPLCyO9ys2T6o1KqpfW27l/rtZwWQwACnU6A9avTjwD6X0sCzK9a0qVsCECgpgT8NVv/X9NSX+XNaoy/nvuivDwckGb5Y68OAX6AqsORUiAAgfoTYP2qP3Nq7BwCzK/OGWt6CgEIQKCpCPAD1FTDQWMgAIEKCLB+VQALVwhUSID5VSEw3CFQVQL+vylVLZTCIAABCEAAAhCAAAQgAAEIQAAClRIgQK2UGP4QgAAEIAABCEAAAhCAAAQgUBMCBKg1wUqhEIAABCAAAQhAAAIQgAAEIFApAQLUSonhDwEIQAACEIAABCAAAQhAAAI1IUCAWhOsFAoBCEAAAhCAAAQgAAEIQAAClRIYU2mG5vTna2vNOS60CgIQgAAEIAABCEAAAhBoXwL8e8z2HVt61gACXNhoAHSqhAAEqkKA9asqGCkEAkUJML+KYsEIgToR4BHfOoGmGghAAAIQgAAEIAABCEAAAhAYmQAB6sh8SIUABCAAAQhAAAIQgAAEIACBOhEgQK0TaKqBAAQgAAEIQAACEIAABCAAgZEJEKCOzIdUCEAAAhCAAAQgAAEIQAACEKgTgXF1qqdFqtl1lhq643TJO+6Q3GUXyQcekExvx4+XZe7eko77V9wp/dlnkzl2iPLHhnndeu08GTLpncvtFP62b4wd15P+GPPj6+SwYYNzSKbLeTLS14V/0nu45q90Td8xmfZcqH9+OGmvVJs8WTn23k/y9tskn366eEl7zpX9wT9IPvZYcT+sEIAABCAAAQhAAAIQgEArEHCE0wptrUEbD9hfhS7rk3z3CZIHFSSv+qHkLTdJjksF9G9aJPuKeySPP1LyXxZL3vtbySPCT1oud/BB2uu/RfLmFZJTptgjKQ9/g/Tf/kny0Mh/zHHS/xD2b39D+swZkuntKe+V5c5bJOftk/YYWT86+vfHqM/y61HvyLmHp5rnaT1Ku/h8ySmTJDc6Epe6aesLCb/4jUwvW7ApiR0IQAACEIAABCAAAQhAAAKtRWC/+WrvwwOSrypIprfbRAB/WwSw0+NOpgPY9UPKMSefzil977jD93T4vSzqtfcxEbj6c+ZX9yrFdyrtZ+l065Zfiny39tlSXJ7YJfs7Qxb3Gm51e66Kep4/TT7bTZWcMGF4nnIsF0R5XwhZKo/H4xvh/+cB5Ti0UCpn8XRzL56KFQIQgEDzEmD9at6xoWWtT4D51fpjSA8g0HIELooA5+d95TXdgaUfzf1e5Lu2zPx9Gf6+A/vpbrVjw5DkGaGnW/e13rRF+oIIfL2g/m3cGU57f6dPlklxhzKdnqUfFYG02+fA8kX5rBwj2w+P8v4yID8HvNMi8M3K/cElSnF77on8BKhZxLBDAALtSsDrfbv2j35BoJEEmF+NpE/dEOjQR3wXFjT0KwbLOwRuXS6/R+Idy1fmpa/ulyy1XT0oj3n54p6/uF32E98heXqP5NERyEnL3t4W7VvWL5/FJyV958+Xflekp99NTXoP127+pWzHHSU5Ky/pANHly1p6+8/xqPAj4fphPxL9Kxk+2pMsw3e88/Nkv/qaZDoaBCAAAQhAAAIQgAAEIACBliXwx7jzdmHv6Lrw+8j/uTLz+47t3ZHPtfoOajoQ/Uy3PNYNSTpAy7qD6vJcjh8pfmG8i/r5aOfu8cix/S0dsB9WkMWy1B1N80s/oluqvF8Hh/cvcQskXxf1+07tTv8ru+9Y+93T7afJvirKOXKRdL/TKq30liukpRnhAQEINCcB1q/mHBda1R4EmF/tMY70AgItReD6PjW33Ed8/Q7mxInK50dlb4hySnXefl/pTXpmBahjx8rvuih/YCBZb7KUzZrz3Rf+50V9V4bc7Jnc87utfhTZstSdUT9K7P651FLl/bRPnh9IBajbxld8nxlS+rF5yQcHistnw8/vovrRYXmX3vIDVJoRHhCAQHMSYP1qznGhVe1BgPnVHuNILyDQUgT8zqIDnOO7ijffgakfud1llvz8TqoDKevpUnzn03dC03cw3xz1Wqbz+w6m77w6sEv7pfVTIvDzAut3NtN+5eqzot/pjyH9e9Tjjy+VW153jzwdyDqf6xmMgNT2LHlP+Hk8s/yy7OaTlY4dAhCAQLMSYP1q1pGhXe1AgPnVDqNIHyDQogR8x82PivrOqh+xPb9XHdsr49FYPwrrQOmS8P94t/Ld1CfpO43G5PJ+FOmu96UZ9fj/fX43/F1OlvQjsA5sfWc1y7+U3R+D+t2APL8V7ejpKZWzeLoDXX8V2Lx8p/cN8chu8dybreZOgLqZCXsQgEBnEOAEujPGmV42hgDzqzHcqRUCEChCYEa8s+kAr4jLiCbfYd05yhnReRSJWf8nNaso/1ucrPRy7f73LrPzymG93Pyl/Px15K0NpEvVk07nByhNBB0CEGgVAqxfrTJStLMVCTC/WnHUaDMEIACBNiDAD1AbDCJdgECHEmD96tCBp9t1IcD8qgtmKoFABoEO/TczGTQwQwACEIAABCAAAQhAAAIQgEDDCBCgNgw9FUMAAhCAAAQgAAEIQAACEIDAlgQIULekwT4EIAABCEAAAhCAAAQgAAEINIwAAWrD0FMxBCAAAQhAAAIQgAAEIAABCGxJgAB1SxrsQwACEIAABCAAAQhAAAIQgEDDCIxpWM1VrZivrVUVJ4VBAAIQgAAEIAABCEAAAhAoSWBMm8STJTuKAwTqQYALG/WgTB0QgEAtCLB+1YIqZUJABJhfHAkQaCQBHvFtJH3qhgAEIAABCEAAAhCAAAQgAIFNBAhQN6FgBwIQgAAEIAABCEAAAhCAAAQaSYAAtZH0qRsCEIAABCAAAQhAAAIQgAAENhEgQN2Egh0IQAACEIAABCAAAQhAAAIQaCSBcY2svP51j4v+bj+teN3rN8j+xLri6WnrtChn7lylPLhG8r7BtOfI+uy80mfOkLxrpeSjayW9HTtWeztsb0tSVtr+ZO7h2p7Rr9/dr7T164f7YIEABCAAAQhAAAIQgAAEIACBURDYbqoyndEt6a+0XdEr/fo+ydsHJOfNl/R2wgTtnRP57wy/U5bI/oPIvyxkPu+cSbl7BH4/Dr9rQ57WI797ByTP7pYcP15y8mRJ+7n9l/XKvk+qvbKWv3U9N0V7Hop2PDakMk7sKr+sVvA0v1ZoK22EAAQgsCUB1q8tabAPgeoSYH5VlyelQQACZRDYabqcvAAtSAV2DlR/FoGai/xst/YcgGb935+P9cjPAawD220jwLwrAr8lEdi6fEvfKV0efmdGvU53oOr2v7rglK2Tx3Yp/8EFSfevp0f6mmiPA1lZW3drfq3bA1oOAQh0KgHWr04defpdDwLMr3pQpg4IQCBBwI/4egFKB6gX98r9gQjI/CjvxiHZj+tKFDdMSQfAbw3/E0K6HAeswwoIw3sigH0m6n3eFCU4QHT7DylklVCZfUqUn871krjj+3i0wwF02q/VdPNrtXbTXghAAAKsXxwDEKgdAeZX7dhSMgRKE+iwd1CzgMzMK+WFIY8qSD/rPMlXxB1Wf1NqVbwjqtTh2z89LNvjkTR/N+1sm5d8cFDyyRLvdK5aLj8P0177SF9+q2S1t+sy3r1dEAHq0qWqcePGatdMeRCAAAQgAAEIQAACEIAABBz5dDiJl88TgN/fJ7ngUEl/7OjA/ZOAJkxK6lnas4NKeSoc4lXSnGVWPtvTceBTG5wyOumPOc2ekcx//xrpK1OBt+/YvmWx0o99fTIfGgQgAAEIQAACEIAABCAAAQhsJYFSj/imi/cjvk/HI64ndaU9knq6/EWLlH585POjIzvEu7DJ3Js117Mu6vW7rJU+4jsnrzIXxyPDfX3SLW2XNZfzu6df7JVlaz++5HKbTXocmq1dtAcCEIBAKQKsX6UIkQ6B0RNgfo2eHTkhAIFREtg57iB6ATpg//IK8seK/PGjiROL5/NXgtMfU3JguWJA+T7VXTy/A1F/JCn9MaX0R5JeUyhezozoZ1Y96VzbxDPMF0RgujDKdT/3iEd93xABdzp/q+ke/1ZrN+2FAAQgwPrFMQCB2hFgftWOLSVDAAIpAr6z6QDMC5D/zcyus1IZUqr/j6oD0FURaFr3HcfLI8BzfalicjOjnuv6lOJA9kM90m8Iu+9s+o6m/02O/82N2+9A9qtR77cj/58GVN7hZQaUF0Z+l5sl0x+VUi2tt3X/Wq/ltBgCEOh0AqxfnX4E0P9aEmB+1ZIuZUMAAjUl4K/Z+v+alvoqb1Zj/PXcF+Xl4YA0yx97dQjwA1QdjpQCAQjUnwDrV/2ZU2PnEGB+dc5Y01MIQAACTUWAH6CmGg4aAwEIVECA9asCWLhCoEICzK8KgeEOgaoS8P9NqWqhFAYBCEAAAhCAAAQgAAEIQAACEKiUAAFqpcTwhwAEIAABCEAAAhCAAAQgAIGaECBArQlWCoUABCAAAQhAAAIQgAAEIACBSgkQoFZKDH8IQAACEIAABCAAAQhAAAIQqAkBAtSaYKVQCEAAAhCAAAQgAAEIQAACEKiUwJhKMzSnP19ba85xoVUQgAAEIAABCEAAAhCAQPsS4N9jtu/Y0rMGEODCRgOgUyUEIFAVAqxfVcFIIRAoSoD5VRQLRgjUiQCP+NYJNNVAAAIQgAAEIAABCEAAAhCAwMgECFBH5kMqBCAAAQhAAAIQgAAEIAABCNSJAAFqnUBTDQQgAAEIQAACEIAABCAAAQiMTIAAdWQ+pEIAAhCAAAQgAAEIQAACEIBAnQiMq1M9LVLNrrPU0B2nS95xh+Quu0g+8IBkejt+vCxz95Z03L/iTunPPpvMsUOUPzbM69Zr58mQSe9cbqfwt31j7Lie9MeYH18nhw0bnEMyXc6Tkb4u/JPewzV/pWv6jsm050L988NJe6Xa5MnKsfd+krffJvn008VL2nOu7A/+QfKxx4r7YYUABCAAAQhAAAIQgAAEWoGAI5xWaGsN2njA/ip0WZ/ku0+QPKggedUPJW+5SXJcKqB/0yLZV9wjefyRkv+yWPLe30oeEX7ScrmDD9Je/y2SN6+QnDLFHkl5+Buk//ZPkodG/mOOk/6HsH/7G9JnzpBMb095ryx33iI5b5+0x8j60dG/P0Z9ll+PekfOPTzVPE/rUdrF50tOmSS50ZG41E1bX0j4xW9ketmCTUnsQAACEIAABCAAAQhAAAIQaC0C+81Xex8ekHxVQTK93SYC+NsigJ0edzIdwK4fUo45+XRO6XvHHb6nw+9lUa+9j4nA1Z8zv7pXKb5TaT9Lp1u3/FLku7XPluLyxC7Z3xmyuNdwq9tzVdTz/Gny2W6q5IQJw/OUY7kgyvtCyFJ5PB7fCP8/DyjHoYVSOYunm3vxVKwQgAAEmpcA61fzjg0ta30CzK/WH0N6AIGWI3BRBDg/7yuv6Q4s/Wju9yLftWXm78vw9x3YT3erHRuGJM8IPd26r/WmLdIXRODrBfVv485w2vs7fbJMijuU6fQs/agIpN0+B5YvymflGNl+eJT3lwH5OeCdFoFvVu4PLlGK23NP5CdAzSKGHQIQaFcCXu/btX/0CwKNJMD8aiR96oZAhz7iu7CgoV8xWN4hcOty+T0S71i+Mi99db9kqe3qQXnMyxf3/MXtsp/4DsnTeySPjkBOWvb2tmjfsn75LD4p6Tt/vvS7Ij39bmrSe7h28y9lO+4oyVl5SQeILl/W0tt/jkeFHwnXD/uR6F/J8NGeZBm+452fJ/vV1yTT0SAAAQhAAAIQgAAEIAABCLQsgT/GnbcLe0fXhd9H/s+Vmd93bO+OfK7Vd1DTgehnuuWxbkjSAVrWHVSX53L8SPEL413Uz0c7d49Hju1v6YD9sIIslqXuaJpf+hHdUuX9Oji8f4lbIPm6qN93anf6X9l9x9rvnm4/TfZVUc6Ri6T7nVZppbdcIS3NCA8IQKA5CbB+Nee40Kr2IMD8ao9xpBcQaCkC1/epueU+4ut3MCdOVD4/KntDlFOq8/b7Sm/SMytAHTtWftdF+QMDyXqTpWzWnO++8D8v6rsy5GbP5J7fbfWjyJal7oz6UWL3z6WWKu+nffL8QCpA3Ta+4vvMkNKPzUs+OFBcPht+fhfVjw7Lu/SWH6DSjPCAAASakwDrV3OOC61qDwLMr/YYR3oBgZYi4HcWHeAc31W8+Q5M/cjtLrPk53dSHUhZT5fiO5++E5q+g/nmqNcynd93MH3n1YFd2i+tnxKBnxdYv7OZ9itXnxX9Tn8M6d+jHn98qdzyunvk6UDW+VzPYASktmfJe8LP45nll2U3n6x07BCAAASalQDrV7OODO1qBwLMr3YYRfoAgRYl4DtuflTUd1b9iO35verYXhmPxvpRWAdKl4T/x7uV76Y+Sd9pNCaX96NId70vzajH/+/zu+HvcrKkH4F1YOs7q1n+pez+GNTvBuT5rWhHT0+pnMXTHej6q8Dm5Tu9b4hHdovn3mw1dwLUzUzYgwAEOoMAJ9CdMc70sjEEmF+N4U6tEIBAEQIz4p1NB3hFXEY0+Q7rzlHOiM6jSMz6P6lZRfnf4mSll2v3v3eZnVcO6+XmL+XnryNvbSBdqp50Oj9AaSLoEIBAqxBg/WqVkaKdrUiA+dWKo0abIQABCLQBAX6A2mAQ6QIEOpQA61eHDjzdrgsB5lddMFMJBDIIdOi/mcmggRkCEIAABCAAAQhAAAIQgAAEGkaAALVh6KkYAhCAAAQgAAEIQAACEIAABLYkQIC6JQ32IQABCEAAAhCAAAQgAAEIQKBhBAhQG4aeiiEAAQhAAAIQgAAEIAABCEBgSwIEqFvSYB8CEIAABCAAAQhAAAIQgAAEGkZgTMNqrmrFfG2tqjgpDAIQgAAEIAABCEAAAhCAQEkCY9oknizZURwgUA8CXNioB2XqgAAEakGA9asWVCkTAiLA/OJIgEAjCfCIbyPpUzcEIAABCEAAAhCAAAQgAAEIbCJAgLoJBTsQgAAEIAABCEAAAhCAAAQg0EgCBKiNpE/dEIAABCAAAQhAAAIQgAAEILCJAAHqJhTsQAACEIAABCAAAQhAAAIQgEAjCYxrZOX1r3tc9Hf7acXrXr9B9ifWFU9PW6dFOXPnKuXBNZL3DaY9R9Zn55U+c4bkXSslH10r6e3YsdrbYXtbkrLS9idzD9f2jH797n6lrV8/3AcLBCAAAQhAAAIQgAAEIAABCIyCwHZTlemMbkl/pe2KXunX90nePiA5b76ktxMmaO+cyH9n+J2yRPYfRP5lIfN550zK3SPw+3H4XRvytB753TsgeXa35PjxkpMnS9rP7b+sV/Z9Uu2Vtfyt67kp2vNQtOOxIZVxYlf5ZbWCp/m1QltpIwQgAIEtCbB+bUmDfQhUlwDzq7o8KQ0CECiDwE7T5eQFaEEqsHOg+rMI1FzkZ7u15wA06//+fKxHfg5gHdhuGwHmXRH4LYnA1uVb+k7p8vA7M+p1ugNVt//VBadsnTy2S/kPLki6fz090tdEexzIytq6W/Nr3R7QcghAoFMJsH516sjT73oQYH7VgzJ1QAACCQJ+xNcLUDpAvbhX7g9EQOZHeTcOyX5cV6K4YUo6AH5r+J8Q0uU4YB1WQBjeEwHsM1Hv86YowQGi239IIauEyuxTovx0rpfEHd/Hox0OoNN+raabX6u1m/ZCAAIQYP3iGIBA7Qgwv2rHlpIhUJpAh72DmgVkZl4pLwx5VEH6WedJviLusPqbUqviHVGlDt/+6WHZHo+k+btpZ9u85IODkk+WeKdz1XL5eZj22kf68lslq71dl/Hu7YIIUJcuVY0bN1a7ZsqDAAQgAAEIQAACEIAABCDgyKfDSbx8ngD8/j7JBYdK+mNHB+6fBDRhUlLP0p4dVMpT4RCvkuYss/LZno4Dn9rglNFJf8xp9oxk/vvXSF+ZCrx9x/Yti5V+7OuT+dAgAAEIQAACEIAABCAAAQhAYCsJlHrEN128H/F9Oh5xPakr7ZHU0+UvWqT04yOfHx3ZId6FTeberLmedVGv32Wt9BHfOXmVuTgeGe7rk25pu6y5nN89/WKvLFv78SWX22zS49Bs7aI9EIAABEoRYP0qRYh0CIyeAPNr9OzICQEIjJLAznEH0QvQAfuXV5A/VuSPH02cWDyfvxKc/piSA8sVA8r3qe7i+R2I+iNJ6Y8ppT+S9JpC8XJmRD+z6knn2iaeYb4gAtOFUa77uUc86vuGCLjT+VtN9/i3WrtpLwQgAAHWL44BCNSOAPOrdmwpGQIQSBHwnU0HYF6A/G9mdp2VypBS/X9UHYCuikDTuu84Xh4BnutLFZObGfVc16cUB7If6pF+Q9h9Z9N3NP1CSROBAAAGf0lEQVRvcvxvbtx+B7JfjXq/Hfn/NKDyDi8zoLww8rvcLJn+qJRqab2t+9d6LafFEIBApxNg/er0I4D+15IA86uWdCkbAhCoKQF/zdb/17TUV3mzGuOv574oLw8HpFn+2KtDgB+g6nCkFAhAoP4EWL/qz5waO4cA86tzxpqeQgACEGgqAvwANdVw0BgIQKACAqxfFcDCFQIVEmB+VQgMdwhUlYD/b0pVC6UwCEAAAhCAAAQgAAEIQAACEIBApQQIUCslhj8EIAABCEAAAhCAAAQgAAEI1IQAAWpNsFIoBCAAAQhAAAIQgAAEIAABCFRKgAC1UmL4QwACEIAABCAAAQhAAAIQgEBNCBCg1gQrhUIAAhCAAAQgAAEIQAACEIBApQTGVJqhOf352lpzjgutggAEIAABCEAAAhCAAATalwD/HrN9x5aeNYAAFzYaAJ0qIQCBqhBg/aoKRgqBQFECzK+iWDBCoE4EeMS3TqCpBgIQgAAEIAABCEAAAhCAAARGJkCAOjIfUiEAAQhAAAIQgAAEIAABCECgTgQIUOsEmmogAAEIQAACEIAABCAAAQhAYGQC40ZObrfUcdHf7aeV17ON4fbIwyP77zpL6TtOl7zjDslddpF84AHJSrcvnascg/dLPrm+0hLwhwAEIAABCEAAAhCAAAQgAIGmJLDdVDXrwz2Sfgn+873STw/7/4S+ckD29PaA/WVZ1id5Zrfk+5ZIXhP2ByO/A2OlZm/Hj1faNyP/HZH/zyFfV8jOS0rlBDz+leckBwQgAIHGEmD9aix/am9vAsyv9h5fegeBpiSwU9zp9AL0N/OLN/PErqR9v/B7OALGVxWS6da2iUenb4tAc3rU5/Qs6cA3n096fLlX+iUhk6looyXg8R9tfvJBAAIQaBQB1q9GkafeTiDA/OqEUaaPEGgyAjuUCFD/flHxBl8UAeLPI/As7rXZ+rIIaF3f5pTK9i6Mel9bqCwf3iMT4AdoZD6kQgACzUuA9at5x4aWtT4B5lfrjyE9gEDLEXDA6AXIdybPjUBw+UDxLvmR3y+GX3Gvrbf6XdZzulXWmmjPgow7vVtfY2eW4PHvzN7TawhAoJUJsH618ujR9mYnwPxq9hGife1NoMM+kpQ1mJdfqpSVg5ITMxx3CPszGemlzHPjo0ezZyQ9718jfeVKybV/key9VvIlBcnLr5bcY44kWwhAAAIQgAAEIAABCEAAAhBocQLpO6jpd1Cz3hm9vk8dL/cR3zFj5D8xIt7FS6T3RTmWtmdh9R3V9UPymDAhyxN7JQS4QloJLXwhAIFmIsD61UyjQVvajQDzq91GlP5AoAUIzIg7mF6AXh5f5S3V9EML8ng2AsXju4rncGDqrwLvEv+Gprj3Zqs/rmTplL3izuvlvbYgq0HA41+NsigDAhCAQD0JsH7VkzZ1dRoB5lenjTj9hUADCfj/n14QgZ4XoEtD9/8zLdXEw+MjSqsG5Ok7q5/pln5+lOfAslR5Tj8l7rD+Psp1O6+I8ubk7YmsBgGPfzXKogwIQAAC9STA+lVP2tTVaQSYX5024vQXAm1IwHdkHQBvbRf9b3CmTNnaksg/EgF+gEaiQxoEINDMBFi/mnl0aFurE2B+tfoI0n4IQAACLUqAH6AWHTiaDQEI5Fi/OAggUDsCzK/asaVkCJQmsE1pFzwgAAEIQAACEIAABCAAAQhAAAK1J0CAWnvG1AABCEAAAhCAAAQgAAEIQAACZRAgQC0DEi4QgAAEIAABCEAAAhCAAAQgUHsCBKi1Z0wNEIAABCAAAQhAAAIQgAAEIFAGAQLUMiDhAgEIQAACEIAABCAAAQhAAAK1J0CAWnvG1AABCEAAAhCAAAQgAAEIQAACEIAABCAAAQhAAAIQgAAEIAABCEAAAhCAAAQgAAEIQAACEIAABCAAAQhAAAIQgAAEIAABCEAAAhCAAAQgAAEIQAACEIAABCAAAQhAAAIQgAAEIAABCEAAAhCAAAQgAAEIQAACEIAABCAAAQhAAAIQgAAEIAABCEAAAhCAAAQgAAEIQAACEIAABCAAAQhAAAIQgAAEIAABCEAAAhCAAAQgAAEIQAACEIAABCAAAQhAAAIQgAAEIAABCEAAAhCAAAQgAAEIQAACEIAABCAAAQhAAAIQgAAEIAABCEAAAhCAAAQgAAEIQAACEIAABCAAAQhAAAIQgAAEIAABCEAAAhCAAAQg0K4E/h8t1h1WlvzmHAAAAABJRU5ErkJggg==)"
      ],
      "metadata": {
        "id": "ADtR0SyocSKL"
      }
    },
    {
      "cell_type": "markdown",
      "source": [
        "Solution (put activation map dimensions, number of weights and number of biases respectively):\n",
        "\n",
        "CONV-9-32: 120 x 120 x 32, 7766, 32\n",
        "\n",
        "POOL-2: 60 x 60 x 32, 0, 0\n",
        "\n",
        "CONV-5-64: 56 x 56 x 64, 51200, 64\n",
        "\n",
        "POOL-2: 28 x 28 x 64, 0, 0\n",
        "\n",
        "CONV-5-64: 24 x 24 x 64, 102400, 64\n",
        "\n",
        "POOL-2: 12 x 12 x 64, 0, 0\n",
        "\n",
        "FC-3: 3, 27648, 3"
      ],
      "metadata": {
        "id": "C4VKzjY8cuz2"
      }
    },
    {
      "cell_type": "markdown",
      "source": [
        "## Part II Image Classification using Convolutional neural network\n",
        "\n",
        "You are supposed to complete the missing code and plot the classification results as requested."
      ],
      "metadata": {
        "id": "phmVsRzpWuUx"
      }
    },
    {
      "cell_type": "code",
      "execution_count": 1,
      "metadata": {
        "id": "B7fpnCeoO7Yv"
      },
      "outputs": [],
      "source": [
        "%matplotlib inline"
      ]
    },
    {
      "cell_type": "markdown",
      "metadata": {
        "id": "N4_IZxZOO7Yx"
      },
      "source": [
        "\n",
        "Training an image classifier\n",
        "=====================\n",
        "Specifically for vision, we have created a package called\n",
        "``torchvision``, that has data loaders for common datasets such as\n",
        "Imagenet, CIFAR10, MNIST, etc. and data transformers for images, viz.,\n",
        "``torchvision.datasets`` and ``torch.utils.data.DataLoader``.\n",
        "\n",
        "This provides a huge convenience and avoids writing boilerplate code.\n",
        "\n",
        "For this lab, we will use the CIFAR10 dataset.\n",
        "It has the classes: ‘airplane’, ‘automobile’, ‘bird’, ‘cat’, ‘deer’,\n",
        "‘dog’, ‘frog’, ‘horse’, ‘ship’, ‘truck’. The images in CIFAR-10 are of\n",
        "size 3x32x32, i.e. 3-channel color images of 32x32 pixels in size.\n",
        "\n",
        "\n",
        "Training an image classifier\n",
        "----------------------------\n",
        "\n",
        "You are asked do the following steps in order:\n",
        "\n",
        "1. Load and normalizing the CIFAR10 training and test datasets using\n",
        "   ``torchvision``\n",
        "2. Define a Convolution Neural Network\n",
        "3. Define a loss function\n",
        "4. Train the network on the training data\n",
        "5. Test the network on the test data\n",
        "\n",
        "\n",
        "Loading and normalizing CIFAR10\n",
        "\n",
        "Using ``torchvision``, it’s extremely easy to load CIFAR10.\n",
        "\n"
      ]
    },
    {
      "cell_type": "code",
      "execution_count": 2,
      "metadata": {
        "id": "eX9v2E-_O7Yz"
      },
      "outputs": [],
      "source": [
        "import torch\n",
        "import torchvision\n",
        "import torchvision.transforms as transforms"
      ]
    },
    {
      "cell_type": "markdown",
      "metadata": {
        "id": "ceKYLdU6O7Yz"
      },
      "source": [
        "The output of torchvision datasets are PILImage images of range [0, 1].\n",
        "We transform them to Tensors of normalized range [-1, 1].\n",
        "\n"
      ]
    },
    {
      "cell_type": "code",
      "execution_count": 3,
      "metadata": {
        "id": "y_NFUdOZO7Yz",
        "colab": {
          "base_uri": "https://localhost:8080/"
        },
        "outputId": "74d46df8-7ea9-40fa-c6e8-0add7c02a282"
      },
      "outputs": [
        {
          "output_type": "stream",
          "name": "stdout",
          "text": [
            "Downloading https://www.cs.toronto.edu/~kriz/cifar-10-python.tar.gz to ./data/cifar-10-python.tar.gz\n"
          ]
        },
        {
          "output_type": "stream",
          "name": "stderr",
          "text": [
            "100%|██████████| 170M/170M [00:01<00:00, 94.9MB/s]\n"
          ]
        },
        {
          "output_type": "stream",
          "name": "stdout",
          "text": [
            "Extracting ./data/cifar-10-python.tar.gz to ./data\n",
            "Files already downloaded and verified\n"
          ]
        }
      ],
      "source": [
        "transform = transforms.Compose(\n",
        "    [transforms.ToTensor(),\n",
        "     transforms.Normalize((0.5, 0.5, 0.5), (0.5, 0.5, 0.5))])\n",
        "\n",
        "trainset = torchvision.datasets.CIFAR10(root='./data', train=True,\n",
        "                                        download=True, transform=transform)\n",
        "trainloader = torch.utils.data.DataLoader(trainset, batch_size=4,\n",
        "                                          shuffle=True, num_workers=2)\n",
        "\n",
        "testset = torchvision.datasets.CIFAR10(root='./data', train=False,\n",
        "                                       download=True, transform=transform)\n",
        "testloader = torch.utils.data.DataLoader(testset, batch_size=4,\n",
        "                                         shuffle=False, num_workers=2)\n",
        "\n",
        "classes = ('plane', 'car', 'bird', 'cat',\n",
        "           'deer', 'dog', 'frog', 'horse', 'ship', 'truck')"
      ]
    },
    {
      "cell_type": "markdown",
      "metadata": {
        "id": "vpbGPDUiO7Yz"
      },
      "source": [
        "Let us show some of the training images, for fun.\n",
        "\n"
      ]
    },
    {
      "cell_type": "code",
      "execution_count": 4,
      "metadata": {
        "id": "yfZ1k6OMO7Y0",
        "colab": {
          "base_uri": "https://localhost:8080/",
          "height": 210
        },
        "outputId": "76d7a4c2-4539-44ea-dbbf-a8102038c92c"
      },
      "outputs": [
        {
          "output_type": "stream",
          "name": "stdout",
          "text": [
            " deer  deer truck  bird\n"
          ]
        },
        {
          "output_type": "display_data",
          "data": {
            "text/plain": [
              "<Figure size 640x480 with 1 Axes>"
            ],
            "image/png": "[encoded data removed]"
          },
          "metadata": {}
        }
      ],
      "source": [
        "import matplotlib.pyplot as plt\n",
        "import numpy as np\n",
        "\n",
        "# functions to show an image\n",
        "\n",
        "\n",
        "def imshow(img):\n",
        "    img = img / 2 + 0.5     # unnormalize\n",
        "    npimg = img.numpy()\n",
        "    plt.imshow(np.transpose(npimg, (1, 2, 0)))\n",
        "\n",
        "\n",
        "# get some random training images\n",
        "dataiter = iter(trainloader)\n",
        "images, labels = next(dataiter)\n",
        "\n",
        "# show images\n",
        "imshow(torchvision.utils.make_grid(images))\n",
        "# print labels\n",
        "print(' '.join('%5s' % classes[labels[j]] for j in range(4)))"
      ]
    },
    {
      "cell_type": "markdown",
      "metadata": {
        "id": "lwFlKd_rO7Y0"
      },
      "source": [
        "2. Define a Convolution Neural Network that takes 3-channel images\n",
        "\n"
      ]
    },
    {
      "cell_type": "code",
      "execution_count": 5,
      "metadata": {
        "id": "oHvSfpO5O7Y0"
      },
      "outputs": [],
      "source": [
        "import torch.nn as nn\n",
        "import torch.nn.functional as F\n",
        "\n",
        "# complete the code bellow\n",
        "# You are asked to implement a CNN that contains the following layers sequentially:\n",
        "# 1. 2D convolution layer with kernel size 5, input depth 3, output depth 6, no padding, stride 1\n",
        "# 2. Relu layer\n",
        "# 3. 2x2 Pooling layer with stride 2\n",
        "# 4. 2D convolution layer with kernel size 5, input depth 6, output depth 16, no padding, stride 1\n",
        "# 5. Relu layer\n",
        "# 6. 2x2 Pooling layer with stride 2\n",
        "# 7. flattening layer\n",
        "# 8. fully connected layer, output dimension is 128\n",
        "# 9. Relu layer\n",
        "# 10. Fully connected layer, output dimension is 64\n",
        "# 11. Relu layer\n",
        "# 12. Fully connected layer, output dimension is 10\n",
        "\n",
        "class Net(nn.Module):\n",
        "    def __init__(self):\n",
        "        super(Net, self).__init__()\n",
        "        # complete code here\n",
        "         # Layer 1: 2D Convolution with kernel size 5, input depth 3, output depth 6, stride 1, no padding\n",
        "        self.conv1 = nn.Conv2d(in_channels=3, out_channels=6, kernel_size=5, stride=1, padding=0)\n",
        "\n",
        "        # Layer 3: 2x2 Pooling layer with stride 2\n",
        "        self.pool = nn.MaxPool2d(kernel_size=2, stride=2)\n",
        "\n",
        "        # Layer 4: 2D Convolution with kernel size 5, input depth 6, output depth 16, stride 1, no padding\n",
        "        self.conv2 = nn.Conv2d(in_channels=6, out_channels=16, kernel_size=5, stride=1, padding=0)\n",
        "\n",
        "        # Layer 8: Fully connected layer with output dimension 128\n",
        "        self.fc1 = nn.Linear(16 * 5 * 5, 128)  # Adjusted for CIFAR-10 input size (32x32)\n",
        "\n",
        "        # Layer 10: Fully connected layer with output dimension 64\n",
        "        self.fc2 = nn.Linear(128, 64)\n",
        "\n",
        "        # Layer 12: Fully connected layer with output dimension 10 (number of classes)\n",
        "        self.fc3 = nn.Linear(64, 10)\n",
        "\n",
        "    def forward(self, x):\n",
        "        # complete code here\n",
        "        # Apply first convolution, followed by ReLU, then pooling\n",
        "        x = self.pool(F.relu(self.conv1(x)))\n",
        "\n",
        "        # Apply second convolution, followed by ReLU, then pooling\n",
        "        x = self.pool(F.relu(self.conv2(x)))\n",
        "\n",
        "        # Flatten the output from the last convolutional layer\n",
        "        x = x.view(-1, 16 * 5 * 5)\n",
        "\n",
        "        # Apply first fully connected layer followed by ReLU\n",
        "        x = F.relu(self.fc1(x))\n",
        "\n",
        "        # Apply second fully connected layer followed by ReLU\n",
        "        x = F.relu(self.fc2(x))\n",
        "\n",
        "        # Apply final fully connected layer for output\n",
        "        x = self.fc3(x)\n",
        "\n",
        "        return x\n",
        "\n",
        "\n",
        "net = Net()"
      ]
    },
    {
      "cell_type": "markdown",
      "metadata": {
        "id": "Xd3EczSTO7Y1"
      },
      "source": [
        "3. Define a Loss function and optimizer\n",
        "\n",
        "\n",
        "Let's use a Classification Cross-Entropy loss and SGD with momentum.\n",
        "\n"
      ]
    },
    {
      "cell_type": "code",
      "execution_count": 6,
      "metadata": {
        "id": "0CrgA2e0O7Y1"
      },
      "outputs": [],
      "source": [
        "import torch.optim as optim\n",
        "\n",
        "# complete the code bellow\n",
        "# use cross entropy loss\n",
        "# use SGD with momentum (learning rate 0.002, momentum 0.9)\n",
        "criterion = nn.CrossEntropyLoss()\n",
        "optimizer = optim.SGD(net.parameters(), lr=0.002, momentum=0.9)"
      ]
    },
    {
      "cell_type": "markdown",
      "metadata": {
        "id": "hP6zee6OO7Y1"
      },
      "source": [
        "4. Train the network\n",
        "\n",
        "This is when things start to get interesting.\n",
        "We simply have to loop over our data iterator, and feed the inputs to the\n",
        "network and optimize.\n",
        "\n"
      ]
    },
    {
      "cell_type": "code",
      "execution_count": 7,
      "metadata": {
        "id": "HprE7BIOO7Y1",
        "colab": {
          "base_uri": "https://localhost:8080/"
        },
        "outputId": "044a6b66-d79d-438d-8a65-485be3b5a996"
      },
      "outputs": [
        {
          "output_type": "stream",
          "name": "stdout",
          "text": [
            "[1,  2000] loss: 2.148\n",
            "[1,  4000] loss: 1.803\n",
            "[1,  6000] loss: 1.637\n",
            "[1,  8000] loss: 1.570\n",
            "[1, 10000] loss: 1.496\n",
            "[1, 12000] loss: 1.465\n",
            "[2,  2000] loss: 1.399\n",
            "[2,  4000] loss: 1.380\n",
            "[2,  6000] loss: 1.361\n",
            "[2,  8000] loss: 1.345\n",
            "[2, 10000] loss: 1.313\n",
            "[2, 12000] loss: 1.317\n",
            "[3,  2000] loss: 1.226\n",
            "[3,  4000] loss: 1.225\n",
            "[3,  6000] loss: 1.249\n",
            "[3,  8000] loss: 1.237\n",
            "[3, 10000] loss: 1.230\n",
            "[3, 12000] loss: 1.249\n",
            "Finished Training\n"
          ]
        }
      ],
      "source": [
        "# complete the code below\n",
        "for epoch in range(3):  # loop over the dataset multiple times\n",
        "\n",
        "    running_loss = 0.0\n",
        "    for i, data in enumerate(trainloader, 0):\n",
        "        # get the inputs\n",
        "        inputs, labels = data\n",
        "\n",
        "\n",
        "        # zero the parameter gradients\n",
        "        optimizer.zero_grad()\n",
        "\n",
        "        # forward + backward + optimize\n",
        "        # complete the code here\n",
        "        outputs = net(inputs)           # forward pass: compute predicted outputs\n",
        "        loss = criterion(outputs, labels)  # compute loss\n",
        "        loss.backward()                  # backward pass: compute gradient of the loss with respect to model parameters\n",
        "        optimizer.step()\n",
        "\n",
        "        # print statistics\n",
        "        running_loss += loss.item()\n",
        "        if i % 2000 == 1999:    # print every 2000 mini-batches\n",
        "            print('[%d, %5d] loss: %.3f' %\n",
        "                  (epoch + 1, i + 1, running_loss / 2000))\n",
        "            running_loss = 0.0\n",
        "\n",
        "print('Finished Training')"
      ]
    },
    {
      "cell_type": "markdown",
      "metadata": {
        "id": "8PGg4LihO7Y1"
      },
      "source": [
        "5. Test the network on the test data\n",
        "\n",
        "We have trained the network for 3 epochs over the training dataset.\n",
        "But we need to check if the network has learnt anything at all.\n",
        "\n",
        "We will check this by predicting the class label that the neural network\n",
        "outputs, and checking it against the ground-truth.\n",
        "\n"
      ]
    },
    {
      "cell_type": "code",
      "execution_count": 8,
      "metadata": {
        "id": "2c5kuBj4O7Y1",
        "colab": {
          "base_uri": "https://localhost:8080/",
          "height": 210
        },
        "outputId": "2a6075f2-f59e-42f3-84f0-b33fddb8e418"
      },
      "outputs": [
        {
          "output_type": "stream",
          "name": "stdout",
          "text": [
            "GroundTruth:    cat  ship  ship plane\n"
          ]
        },
        {
          "output_type": "display_data",
          "data": {
            "text/plain": [
              "<Figure size 640x480 with 1 Axes>"
            ],
            "image/png": "[encoded data removed]"
          },
          "metadata": {}
        }
      ],
      "source": [
        "dataiter = iter(testloader)\n",
        "images, labels = next(dataiter)\n",
        "\n",
        "# print images\n",
        "imshow(torchvision.utils.make_grid(images))\n",
        "print('GroundTruth: ', ' '.join('%5s' % classes[labels[j]] for j in range(4)))"
      ]
    },
    {
      "cell_type": "markdown",
      "metadata": {
        "id": "6KuP2nV9O7Y1"
      },
      "source": [
        "Okay, now let us see what the neural network thinks these examples above are:\n",
        "\n"
      ]
    },
    {
      "cell_type": "code",
      "execution_count": 9,
      "metadata": {
        "id": "wghBftDOO7Y1"
      },
      "outputs": [],
      "source": [
        "# complete the code here\n",
        "# run inference on the four test images, show predicted class names\n",
        "outputs = net(images)"
      ]
    },
    {
      "cell_type": "markdown",
      "metadata": {
        "id": "7JTwo3qCO7Y2"
      },
      "source": [
        "Let us look at how the network performs on the whole dataset.\n",
        "\n"
      ]
    },
    {
      "cell_type": "code",
      "execution_count": 10,
      "metadata": {
        "id": "OQGBz-ALO7Y2",
        "colab": {
          "base_uri": "https://localhost:8080/"
        },
        "outputId": "9864b2d6-08ab-4c64-a929-4293c81c2188"
      },
      "outputs": [
        {
          "output_type": "stream",
          "name": "stdout",
          "text": [
            "Accuracy of the network on the 10000 test images: 55 %\n"
          ]
        }
      ],
      "source": [
        "# complete the code below to compute accuracy of the network on test images\n",
        "correct = 0\n",
        "total = 0\n",
        "with torch.no_grad():\n",
        "    for data in testloader:\n",
        "        images, labels = data\n",
        "        outputs = net(images)\n",
        "        # complete the code here\n",
        "        _, predicted = torch.max(outputs, 1)\n",
        "\n",
        "        # Update total and correct counts\n",
        "        total += labels.size(0)  # Increment total by the batch size\n",
        "        correct += (predicted == labels).sum().item()  # Count correct predictions\n",
        "\n",
        "print('Accuracy of the network on the 10000 test images: %d %%' % (\n",
        "    100 * correct / total))"
      ]
    },
    {
      "cell_type": "markdown",
      "metadata": {
        "id": "GZs-vQrZO7Y2"
      },
      "source": [
        "Okay, so what next?\n",
        "\n",
        "How do we run these neural networks on the GPU?\n",
        "\n",
        "Training on GPU\n",
        "----------------\n",
        "Just like how you transfer a Tensor on to the GPU, you transfer the neural\n",
        "net onto the GPU.\n",
        "\n",
        "Let's first define our device as the first visible cuda device if we have\n",
        "CUDA available:\n",
        "\n"
      ]
    },
    {
      "cell_type": "code",
      "execution_count": 11,
      "metadata": {
        "id": "R7i0KZVzO7Y2",
        "colab": {
          "base_uri": "https://localhost:8080/"
        },
        "outputId": "781643e9-ae3a-46b0-b7a3-75bbb82fa373"
      },
      "outputs": [
        {
          "output_type": "stream",
          "name": "stdout",
          "text": [
            "cpu\n"
          ]
        }
      ],
      "source": [
        "device = torch.device(\"cuda:0\" if torch.cuda.is_available() else \"cpu\")\n",
        "\n",
        "# Assume that we are on a CUDA machine, then this should print a CUDA device:\n",
        "\n",
        "print(device)"
      ]
    },
    {
      "cell_type": "markdown",
      "metadata": {
        "id": "0bJn-Z8pO7Y2"
      },
      "source": [
        "The rest of this section assumes that `device` is a CUDA device.\n",
        "\n",
        "Then these methods will recursively go over all modules and convert their\n",
        "parameters and buffers to CUDA tensors:\n",
        "\n",
        ".. code:: python\n",
        "\n",
        "    net.to(device)\n",
        "\n",
        "\n",
        "Remember that you will have to send the inputs and targets at every step\n",
        "to the GPU too:\n",
        "\n",
        ".. code:: python\n",
        "\n",
        "        inputs, labels = inputs.to(device), labels.to(device)"
      ]
    },
    {
      "cell_type": "markdown",
      "source": [
        "You are asked to modify the code above to train on GPU instead of CPU.\n",
        "Report any speedup observed. You have to request an instance of GPU runtime type for this part."
      ],
      "metadata": {
        "id": "u2gvhkk_jurC"
      }
    },
    {
      "cell_type": "code",
      "source": [
        "# write code bellow for training on GPU\n",
        "\n",
        "# complete the code below\n",
        "net.to(device)\n",
        "for epoch in range(3):  # loop over the dataset multiple times\n",
        "\n",
        "    running_loss = 0.0\n",
        "    for i, data in enumerate(trainloader, 0):\n",
        "        # get the inputs\n",
        "        inputs, labels = data\n",
        "        inputs, labels = inputs.to(device), labels.to(device)  # move data to the GPU\n",
        "\n",
        "        # zero the parameter gradients\n",
        "        optimizer.zero_grad()\n",
        "\n",
        "        # forward pass\n",
        "        outputs = net(inputs)\n",
        "        loss = criterion(outputs, labels)\n",
        "\n",
        "        # backward pass and optimize\n",
        "        loss.backward()\n",
        "        optimizer.step()\n",
        "\n",
        "        # print statistics\n",
        "        running_loss += loss.item()\n",
        "        if i % 100 == 99:    # print every 100 mini-batches\n",
        "            print(f\"[{epoch + 1}, {i + 1}] loss: {running_loss / 100:.3f}\")\n",
        "            running_loss = 0.0"
      ],
      "metadata": {
        "id": "tE-PKQNBkH-1",
        "colab": {
          "base_uri": "https://localhost:8080/"
        },
        "outputId": "645ee6aa-76f5-420f-ac87-df5bd2d6aa54"
      },
      "execution_count": 13,
      "outputs": [
        {
          "output_type": "stream",
          "name": "stdout",
          "text": [
            "[1, 100] loss: 1.189\n",
            "[1, 200] loss: 1.070\n",
            "[1, 300] loss: 1.168\n",
            "[1, 400] loss: 1.148\n",
            "[1, 500] loss: 1.104\n",
            "[1, 600] loss: 1.192\n",
            "[1, 700] loss: 1.106\n",
            "[1, 800] loss: 1.038\n",
            "[1, 900] loss: 1.095\n",
            "[1, 1000] loss: 1.300\n",
            "[1, 1100] loss: 1.228\n",
            "[1, 1200] loss: 1.045\n",
            "[1, 1300] loss: 1.235\n",
            "[1, 1400] loss: 1.124\n",
            "[1, 1500] loss: 1.116\n",
            "[1, 1600] loss: 1.271\n",
            "[1, 1700] loss: 1.127\n",
            "[1, 1800] loss: 1.221\n",
            "[1, 1900] loss: 1.045\n",
            "[1, 2000] loss: 1.188\n",
            "[1, 2100] loss: 1.082\n",
            "[1, 2200] loss: 1.177\n",
            "[1, 2300] loss: 1.112\n",
            "[1, 2400] loss: 1.179\n",
            "[1, 2500] loss: 1.164\n",
            "[1, 2600] loss: 1.173\n",
            "[1, 2700] loss: 1.098\n",
            "[1, 2800] loss: 1.108\n",
            "[1, 2900] loss: 1.121\n",
            "[1, 3000] loss: 1.073\n",
            "[1, 3100] loss: 1.217\n",
            "[1, 3200] loss: 1.119\n",
            "[1, 3300] loss: 1.315\n",
            "[1, 3400] loss: 1.250\n",
            "[1, 3500] loss: 1.075\n",
            "[1, 3600] loss: 0.989\n",
            "[1, 3700] loss: 1.172\n",
            "[1, 3800] loss: 1.091\n",
            "[1, 3900] loss: 1.169\n",
            "[1, 4000] loss: 1.306\n",
            "[1, 4100] loss: 1.166\n",
            "[1, 4200] loss: 1.173\n",
            "[1, 4300] loss: 1.181\n",
            "[1, 4400] loss: 1.145\n",
            "[1, 4500] loss: 1.187\n",
            "[1, 4600] loss: 1.099\n",
            "[1, 4700] loss: 1.130\n",
            "[1, 4800] loss: 1.163\n",
            "[1, 4900] loss: 1.199\n",
            "[1, 5000] loss: 1.133\n",
            "[1, 5100] loss: 1.203\n",
            "[1, 5200] loss: 1.151\n",
            "[1, 5300] loss: 1.177\n",
            "[1, 5400] loss: 1.152\n",
            "[1, 5500] loss: 1.084\n",
            "[1, 5600] loss: 1.174\n",
            "[1, 5700] loss: 1.335\n",
            "[1, 5800] loss: 1.045\n",
            "[1, 5900] loss: 1.172\n",
            "[1, 6000] loss: 1.162\n",
            "[1, 6100] loss: 1.206\n",
            "[1, 6200] loss: 1.364\n",
            "[1, 6300] loss: 1.176\n",
            "[1, 6400] loss: 1.028\n",
            "[1, 6500] loss: 1.202\n",
            "[1, 6600] loss: 1.293\n",
            "[1, 6700] loss: 1.261\n",
            "[1, 6800] loss: 1.183\n",
            "[1, 6900] loss: 1.275\n",
            "[1, 7000] loss: 1.295\n",
            "[1, 7100] loss: 1.225\n",
            "[1, 7200] loss: 1.166\n",
            "[1, 7300] loss: 1.145\n",
            "[1, 7400] loss: 1.109\n",
            "[1, 7500] loss: 1.203\n",
            "[1, 7600] loss: 1.292\n",
            "[1, 7700] loss: 1.269\n",
            "[1, 7800] loss: 1.159\n",
            "[1, 7900] loss: 1.204\n",
            "[1, 8000] loss: 1.202\n",
            "[1, 8100] loss: 1.146\n",
            "[1, 8200] loss: 1.188\n",
            "[1, 8300] loss: 1.141\n",
            "[1, 8400] loss: 1.084\n",
            "[1, 8500] loss: 1.309\n",
            "[1, 8600] loss: 1.160\n",
            "[1, 8700] loss: 1.254\n",
            "[1, 8800] loss: 1.136\n",
            "[1, 8900] loss: 1.287\n",
            "[1, 9000] loss: 1.149\n",
            "[1, 9100] loss: 1.146\n",
            "[1, 9200] loss: 1.175\n",
            "[1, 9300] loss: 1.139\n",
            "[1, 9400] loss: 1.174\n",
            "[1, 9500] loss: 1.123\n",
            "[1, 9600] loss: 1.131\n",
            "[1, 9700] loss: 1.264\n",
            "[1, 9800] loss: 1.215\n",
            "[1, 9900] loss: 1.226\n",
            "[1, 10000] loss: 1.255\n",
            "[1, 10100] loss: 1.157\n",
            "[1, 10200] loss: 1.178\n",
            "[1, 10300] loss: 1.243\n",
            "[1, 10400] loss: 1.251\n",
            "[1, 10500] loss: 1.114\n",
            "[1, 10600] loss: 1.150\n",
            "[1, 10700] loss: 1.174\n",
            "[1, 10800] loss: 1.227\n",
            "[1, 10900] loss: 1.175\n",
            "[1, 11000] loss: 1.224\n",
            "[1, 11100] loss: 1.239\n",
            "[1, 11200] loss: 1.085\n",
            "[1, 11300] loss: 1.251\n",
            "[1, 11400] loss: 1.196\n",
            "[1, 11500] loss: 1.170\n",
            "[1, 11600] loss: 1.159\n",
            "[1, 11700] loss: 1.159\n",
            "[1, 11800] loss: 1.218\n",
            "[1, 11900] loss: 1.170\n",
            "[1, 12000] loss: 1.118\n",
            "[1, 12100] loss: 1.057\n",
            "[1, 12200] loss: 1.252\n",
            "[1, 12300] loss: 1.228\n",
            "[1, 12400] loss: 1.055\n",
            "[1, 12500] loss: 1.146\n",
            "[2, 100] loss: 1.083\n",
            "[2, 200] loss: 1.071\n",
            "[2, 300] loss: 1.136\n",
            "[2, 400] loss: 1.067\n",
            "[2, 500] loss: 1.158\n",
            "[2, 600] loss: 1.073\n",
            "[2, 700] loss: 1.018\n",
            "[2, 800] loss: 1.140\n",
            "[2, 900] loss: 1.074\n",
            "[2, 1000] loss: 1.040\n",
            "[2, 1100] loss: 1.048\n",
            "[2, 1200] loss: 1.087\n",
            "[2, 1300] loss: 1.123\n",
            "[2, 1400] loss: 1.032\n",
            "[2, 1500] loss: 1.047\n",
            "[2, 1600] loss: 1.133\n",
            "[2, 1700] loss: 1.106\n",
            "[2, 1800] loss: 1.192\n",
            "[2, 1900] loss: 1.081\n",
            "[2, 2000] loss: 1.065\n",
            "[2, 2100] loss: 1.155\n",
            "[2, 2200] loss: 1.055\n",
            "[2, 2300] loss: 1.119\n",
            "[2, 2400] loss: 1.045\n",
            "[2, 2500] loss: 1.146\n",
            "[2, 2600] loss: 1.205\n",
            "[2, 2700] loss: 1.135\n",
            "[2, 2800] loss: 1.094\n",
            "[2, 2900] loss: 1.064\n",
            "[2, 3000] loss: 1.064\n",
            "[2, 3100] loss: 1.119\n",
            "[2, 3200] loss: 1.106\n",
            "[2, 3300] loss: 1.164\n",
            "[2, 3400] loss: 1.082\n",
            "[2, 3500] loss: 1.113\n",
            "[2, 3600] loss: 1.174\n",
            "[2, 3700] loss: 1.081\n",
            "[2, 3800] loss: 1.069\n",
            "[2, 3900] loss: 1.157\n",
            "[2, 4000] loss: 1.130\n",
            "[2, 4100] loss: 1.164\n",
            "[2, 4200] loss: 1.153\n",
            "[2, 4300] loss: 1.202\n",
            "[2, 4400] loss: 1.019\n",
            "[2, 4500] loss: 1.106\n",
            "[2, 4600] loss: 1.109\n",
            "[2, 4700] loss: 1.168\n",
            "[2, 4800] loss: 1.214\n",
            "[2, 4900] loss: 1.177\n",
            "[2, 5000] loss: 1.112\n",
            "[2, 5100] loss: 1.114\n",
            "[2, 5200] loss: 1.091\n",
            "[2, 5300] loss: 1.326\n",
            "[2, 5400] loss: 1.142\n",
            "[2, 5500] loss: 1.108\n",
            "[2, 5600] loss: 1.195\n",
            "[2, 5700] loss: 1.029\n",
            "[2, 5800] loss: 1.146\n",
            "[2, 5900] loss: 1.055\n",
            "[2, 6000] loss: 1.088\n",
            "[2, 6100] loss: 1.011\n",
            "[2, 6200] loss: 1.169\n",
            "[2, 6300] loss: 1.184\n",
            "[2, 6400] loss: 1.026\n",
            "[2, 6500] loss: 1.137\n",
            "[2, 6600] loss: 1.216\n",
            "[2, 6700] loss: 1.069\n",
            "[2, 6800] loss: 1.086\n",
            "[2, 6900] loss: 1.081\n",
            "[2, 7000] loss: 1.201\n",
            "[2, 7100] loss: 1.030\n",
            "[2, 7200] loss: 1.112\n",
            "[2, 7300] loss: 1.103\n",
            "[2, 7400] loss: 1.216\n",
            "[2, 7500] loss: 1.194\n",
            "[2, 7600] loss: 1.101\n",
            "[2, 7700] loss: 1.150\n",
            "[2, 7800] loss: 1.130\n",
            "[2, 7900] loss: 1.113\n",
            "[2, 8000] loss: 1.083\n",
            "[2, 8100] loss: 1.183\n",
            "[2, 8200] loss: 1.134\n",
            "[2, 8300] loss: 1.116\n",
            "[2, 8400] loss: 1.132\n",
            "[2, 8500] loss: 1.033\n",
            "[2, 8600] loss: 1.173\n",
            "[2, 8700] loss: 1.211\n",
            "[2, 8800] loss: 1.088\n",
            "[2, 8900] loss: 1.177\n",
            "[2, 9000] loss: 1.123\n",
            "[2, 9100] loss: 1.232\n",
            "[2, 9200] loss: 1.223\n",
            "[2, 9300] loss: 1.092\n",
            "[2, 9400] loss: 1.165\n",
            "[2, 9500] loss: 1.103\n",
            "[2, 9600] loss: 1.158\n",
            "[2, 9700] loss: 1.144\n",
            "[2, 9800] loss: 1.048\n",
            "[2, 9900] loss: 1.116\n",
            "[2, 10000] loss: 1.134\n",
            "[2, 10100] loss: 1.146\n",
            "[2, 10200] loss: 1.051\n",
            "[2, 10300] loss: 1.228\n",
            "[2, 10400] loss: 1.198\n",
            "[2, 10500] loss: 1.175\n",
            "[2, 10600] loss: 1.043\n",
            "[2, 10700] loss: 1.212\n",
            "[2, 10800] loss: 1.223\n",
            "[2, 10900] loss: 1.235\n",
            "[2, 11000] loss: 1.141\n",
            "[2, 11100] loss: 1.105\n",
            "[2, 11200] loss: 1.077\n",
            "[2, 11300] loss: 1.030\n",
            "[2, 11400] loss: 1.101\n",
            "[2, 11500] loss: 1.132\n",
            "[2, 11600] loss: 1.028\n",
            "[2, 11700] loss: 1.152\n",
            "[2, 11800] loss: 1.197\n",
            "[2, 11900] loss: 1.146\n",
            "[2, 12000] loss: 1.082\n",
            "[2, 12100] loss: 0.977\n",
            "[2, 12200] loss: 1.164\n",
            "[2, 12300] loss: 1.115\n",
            "[2, 12400] loss: 1.158\n",
            "[2, 12500] loss: 1.117\n",
            "[3, 100] loss: 1.121\n",
            "[3, 200] loss: 1.074\n",
            "[3, 300] loss: 0.964\n",
            "[3, 400] loss: 0.994\n",
            "[3, 500] loss: 0.899\n",
            "[3, 600] loss: 1.103\n",
            "[3, 700] loss: 1.042\n",
            "[3, 800] loss: 1.008\n",
            "[3, 900] loss: 1.004\n",
            "[3, 1000] loss: 1.101\n",
            "[3, 1100] loss: 1.018\n",
            "[3, 1200] loss: 1.012\n",
            "[3, 1300] loss: 1.135\n",
            "[3, 1400] loss: 0.966\n",
            "[3, 1500] loss: 1.026\n",
            "[3, 1600] loss: 1.066\n",
            "[3, 1700] loss: 1.097\n",
            "[3, 1800] loss: 1.085\n",
            "[3, 1900] loss: 0.954\n",
            "[3, 2000] loss: 1.064\n",
            "[3, 2100] loss: 1.185\n",
            "[3, 2200] loss: 1.092\n",
            "[3, 2300] loss: 1.027\n",
            "[3, 2400] loss: 1.054\n",
            "[3, 2500] loss: 1.100\n",
            "[3, 2600] loss: 1.085\n",
            "[3, 2700] loss: 0.993\n",
            "[3, 2800] loss: 1.188\n",
            "[3, 2900] loss: 1.038\n",
            "[3, 3000] loss: 1.058\n",
            "[3, 3100] loss: 0.957\n",
            "[3, 3200] loss: 1.042\n",
            "[3, 3300] loss: 1.192\n",
            "[3, 3400] loss: 1.057\n",
            "[3, 3500] loss: 1.079\n",
            "[3, 3600] loss: 1.209\n",
            "[3, 3700] loss: 1.072\n",
            "[3, 3800] loss: 1.140\n",
            "[3, 3900] loss: 1.089\n",
            "[3, 4000] loss: 1.045\n",
            "[3, 4100] loss: 1.007\n",
            "[3, 4200] loss: 1.101\n",
            "[3, 4300] loss: 1.161\n",
            "[3, 4400] loss: 0.971\n",
            "[3, 4500] loss: 1.045\n",
            "[3, 4600] loss: 1.178\n",
            "[3, 4700] loss: 1.031\n",
            "[3, 4800] loss: 1.060\n",
            "[3, 4900] loss: 1.198\n",
            "[3, 5000] loss: 1.007\n",
            "[3, 5100] loss: 1.089\n",
            "[3, 5200] loss: 1.069\n",
            "[3, 5300] loss: 1.128\n",
            "[3, 5400] loss: 1.130\n",
            "[3, 5500] loss: 1.031\n",
            "[3, 5600] loss: 1.171\n",
            "[3, 5700] loss: 1.144\n",
            "[3, 5800] loss: 1.146\n",
            "[3, 5900] loss: 0.960\n",
            "[3, 6000] loss: 1.111\n",
            "[3, 6100] loss: 1.146\n",
            "[3, 6200] loss: 1.025\n",
            "[3, 6300] loss: 0.950\n",
            "[3, 6400] loss: 1.171\n",
            "[3, 6500] loss: 1.174\n",
            "[3, 6600] loss: 1.081\n",
            "[3, 6700] loss: 1.015\n",
            "[3, 6800] loss: 1.153\n",
            "[3, 6900] loss: 1.045\n",
            "[3, 7000] loss: 1.081\n",
            "[3, 7100] loss: 1.203\n",
            "[3, 7200] loss: 1.139\n",
            "[3, 7300] loss: 1.074\n",
            "[3, 7400] loss: 1.091\n",
            "[3, 7500] loss: 1.056\n",
            "[3, 7600] loss: 0.969\n",
            "[3, 7700] loss: 1.190\n",
            "[3, 7800] loss: 1.086\n",
            "[3, 7900] loss: 1.042\n",
            "[3, 8000] loss: 1.018\n",
            "[3, 8100] loss: 1.050\n",
            "[3, 8200] loss: 1.102\n",
            "[3, 8300] loss: 1.122\n",
            "[3, 8400] loss: 1.168\n",
            "[3, 8500] loss: 1.141\n",
            "[3, 8600] loss: 1.134\n",
            "[3, 8700] loss: 1.086\n",
            "[3, 8800] loss: 1.088\n",
            "[3, 8900] loss: 1.153\n",
            "[3, 9000] loss: 1.042\n",
            "[3, 9100] loss: 1.210\n",
            "[3, 9200] loss: 1.052\n",
            "[3, 9300] loss: 1.057\n",
            "[3, 9400] loss: 1.117\n",
            "[3, 9500] loss: 1.070\n",
            "[3, 9600] loss: 1.073\n",
            "[3, 9700] loss: 1.050\n",
            "[3, 9800] loss: 1.125\n",
            "[3, 9900] loss: 1.114\n",
            "[3, 10000] loss: 1.139\n",
            "[3, 10100] loss: 1.221\n",
            "[3, 10200] loss: 1.260\n",
            "[3, 10300] loss: 1.104\n",
            "[3, 10400] loss: 1.082\n",
            "[3, 10500] loss: 1.024\n",
            "[3, 10600] loss: 1.091\n",
            "[3, 10700] loss: 1.059\n",
            "[3, 10800] loss: 1.118\n",
            "[3, 10900] loss: 1.122\n",
            "[3, 11000] loss: 1.175\n",
            "[3, 11100] loss: 1.087\n",
            "[3, 11200] loss: 1.012\n",
            "[3, 11300] loss: 1.237\n",
            "[3, 11400] loss: 1.063\n",
            "[3, 11500] loss: 1.017\n",
            "[3, 11600] loss: 1.134\n",
            "[3, 11700] loss: 1.100\n",
            "[3, 11800] loss: 1.178\n",
            "[3, 11900] loss: 1.082\n",
            "[3, 12000] loss: 1.126\n",
            "[3, 12100] loss: 1.202\n",
            "[3, 12200] loss: 1.103\n",
            "[3, 12300] loss: 1.083\n",
            "[3, 12400] loss: 1.073\n",
            "[3, 12500] loss: 1.174\n"
          ]
        }
      ]
    }
  ],
  "metadata": {
    "kernelspec": {
      "display_name": "Python 3",
      "name": "python3"
    },
    "language_info": {
      "codemirror_mode": {
        "name": "ipython",
        "version": 3
      },
      "file_extension": ".py",
      "mimetype": "text/x-python",
      "name": "python",
      "nbconvert_exporter": "python",
      "pygments_lexer": "ipython3",
      "version": "3.6.6"
    },
    "colab": {
      "provenance": [],
      "gpuType": "T4",
      "include_colab_link": true
    },
    "accelerator": "GPU"
  },
  "nbformat": 4,
  "nbformat_minor": 0
}